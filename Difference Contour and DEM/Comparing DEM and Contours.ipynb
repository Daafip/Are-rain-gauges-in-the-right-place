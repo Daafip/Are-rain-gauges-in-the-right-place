{
 "cells": [
  {
   "cell_type": "code",
   "execution_count": 1,
   "id": "5e327bc3",
   "metadata": {},
   "outputs": [],
   "source": [
    "import matplotlib.pyplot as plt\n",
    "%matplotlib inline\n",
    "import pandas as pd"
   ]
  },
  {
   "cell_type": "code",
   "execution_count": 2,
   "id": "42fe29c0",
   "metadata": {},
   "outputs": [],
   "source": [
    "contour = pd.read_csv(\"Slope computed from contour.csv\",index_col=0)\n",
    "DEM = pd.read_csv(\"Slopes computed from DEM.csv\",index_col=0)"
   ]
  },
  {
   "cell_type": "code",
   "execution_count": 3,
   "id": "1cf7c9f0",
   "metadata": {},
   "outputs": [
    {
     "data": {
      "text/html": [
       "<div>\n",
       "<style scoped>\n",
       "    .dataframe tbody tr th:only-of-type {\n",
       "        vertical-align: middle;\n",
       "    }\n",
       "\n",
       "    .dataframe tbody tr th {\n",
       "        vertical-align: top;\n",
       "    }\n",
       "\n",
       "    .dataframe thead th {\n",
       "        text-align: right;\n",
       "    }\n",
       "</style>\n",
       "<table border=\"1\" class=\"dataframe\">\n",
       "  <thead>\n",
       "    <tr style=\"text-align: right;\">\n",
       "      <th></th>\n",
       "      <th>src_id</th>\n",
       "      <th>computed_height</th>\n",
       "      <th>difference_height</th>\n",
       "      <th>slope_steepness</th>\n",
       "      <th>abs_slope_steepness</th>\n",
       "      <th>dir_slope_steepness</th>\n",
       "    </tr>\n",
       "  </thead>\n",
       "  <tbody>\n",
       "    <tr>\n",
       "      <th>0</th>\n",
       "      <td>3</td>\n",
       "      <td>57</td>\n",
       "      <td>0</td>\n",
       "      <td>14.2</td>\n",
       "      <td>14.2</td>\n",
       "      <td>nw-se</td>\n",
       "    </tr>\n",
       "  </tbody>\n",
       "</table>\n",
       "</div>"
      ],
      "text/plain": [
       "   src_id  computed_height  difference_height  slope_steepness  \\\n",
       "0       3               57                  0             14.2   \n",
       "\n",
       "   abs_slope_steepness dir_slope_steepness  \n",
       "0                 14.2               nw-se  "
      ]
     },
     "execution_count": 3,
     "metadata": {},
     "output_type": "execute_result"
    }
   ],
   "source": [
    "DEM_sparse = DEM.drop(columns=['level_0', 'station_na', 'station_fi',\n",
    "       'historic_c', 'station_la', 'station_lo', 'station_el', 'first_year',\n",
    "       'last_year', 'raster_id', 'geometry'])\n",
    "DEM_sparse.head(1)"
   ]
  },
  {
   "cell_type": "code",
   "execution_count": 4,
   "id": "f6505faa",
   "metadata": {},
   "outputs": [
    {
     "data": {
      "text/html": [
       "<div>\n",
       "<style scoped>\n",
       "    .dataframe tbody tr th:only-of-type {\n",
       "        vertical-align: middle;\n",
       "    }\n",
       "\n",
       "    .dataframe tbody tr th {\n",
       "        vertical-align: top;\n",
       "    }\n",
       "\n",
       "    .dataframe thead th {\n",
       "        text-align: right;\n",
       "    }\n",
       "</style>\n",
       "<table border=\"1\" class=\"dataframe\">\n",
       "  <thead>\n",
       "    <tr style=\"text-align: right;\">\n",
       "      <th></th>\n",
       "      <th>src_id</th>\n",
       "      <th>station_na</th>\n",
       "      <th>station_fi</th>\n",
       "      <th>historic_c</th>\n",
       "      <th>station_la</th>\n",
       "      <th>station_lo</th>\n",
       "      <th>station_el</th>\n",
       "      <th>first_year</th>\n",
       "      <th>last_year</th>\n",
       "      <th>geometry</th>\n",
       "      <th>Slope_resorted</th>\n",
       "      <th>Slope_sorted</th>\n",
       "    </tr>\n",
       "  </thead>\n",
       "  <tbody>\n",
       "    <tr>\n",
       "      <th>0</th>\n",
       "      <td>3</td>\n",
       "      <td>FAIR ISLE</td>\n",
       "      <td>fair-isle</td>\n",
       "      <td>shetland</td>\n",
       "      <td>59.526</td>\n",
       "      <td>-1.63</td>\n",
       "      <td>57</td>\n",
       "      <td>1974</td>\n",
       "      <td>2020</td>\n",
       "      <td>POINT (-1.63 59.526)</td>\n",
       "      <td>30.63</td>\n",
       "      <td>38.76</td>\n",
       "    </tr>\n",
       "  </tbody>\n",
       "</table>\n",
       "</div>"
      ],
      "text/plain": [
       "   src_id station_na station_fi historic_c  station_la  station_lo  \\\n",
       "0       3  FAIR ISLE  fair-isle   shetland      59.526       -1.63   \n",
       "\n",
       "   station_el  first_year  last_year              geometry  Slope_resorted  \\\n",
       "0          57        1974       2020  POINT (-1.63 59.526)           30.63   \n",
       "\n",
       "   Slope_sorted  \n",
       "0         38.76  "
      ]
     },
     "execution_count": 4,
     "metadata": {},
     "output_type": "execute_result"
    }
   ],
   "source": [
    "contour.head(1)"
   ]
  },
  {
   "cell_type": "code",
   "execution_count": 5,
   "id": "e09463b1",
   "metadata": {},
   "outputs": [
    {
     "data": {
      "text/html": [
       "<div>\n",
       "<style scoped>\n",
       "    .dataframe tbody tr th:only-of-type {\n",
       "        vertical-align: middle;\n",
       "    }\n",
       "\n",
       "    .dataframe tbody tr th {\n",
       "        vertical-align: top;\n",
       "    }\n",
       "\n",
       "    .dataframe thead th {\n",
       "        text-align: right;\n",
       "    }\n",
       "</style>\n",
       "<table border=\"1\" class=\"dataframe\">\n",
       "  <thead>\n",
       "    <tr style=\"text-align: right;\">\n",
       "      <th></th>\n",
       "      <th>src_id</th>\n",
       "      <th>station_na</th>\n",
       "      <th>station_fi</th>\n",
       "      <th>historic_c</th>\n",
       "      <th>station_la</th>\n",
       "      <th>station_lo</th>\n",
       "      <th>station_el</th>\n",
       "      <th>first_year</th>\n",
       "      <th>last_year</th>\n",
       "      <th>geometry</th>\n",
       "      <th>Slope_resorted</th>\n",
       "      <th>Slope_sorted</th>\n",
       "      <th>computed_height</th>\n",
       "      <th>difference_height</th>\n",
       "      <th>slope_steepness</th>\n",
       "      <th>abs_slope_steepness</th>\n",
       "      <th>dir_slope_steepness</th>\n",
       "    </tr>\n",
       "  </thead>\n",
       "  <tbody>\n",
       "    <tr>\n",
       "      <th>0</th>\n",
       "      <td>3</td>\n",
       "      <td>FAIR ISLE</td>\n",
       "      <td>fair-isle</td>\n",
       "      <td>shetland</td>\n",
       "      <td>59.526</td>\n",
       "      <td>-1.63</td>\n",
       "      <td>57</td>\n",
       "      <td>1974</td>\n",
       "      <td>2020</td>\n",
       "      <td>POINT (-1.63 59.526)</td>\n",
       "      <td>30.63</td>\n",
       "      <td>38.76</td>\n",
       "      <td>57</td>\n",
       "      <td>0</td>\n",
       "      <td>14.2</td>\n",
       "      <td>14.2</td>\n",
       "      <td>nw-se</td>\n",
       "    </tr>\n",
       "  </tbody>\n",
       "</table>\n",
       "</div>"
      ],
      "text/plain": [
       "   src_id station_na station_fi historic_c  station_la  station_lo  \\\n",
       "0       3  FAIR ISLE  fair-isle   shetland      59.526       -1.63   \n",
       "\n",
       "   station_el  first_year  last_year              geometry  Slope_resorted  \\\n",
       "0          57        1974       2020  POINT (-1.63 59.526)           30.63   \n",
       "\n",
       "   Slope_sorted  computed_height  difference_height  slope_steepness  \\\n",
       "0         38.76               57                  0             14.2   \n",
       "\n",
       "   abs_slope_steepness dir_slope_steepness  \n",
       "0                 14.2               nw-se  "
      ]
     },
     "execution_count": 5,
     "metadata": {},
     "output_type": "execute_result"
    }
   ],
   "source": [
    "combined = contour.merge(DEM_sparse,on=\"src_id\")\n",
    "combined.head(1)"
   ]
  },
  {
   "cell_type": "code",
   "execution_count": 6,
   "id": "5e46301a",
   "metadata": {},
   "outputs": [
    {
     "data": {
      "text/html": [
       "<div>\n",
       "<style scoped>\n",
       "    .dataframe tbody tr th:only-of-type {\n",
       "        vertical-align: middle;\n",
       "    }\n",
       "\n",
       "    .dataframe tbody tr th {\n",
       "        vertical-align: top;\n",
       "    }\n",
       "\n",
       "    .dataframe thead th {\n",
       "        text-align: right;\n",
       "    }\n",
       "</style>\n",
       "<table border=\"1\" class=\"dataframe\">\n",
       "  <thead>\n",
       "    <tr style=\"text-align: right;\">\n",
       "      <th></th>\n",
       "      <th>src_id</th>\n",
       "      <th>station_na</th>\n",
       "      <th>station_fi</th>\n",
       "      <th>historic_c</th>\n",
       "      <th>station_la</th>\n",
       "      <th>station_lo</th>\n",
       "      <th>station_el</th>\n",
       "      <th>first_year</th>\n",
       "      <th>last_year</th>\n",
       "      <th>geometry</th>\n",
       "      <th>Slope_resorted</th>\n",
       "      <th>Slope_sorted</th>\n",
       "      <th>computed_height</th>\n",
       "      <th>difference_height</th>\n",
       "      <th>slope_steepness</th>\n",
       "      <th>abs_slope_steepness</th>\n",
       "      <th>dir_slope_steepness</th>\n",
       "      <th>difference_DEM_Contour</th>\n",
       "      <th>abs_difference_DEM_Contour</th>\n",
       "    </tr>\n",
       "  </thead>\n",
       "  <tbody>\n",
       "    <tr>\n",
       "      <th>0</th>\n",
       "      <td>3</td>\n",
       "      <td>FAIR ISLE</td>\n",
       "      <td>fair-isle</td>\n",
       "      <td>shetland</td>\n",
       "      <td>59.526</td>\n",
       "      <td>-1.63</td>\n",
       "      <td>57</td>\n",
       "      <td>1974</td>\n",
       "      <td>2020</td>\n",
       "      <td>POINT (-1.63 59.526)</td>\n",
       "      <td>30.63</td>\n",
       "      <td>38.76</td>\n",
       "      <td>57</td>\n",
       "      <td>0</td>\n",
       "      <td>14.2</td>\n",
       "      <td>14.2</td>\n",
       "      <td>nw-se</td>\n",
       "      <td>16.43</td>\n",
       "      <td>16.43</td>\n",
       "    </tr>\n",
       "  </tbody>\n",
       "</table>\n",
       "</div>"
      ],
      "text/plain": [
       "   src_id station_na station_fi historic_c  station_la  station_lo  \\\n",
       "0       3  FAIR ISLE  fair-isle   shetland      59.526       -1.63   \n",
       "\n",
       "   station_el  first_year  last_year              geometry  Slope_resorted  \\\n",
       "0          57        1974       2020  POINT (-1.63 59.526)           30.63   \n",
       "\n",
       "   Slope_sorted  computed_height  difference_height  slope_steepness  \\\n",
       "0         38.76               57                  0             14.2   \n",
       "\n",
       "   abs_slope_steepness dir_slope_steepness  difference_DEM_Contour  \\\n",
       "0                 14.2               nw-se                   16.43   \n",
       "\n",
       "   abs_difference_DEM_Contour  \n",
       "0                       16.43  "
      ]
     },
     "execution_count": 6,
     "metadata": {},
     "output_type": "execute_result"
    }
   ],
   "source": [
    "combined[\"difference_DEM_Contour\"] = combined.Slope_resorted - combined.abs_slope_steepness\n",
    "combined[\"abs_difference_DEM_Contour\"] = abs(combined.Slope_resorted - combined.abs_slope_steepness)\n",
    "combined.head(1)"
   ]
  },
  {
   "cell_type": "code",
   "execution_count": 7,
   "id": "e2f8d626",
   "metadata": {
    "scrolled": true
   },
   "outputs": [
    {
     "data": {
      "image/png": "[encoded data removed]",
      "text/plain": [
       "<Figure size 1080x360 with 3 Axes>"
      ]
     },
     "metadata": {
      "needs_background": "light"
     },
     "output_type": "display_data"
    }
   ],
   "source": [
    "less_than_all = combined.src_id.count()\n",
    "less_than_20 = combined.query(\"abs_difference_DEM_Contour < 20\").src_id.count()\n",
    "less_than_10 = combined.query(\"abs_difference_DEM_Contour < 10\").src_id.count()\n",
    "less_than_5 = combined.query(\"abs_difference_DEM_Contour < 5\").src_id.count()\n",
    "\n",
    "fig, ax = plt.subplots(1,3, constrained_layout=True, figsize=(15,5))\n",
    "title = 'Difference between contour and DEM'\n",
    "fig.suptitle(title,y=1.04,fontsize=16)\n",
    "\n",
    "combined.difference_DEM_Contour.plot(style=\"o\",ax=ax[0],label='_nolegend_')\n",
    "ax[0].set_title(\"Unfiltered difference\")\n",
    "ax[0].axhline(10,color=\"red\", linestyle=\"dashed\",alpha=0.3,label=f\"+10/-10\")\n",
    "ax[0].axhline(-10,color=\"red\", linestyle=\"dashed\",alpha=0.3)\n",
    "ax[0].axhline(0,color=\"red\", linestyle=\"dashed\",alpha=0.7,label=f\"0\")\n",
    "ax[0].set_ylabel(\"Steepness (%)\")\n",
    "ax[0].set_xlabel(\"Station ID\")\n",
    "ax[0].legend()\n",
    "\n",
    "combined.abs_difference_DEM_Contour.plot(style=\"o\",ax=ax[1],label=f\"{less_than_all}\")\n",
    "ax[1].set_title(\"Absolute difference\")\n",
    "ax[1].axhline(20,color=\"red\", linestyle=\"dashed\",alpha=0.3,label=f\"{less_than_20}\")\n",
    "ax[1].axhline(10,color=\"red\", linestyle=\"dashed\",alpha=0.5,label=f\"{less_than_10}\")\n",
    "ax[1].axhline(5,color=\"red\", linestyle=\"dashed\",alpha=0.7,label=f\"{less_than_5}\")\n",
    "ax[1].set_ylabel(\"Steepness (%)\")\n",
    "ax[1].set_xlabel(\"Station ID\")\n",
    "ax[1].plot([], [], 'k*', label=\"Number of stations:\") # trick to add label to the legens\n",
    "ax[1].legend()\n",
    "\n",
    "pd.DataFrame(combined, \\\n",
    "             columns=[\"abs_slope_steepness\",\"Slope_resorted\"])\\\n",
    "            .astype(float).plot.box(ax=ax[2])\n",
    "\n",
    "\n",
    "ax[2].set_title(\"Boxplot of slope steepness\")\n",
    "ax[2].get_yaxis().set_visible(False)\n",
    "ax[2].set_xticks(ax[2].get_xticks(),[\"DEM\",\"Contour\"])\n",
    "\n",
    "\n",
    "ax[1].figure.savefig(f'{title}.jpg',bbox_inches='tight')"
   ]
  },
  {
   "cell_type": "code",
   "execution_count": 8,
   "id": "dfb26e8a",
   "metadata": {},
   "outputs": [
    {
     "data": {
      "image/png": "[encoded data removed]",
      "text/plain": [
       "<Figure size 432x288 with 1 Axes>"
      ]
     },
     "metadata": {
      "needs_background": "light"
     },
     "output_type": "display_data"
    }
   ],
   "source": [
    "pd.DataFrame(combined, columns=[\"abs_slope_steepness\",\"Slope_resorted\"]).astype(float).plot.box(labels=[\"DEM\",\"Contour\"])\n",
    "plt.title(\"Boxplot of slope steepness\")\n",
    "plt.xticks(plt.xticks()[0],[\"DEM\",\"Contour\"])\n",
    "plt.ylabel(\"Steepness (%)\")\n",
    "plt.savefig(\"Slopesteepness Boxplot DEM vs resorted.jpg\")"
   ]
  }
 ],
 "metadata": {
  "kernelspec": {
   "display_name": "python-gis",
   "language": "python",
   "name": "python-gis"
  },
  "language_info": {
   "codemirror_mode": {
    "name": "ipython",
    "version": 3
   },
   "file_extension": ".py",
   "mimetype": "text/x-python",
   "name": "python",
   "nbconvert_exporter": "python",
   "pygments_lexer": "ipython3",
   "version": "3.10.2"
  }
 },
 "nbformat": 4,
 "nbformat_minor": 5
}
