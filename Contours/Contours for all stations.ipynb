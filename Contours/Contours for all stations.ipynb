{
 "cells": [
  {
   "cell_type": "code",
   "execution_count": 1,
   "id": "371cbdaa",
   "metadata": {},
   "outputs": [],
   "source": [
    "import pandas as pd\n",
    "import matplotlib.pyplot as plt\n",
    "import matplotlib as mpl\n",
    "import numpy as np\n",
    "import geopandas as gpd\n",
    "import pandas as pd\n",
    "# from geopy.distance import geodesic\n",
    "# import seaborn as sns\n",
    "import warnings\n",
    "import shapely\n",
    "import time\n",
    "import cartopy.crs as ccrs\n",
    "%matplotlib inline\n",
    "mpl.rcParams['lines.linewidth'] = 1\n",
    "mpl.rcParams['lines.linestyle'] = '--'\n",
    "mpl.rcParams[\"figure.figsize\"] = [8,8]\n",
    "mpl.rcParams['lines.markersize'] = 5"
   ]
  },
  {
   "cell_type": "code",
   "execution_count": null,
   "id": "0ae382a0",
   "metadata": {},
   "outputs": [],
   "source": []
  },
  {
   "cell_type": "code",
   "execution_count": null,
   "id": "4294489c",
   "metadata": {},
   "outputs": [],
   "source": []
  },
  {
   "cell_type": "code",
   "execution_count": 2,
   "id": "cfdb3bdd",
   "metadata": {},
   "outputs": [],
   "source": [
    "daily_gauges = gpd.read_file(\"Contour Data/Daily-Gauges-UK.shp\",crs=4326)\n",
    "hourly_gauges = gpd.read_file(\"Contour Data/Hourly-Gauges-UK.shp\",crs=4326)"
   ]
  },
  {
   "cell_type": "markdown",
   "id": "d381f3ef",
   "metadata": {},
   "source": [
    "#### Merge all hourly and dialy gauges still recording for the MET office in 2020"
   ]
  },
  {
   "cell_type": "code",
   "execution_count": 3,
   "id": "13b03510",
   "metadata": {},
   "outputs": [
    {
     "name": "stderr",
     "output_type": "stream",
     "text": [
      "C:\\Users\\david\\AppData\\Local\\Temp\\ipykernel_11844\\4224330975.py:1: FutureWarning: The frame.append method is deprecated and will be removed from pandas in a future version. Use pandas.concat instead.\n",
      "  gauges = hourly_gauges.append(daily_gauges)\n"
     ]
    }
   ],
   "source": [
    "gauges = hourly_gauges.append(daily_gauges)"
   ]
  },
  {
   "cell_type": "code",
   "execution_count": 4,
   "id": "9dc8590c",
   "metadata": {},
   "outputs": [
    {
     "data": {
      "text/plain": [
       "368"
      ]
     },
     "execution_count": 4,
     "metadata": {},
     "output_type": "execute_result"
    }
   ],
   "source": [
    "gauges.src_id.count()"
   ]
  },
  {
   "cell_type": "markdown",
   "id": "fe614c9b",
   "metadata": {},
   "source": [
    "### Code to load different grid part"
   ]
  },
  {
   "cell_type": "code",
   "execution_count": 5,
   "id": "88ea5053",
   "metadata": {},
   "outputs": [],
   "source": [
    "def bulk_import_shapefiles(file_prefix=\"ny\",n=2,file_type=\"point\"):\n",
    "    \"\"\"\n",
    "    Allows  easy import of shapefiles, use the format as shown in the function.\n",
    "    Returns two lists: one lst of the geopandas dataframe, other the centres of each grid.\n",
    "    \"\"\"\n",
    "    lst_files = []\n",
    "    lst_grid = []\n",
    "    for i in range(n+1):\n",
    "        # add prefix 0 to single digits\n",
    "#         print(i,end=\"\\r\")\n",
    "        if i < 10:\n",
    "            index = f\"0{i}\"\n",
    "        else:\n",
    "            index = i\n",
    "        try:\n",
    "            # define path name\n",
    "            filename = f\"Contour Data/Contours/{file_prefix}/{file_prefix.upper()}{index}_{file_type}.shp\"\n",
    "            with open(filename):\n",
    "                pass\n",
    "            # read file\n",
    "            shapefile = gpd.read_file(filename)\n",
    "            shapefile.to_crs(epsg=4326,inplace=True)\n",
    "            if file_type == \"point\":\n",
    "                # indexing code to later find which shapefile we want per gauge: this is with centroids\n",
    "                warnings.simplefilter(\"ignore\")\n",
    "                lst_grid.append(shapefile.dissolve().centroid[0])\n",
    "            ## Inefficient Code\n",
    "#             if file_type is None:\n",
    "#                 # indexing code to later find which shapefile we want per gauge: this is with the bounds of the contours\n",
    "#                 boundaries = shapefile.dissolve().bounds.to_numpy()[0]\n",
    "#                 lst_grid.append(Point((boundaries[0] + boundaries[2])/2,(boundaries[1] + boundaries[3])/2))\n",
    "                \n",
    "            \n",
    "            # append the df to a list\n",
    "            lst_files.append(shapefile)\n",
    "            \n",
    "        # NY31 doesn't exsist so we do it this way to deal with it\n",
    "        except FileNotFoundError:\n",
    "            lst_files.append(None)\n",
    "            lst_grid.append(None)\n",
    "#             print(f\"Missing:{filename}\")\n",
    "            pass\n",
    "    # finally return it \n",
    "    return lst_files,lst_grid"
   ]
  },
  {
   "cell_type": "code",
   "execution_count": 6,
   "id": "4f374d96",
   "metadata": {},
   "outputs": [],
   "source": [
    "def select_closest_grid(gauge):\n",
    "    \"\"\"\n",
    "    Takes the grid refference closest to the gauge and returns that index.\n",
    "    \"\"\"\n",
    "    lst_distances = []\n",
    "    for i in lst_grid_point:\n",
    "        if i is None:\n",
    "            lst_distances.append(np.inf)\n",
    "        else:\n",
    "            lst_distances.append(i.distance(gauge))\n",
    "    closest = min(lst_distances)\n",
    "    return lst_distances.index(closest)\n",
    "\n",
    "def select_closest_dist(gauge):\n",
    "    \"\"\"\n",
    "    Takes the grid refference closest to the gauge and returns the distance.\n",
    "    \"\"\"\n",
    "    lst_distances = []\n",
    "    for i in lst_grid_point:\n",
    "        if i is None:\n",
    "            lst_distances.append(np.inf)\n",
    "        else:\n",
    "            lst_distances.append(i.distance(gauge))\n",
    "    closest = min(lst_distances)*10**5\n",
    "    return closest\n",
    "\n",
    "def select_closest_diff(gauge):\n",
    "    \"\"\"\n",
    "    Takes the grid refference closest to the gauge and returns the distance.\n",
    "    \"\"\"\n",
    "    lst_distances = []\n",
    "    for i in lst_grid_point:\n",
    "        if i is None:\n",
    "            lst_distances.append(np.inf)\n",
    "        else:\n",
    "            lst_distances.append(i.distance(gauge))\n",
    "    closest1 = min(lst_distances)*10**5\n",
    "    for i in lst_grid_point:\n",
    "        if i is None:\n",
    "            lst_distances.append(np.inf)\n",
    "        else:\n",
    "            lst_distances.append(i.distance(gauge))\n",
    "    closest2 = min(lst_distances)*10**5\n",
    "    return closest"
   ]
  },
  {
   "cell_type": "code",
   "execution_count": 7,
   "id": "de7a6329",
   "metadata": {},
   "outputs": [],
   "source": [
    "def plot_station(index=0, annotate=False):\n",
    "    station = gauges_in_cell.iloc[index]\n",
    "#     base = plt.axes(projection=ccrs.PlateCarree())\n",
    "    base = lst_points[station.grid_id].plot(label= \"Spot Heights\",color=\"blue\", alpha = 0.6)\n",
    "    plt.plot(station.station_lo,station.station_la,\"ro\",label=f\"{station.station_na} weather station\")\n",
    "    lst_lines[station.grid_id].plot(ax=base,alpha =0.1)\n",
    "    plt.title(f\"Distance to gridcell center:{station.grid_id_distance/1000:.3f}km \")\n",
    "    plt.legend(bbox_to_anchor=(1, -0.05))\n",
    "    if annotate:\n",
    "        height = lst_points[station.grid_id].PROP_VALUE.to_numpy()\n",
    "        x = lst_points[station.grid_id].geometry.x.to_numpy()\n",
    "        y = lst_points[station.grid_id].geometry.y.to_numpy()\n",
    "        for i, txt in enumerate(height):\n",
    "            base.annotate(txt,(x[i],y[i]),label=\"Height above mean sea-level\")"
   ]
  },
  {
   "cell_type": "code",
   "execution_count": 8,
   "id": "0517bda7",
   "metadata": {},
   "outputs": [],
   "source": [
    "def get_df_per_station(index=0):\n",
    "    \"\"\"\n",
    "    Insert index of the gauges df and returns spotheights and contour dfs\n",
    "    \"\"\"\n",
    "    station = gauges_in_cell.iloc[index]\n",
    "    spot_heights = lst_points[station.grid_id]\n",
    "    contour_lines = lst_lines[station.grid_id]\n",
    "    return spot_heights, contour_lines"
   ]
  },
  {
   "cell_type": "code",
   "execution_count": 9,
   "id": "1e0c4a34",
   "metadata": {},
   "outputs": [],
   "source": [
    "def select_closest_contour(gauge_id=0):\n",
    "    \"\"\"\n",
    "    Takes gauge_id and returns df sorted by proximity of their centroids\n",
    "    \"\"\"\n",
    "    ### station needs to be defined\n",
    "    station = gauges_in_cell.iloc[gauge_id]\n",
    "    def distance_to_gauge(df):\n",
    "        \"\"\"Calculates distance to given station and adds to df column\"\"\"\n",
    "        return df.distance(station.geometry)\n",
    "    \n",
    "    spot_heights, contourlines = get_df_per_station(gauge_id)\n",
    "    contourlines['distance_to_gauge'] = contourlines.geometry.apply(distance_to_gauge)*10**5\n",
    "    return contourlines.sort_values('distance_to_gauge')\n"
   ]
  },
  {
   "cell_type": "code",
   "execution_count": 10,
   "id": "3edc2f96",
   "metadata": {},
   "outputs": [],
   "source": [
    "def distance_to_n_contours(index=0,selected_n=10):\n",
    "    \"\"\"\n",
    "    Repeats select_closest_contour() but for index of df, returns new df\n",
    "    \"\"\"\n",
    "    contours = select_closest_contour(index).head(selected_n)\n",
    "    point = gauges_in_cell.iloc[index].geometry\n",
    "    distance_contour = []\n",
    "    for i in range(selected_n):\n",
    "        line = contours.iloc[i].geometry\n",
    "        distance_contour.append(point.distance(line.interpolate(line.project(point)))*10**5)\n",
    "    return contours"
   ]
  },
  {
   "cell_type": "code",
   "execution_count": 11,
   "id": "8929d5c1",
   "metadata": {},
   "outputs": [],
   "source": [
    "def closest_point_on_contour(index=0,selected_n=10):\n",
    "        contours = select_closest_contour(index).head(selected_n)\n",
    "        rain_gauge = gauges_in_cell.iloc[index].geometry\n",
    "        \n",
    "        def point_on_contour(line):\n",
    "            \"\"\"finds point on contour used to project and  adds to df column\"\"\"\n",
    "            return line.interpolate(line.project(rain_gauge))\n",
    "    \n",
    "        contours[\"point_on_contour\"] = contours.geometry.apply(point_on_contour)\n",
    "        \n",
    "        return contours"
   ]
  },
  {
   "cell_type": "code",
   "execution_count": 12,
   "id": "0b970868",
   "metadata": {},
   "outputs": [],
   "source": [
    "def plot_closest_point_contours(index=0, annotate=False, spot_heights=False, distances=False, selected_n=10):\n",
    "    \"\"\"\n",
    "    Plots the given data till now\n",
    "    \"\"\"\n",
    "    \n",
    "    #calls main df and extracts needed data\n",
    "    station = gauges_in_cell.iloc[index]\n",
    "    base = select_closest_contour(index).head(selected_n).plot(alpha =0.5)\n",
    "    plt.plot(station.station_lo,station.station_la,\"ro\",label=f\"{station.station_na} weather station\")\n",
    "    \n",
    "    # adding the distance as title\n",
    "    if distances:\n",
    "        line = select_closest_contour(index).head(selected_n).iloc[0].geometry\n",
    "        point = gauges_in_cell.iloc[index].geometry\n",
    "        distance_contour=point.distance(line.interpolate(line.project(point)))*10**5\n",
    "        plt.title(f\"Distance to closest contour: {distance_contour:.3f}m \")\n",
    "    \n",
    "    \n",
    "    # plots spot heigts as wel as \n",
    "    if spot_heights:\n",
    "        lst_points[station.grid_id].plot(ax=base, label= \"contour_points\",color=\"blue\")\n",
    "        \n",
    "    # adds centroids and points on the contours\n",
    "    if annotate:\n",
    "        height = lst_points[station.grid_id].PROP_VALUE.to_numpy()\n",
    "        x = lst_points[station.grid_id].geometry.x.to_numpy()\n",
    "        y = lst_points[station.grid_id].geometry.y.to_numpy()\n",
    "        for i, txt in enumerate(height):\n",
    "            base.annotate(txt,(x[i],y[i]))\n",
    "        height = lst_lines[station.grid_id].PROP_VALUE.to_numpy()\n",
    "        \n",
    "    # adds centroids and points on the contours    \n",
    "    if selected_n < 31:\n",
    "        select_closest_contour(index).head(selected_n).centroid.plot(ax=base,label=\"centroid\",color=\"green\")\n",
    "        closest_point_on_contour(index).point_on_contour.plot(ax=base,label=\"Closest points on contours\",color=\"purple\")\n",
    "    plt.legend(bbox_to_anchor=(1, -0.05))\n",
    "    \n",
    "    # returns for more plotting after\n",
    "    return base"
   ]
  },
  {
   "cell_type": "code",
   "execution_count": 13,
   "id": "62a3e5bd",
   "metadata": {},
   "outputs": [],
   "source": [
    "def sorted_distance_between_points_on_contours(index=0, selected_n=10):\n",
    "    contour = closest_point_on_contour(index,selected_n)\n",
    "    points = contour.point_on_contour.to_numpy()\n",
    "    distance = []\n",
    "    for i in range(len(points)):\n",
    "        if i == len(points) - 1:\n",
    "            pass\n",
    "        else:\n",
    "            distance.append(round(points[i].distance(points[i+1])*10**5))\n",
    "    return distance"
   ]
  },
  {
   "cell_type": "code",
   "execution_count": 14,
   "id": "6a8d27bd",
   "metadata": {},
   "outputs": [],
   "source": [
    "def resorted_points_on_contours(index=0, selected_n=10):\n",
    "    contour = closest_point_on_contour(index,selected_n)\n",
    "    points = list(contour.point_on_contour.to_numpy())\n",
    "    \n",
    "    # start with the furthest Node\n",
    "    current_node = contour.point_on_contour.iloc[selected_n-1]\n",
    "    \n",
    "    # add this to the list of current nodes\n",
    "    index_chosen_points = [selected_n-1]\n",
    "    chosen_points = [current_node]\n",
    "    chosen_distances = []\n",
    "    \n",
    "    # and remove the node from out list, replacing it with none to preserve indexing\n",
    "    points[selected_n-1] = None\n",
    "    \n",
    "    #run untill 1 ellement left \n",
    "    while len(index_chosen_points) < len(points):\n",
    "        \n",
    "        # create a new list to store distances\n",
    "        lst_distance = []\n",
    "        \n",
    "        # loop over all points\n",
    "        for i in points:\n",
    "            # check its not already chosen\n",
    "            if i is not None:\n",
    "                # caculate distance from current to all others\n",
    "                lst_distance.append(round(current_node.distance(i)*10**5))\n",
    "            else:\n",
    "                # again preserving indexes\n",
    "                lst_distance.append(np.inf)\n",
    "        \n",
    "        # take the minimum of the caculated nodes and find the index\n",
    "        closest = min(lst_distance)\n",
    "        # print(lst_distance)\n",
    "        new_index = lst_distance.index(closest)\n",
    "        \n",
    "        # reassign new node and remove the current_node from the points list\n",
    "        current_node = contour.point_on_contour.iloc[selected_n-1]\n",
    "        points[new_index] = None\n",
    "        \n",
    "        # add this index to the selected list\n",
    "        index_chosen_points.append(new_index)\n",
    "        chosen_points.append(current_node)\n",
    "        chosen_distances.append(round(closest))\n",
    "        \n",
    "    return chosen_distances"
   ]
  },
  {
   "cell_type": "code",
   "execution_count": 41,
   "id": "6b2ad2ec",
   "metadata": {},
   "outputs": [],
   "source": [
    "def sorted_slope_steepness(index):\n",
    "    \"\"\"\n",
    "    rise / run * 100%\n",
    "    rise = 50m per contour\n",
    "    run  = computed distance\n",
    "    Takes averages and then turn into slope\n",
    "    \"\"\"\n",
    "    d = sorted_distance_between_points_on_contours(index)\n",
    "    return round((50 * 100) /(sum(d)/len(d)),2)\n",
    "\n",
    "def sorted_slope_steepness_method2(index):\n",
    "    \"\"\"\n",
    "    Turns into slope and then averages\n",
    "    \"\"\"\n",
    "    d = sorted_distance_between_points_on_contours(index)\n",
    "    lst = []\n",
    "    for i in d:\n",
    "        if i > 0:\n",
    "            lst.append(50 / i * 100)\n",
    "    return sum(lst)/len(lst)\n",
    "\n",
    "def resorted_slope_steepness(index):\n",
    "    \"\"\"\n",
    "    Takes averages and then turn into slope\n",
    "    \"\"\"\n",
    "    d = resorted_points_on_contours(index)\n",
    "    return round((50 * 100) /(sum(d)/len(d)),2)\n",
    "\n",
    "def resorted_slope_steepness_method2(index):\n",
    "    \"\"\"\n",
    "    Turns into slope and then averages\n",
    "    \"\"\"\n",
    "    d = resorted_points_on_contours(index)\n",
    "    lst = []\n",
    "    for i in d:\n",
    "        if i > 0:\n",
    "            lst.append(50 / i * 100)\n",
    "    return sum(lst)/len(lst)\n"
   ]
  },
  {
   "cell_type": "code",
   "execution_count": 42,
   "id": "b8bfdd1c",
   "metadata": {},
   "outputs": [],
   "source": [
    "gridnames = []\n",
    "with open(\"Final Data Output/gridnames.csv\") as fin:\n",
    "    for line in fin:\n",
    "        gridnames.append(line.strip())\n",
    "# gridnames"
   ]
  },
  {
   "cell_type": "code",
   "execution_count": 45,
   "id": "c66d0dd4",
   "metadata": {},
   "outputs": [
    {
     "name": "stdout",
     "output_type": "stream",
     "text": [
      "14.981 min\n"
     ]
    }
   ],
   "source": [
    "start = time.time()\n",
    "run = True\n",
    "if run:\n",
    "    for i, grid_id in enumerate(gridnames):\n",
    "        print(i,end=\"\\r\")\n",
    "        lst_points, lst_grid_point = bulk_import_shapefiles(grid_id, 99,\"point\")\n",
    "        lst_lines, empty_list = bulk_import_shapefiles(grid_id, 99,\"line\")\n",
    "\n",
    "        gauges[\"grid_id\"] = gauges.geometry.apply(select_closest_grid)\n",
    "        gauges[\"grid_id_distance\"] = gauges.geometry.apply(select_closest_dist)\n",
    "\n",
    "        gauges_in_cell = gauges.query(\"grid_id_distance < 5000\")\n",
    "        gauges_in_cell.reset_index(inplace=True)\n",
    "        gauges_in_cell.reset_index(inplace=True)\n",
    "        gauges_in_cell\n",
    "\n",
    "        gauges_in_cell[\"Slope_sorted\"] = gauges_in_cell.level_0.apply(sorted_slope_steepness)\n",
    "        gauges_in_cell[\"Slope_resorted\"] = gauges_in_cell.level_0.apply(resorted_slope_steepness)\n",
    "#         gauges_in_cell[\"Slope_sorted2\"] = gauges_in_cell.level_0.apply(sorted_slope_steepness_method2)\n",
    "#         gauges_in_cell[\"Slope_resorted2\"] = gauges_in_cell.level_0.apply(resorted_slope_steepness_method2)\n",
    "\n",
    "        gauges_in_cell.to_csv(f\"Output/{grid_id}.csv\",\n",
    "                              columns=[\"src_id\",\"Slope_sorted\",\"Slope_resorted\"]) #,\"Slope_sorted2\",\"Slope_resorted2\"])\n",
    "\n",
    "    end = time.time()\n",
    "    print(f'{(end - start)/60:.3f} min')"
   ]
  },
  {
   "cell_type": "code",
   "execution_count": 86,
   "id": "87677981",
   "metadata": {},
   "outputs": [],
   "source": [
    "i = \"hx\"\n",
    "\n",
    "# col = [1,2,3,4,5]\n",
    "col = [1,2,3]\n",
    "base = pd.read_csv(\"Output/\" + i + \".csv\",index_col=0,usecols=col)\n",
    "for i in gridnames:\n",
    "    base = base.append(pd.read_csv(\"Output/\" + i + \".csv\",usecols=col))\n",
    "    warnings.simplefilter(\"ignore\")\n",
    "    \n",
    "gauges.src_id = gauges.src_id.astype(int)\n",
    "base.src_id = base.src_id.astype(int)\n",
    "# for i in [\"Slope_resorted\",\"Slope_sorted2\",\"Slope_resorted2\",\"Slope_sorted\"]: \n",
    "#     base[i] = base[i].astype(float)"
   ]
  },
  {
   "cell_type": "code",
   "execution_count": 88,
   "id": "d6ac7945",
   "metadata": {},
   "outputs": [
    {
     "data": {
      "text/html": [
       "<div>\n",
       "<style scoped>\n",
       "    .dataframe tbody tr th:only-of-type {\n",
       "        vertical-align: middle;\n",
       "    }\n",
       "\n",
       "    .dataframe tbody tr th {\n",
       "        vertical-align: top;\n",
       "    }\n",
       "\n",
       "    .dataframe thead th {\n",
       "        text-align: right;\n",
       "    }\n",
       "</style>\n",
       "<table border=\"1\" class=\"dataframe\">\n",
       "  <thead>\n",
       "    <tr style=\"text-align: right;\">\n",
       "      <th></th>\n",
       "      <th>Slope_resorted</th>\n",
       "      <th>src_id</th>\n",
       "      <th>Slope_sorted</th>\n",
       "    </tr>\n",
       "  </thead>\n",
       "  <tbody>\n",
       "    <tr>\n",
       "      <th>0</th>\n",
       "      <td>27.24</td>\n",
       "      <td>3</td>\n",
       "      <td>43.44</td>\n",
       "    </tr>\n",
       "    <tr>\n",
       "      <th>0</th>\n",
       "      <td>8.32</td>\n",
       "      <td>9</td>\n",
       "      <td>11.57</td>\n",
       "    </tr>\n",
       "    <tr>\n",
       "      <th>0</th>\n",
       "      <td>7.3</td>\n",
       "      <td>12</td>\n",
       "      <td>8.99</td>\n",
       "    </tr>\n",
       "    <tr>\n",
       "      <th>0</th>\n",
       "      <td>4.33</td>\n",
       "      <td>23</td>\n",
       "      <td>12.69</td>\n",
       "    </tr>\n",
       "    <tr>\n",
       "      <th>0</th>\n",
       "      <td>11.44</td>\n",
       "      <td>32</td>\n",
       "      <td>8.94</td>\n",
       "    </tr>\n",
       "    <tr>\n",
       "      <th>...</th>\n",
       "      <td>...</td>\n",
       "      <td>...</td>\n",
       "      <td>...</td>\n",
       "    </tr>\n",
       "    <tr>\n",
       "      <th>5</th>\n",
       "      <td>7.75</td>\n",
       "      <td>62004</td>\n",
       "      <td>7.95</td>\n",
       "    </tr>\n",
       "    <tr>\n",
       "      <th>5</th>\n",
       "      <td>6.98</td>\n",
       "      <td>62015</td>\n",
       "      <td>6.76</td>\n",
       "    </tr>\n",
       "    <tr>\n",
       "      <th>6</th>\n",
       "      <td>3.16</td>\n",
       "      <td>62031</td>\n",
       "      <td>4.52</td>\n",
       "    </tr>\n",
       "    <tr>\n",
       "      <th>6</th>\n",
       "      <td>5.63</td>\n",
       "      <td>62039</td>\n",
       "      <td>13.01</td>\n",
       "    </tr>\n",
       "    <tr>\n",
       "      <th>6</th>\n",
       "      <td>7.04</td>\n",
       "      <td>62076</td>\n",
       "      <td>17.54</td>\n",
       "    </tr>\n",
       "  </tbody>\n",
       "</table>\n",
       "<p>205 rows × 3 columns</p>\n",
       "</div>"
      ],
      "text/plain": [
       "   Slope_resorted  src_id Slope_sorted\n",
       "0           27.24       3        43.44\n",
       "0            8.32       9        11.57\n",
       "0             7.3      12         8.99\n",
       "0            4.33      23        12.69\n",
       "0           11.44      32         8.94\n",
       "..            ...     ...          ...\n",
       "5            7.75   62004         7.95\n",
       "5            6.98   62015         6.76\n",
       "6            3.16   62031         4.52\n",
       "6            5.63   62039        13.01\n",
       "6            7.04   62076        17.54\n",
       "\n",
       "[205 rows x 3 columns]"
      ]
     },
     "execution_count": 88,
     "metadata": {},
     "output_type": "execute_result"
    }
   ],
   "source": [
    "base = base.sort_values(\"src_id\")\n",
    "base"
   ]
  },
  {
   "cell_type": "code",
   "execution_count": null,
   "id": "e15705b0",
   "metadata": {},
   "outputs": [],
   "source": []
  },
  {
   "cell_type": "code",
   "execution_count": 89,
   "id": "0e4f4023",
   "metadata": {},
   "outputs": [
    {
     "data": {
      "text/html": [
       "<div>\n",
       "<style scoped>\n",
       "    .dataframe tbody tr th:only-of-type {\n",
       "        vertical-align: middle;\n",
       "    }\n",
       "\n",
       "    .dataframe tbody tr th {\n",
       "        vertical-align: top;\n",
       "    }\n",
       "\n",
       "    .dataframe thead th {\n",
       "        text-align: right;\n",
       "    }\n",
       "</style>\n",
       "<table border=\"1\" class=\"dataframe\">\n",
       "  <thead>\n",
       "    <tr style=\"text-align: right;\">\n",
       "      <th></th>\n",
       "      <th>src_id</th>\n",
       "      <th>station_na</th>\n",
       "      <th>station_fi</th>\n",
       "      <th>historic_c</th>\n",
       "      <th>station_la</th>\n",
       "      <th>station_lo</th>\n",
       "      <th>station_el</th>\n",
       "      <th>first_year</th>\n",
       "      <th>last_year</th>\n",
       "      <th>geometry</th>\n",
       "      <th>grid_id</th>\n",
       "      <th>grid_id_distance</th>\n",
       "      <th>Slope_resorted</th>\n",
       "      <th>Slope_sorted</th>\n",
       "    </tr>\n",
       "  </thead>\n",
       "  <tbody>\n",
       "    <tr>\n",
       "      <th>0</th>\n",
       "      <td>3</td>\n",
       "      <td>FAIR ISLE</td>\n",
       "      <td>fair-isle</td>\n",
       "      <td>shetland</td>\n",
       "      <td>59.526</td>\n",
       "      <td>-1.630</td>\n",
       "      <td>57</td>\n",
       "      <td>1974</td>\n",
       "      <td>2020</td>\n",
       "      <td>POINT (-1.63000 59.52600)</td>\n",
       "      <td>49</td>\n",
       "      <td>8.923866e+05</td>\n",
       "      <td>27.24</td>\n",
       "      <td>43.44</td>\n",
       "    </tr>\n",
       "    <tr>\n",
       "      <th>1</th>\n",
       "      <td>9</td>\n",
       "      <td>LERWICK</td>\n",
       "      <td>lerwick</td>\n",
       "      <td>shetland</td>\n",
       "      <td>60.139</td>\n",
       "      <td>-1.185</td>\n",
       "      <td>82</td>\n",
       "      <td>1930</td>\n",
       "      <td>2020</td>\n",
       "      <td>POINT (-1.18500 60.13900)</td>\n",
       "      <td>49</td>\n",
       "      <td>9.455311e+05</td>\n",
       "      <td>8.32</td>\n",
       "      <td>11.57</td>\n",
       "    </tr>\n",
       "    <tr>\n",
       "      <th>2</th>\n",
       "      <td>12</td>\n",
       "      <td>BALTASOUND NO 2</td>\n",
       "      <td>baltasound-no-2</td>\n",
       "      <td>shetland</td>\n",
       "      <td>60.748</td>\n",
       "      <td>-0.856</td>\n",
       "      <td>15</td>\n",
       "      <td>1990</td>\n",
       "      <td>2020</td>\n",
       "      <td>POINT (-0.85600 60.74800)</td>\n",
       "      <td>49</td>\n",
       "      <td>1.002230e+06</td>\n",
       "      <td>7.3</td>\n",
       "      <td>8.99</td>\n",
       "    </tr>\n",
       "    <tr>\n",
       "      <th>3</th>\n",
       "      <td>23</td>\n",
       "      <td>KIRKWALL</td>\n",
       "      <td>kirkwall</td>\n",
       "      <td>orkney</td>\n",
       "      <td>58.953</td>\n",
       "      <td>-2.901</td>\n",
       "      <td>26</td>\n",
       "      <td>1957</td>\n",
       "      <td>2020</td>\n",
       "      <td>POINT (-2.90100 58.95300)</td>\n",
       "      <td>49</td>\n",
       "      <td>8.714545e+05</td>\n",
       "      <td>4.33</td>\n",
       "      <td>12.69</td>\n",
       "    </tr>\n",
       "    <tr>\n",
       "      <th>4</th>\n",
       "      <td>32</td>\n",
       "      <td>WICK AIRPORT</td>\n",
       "      <td>wick-airport</td>\n",
       "      <td>caithness</td>\n",
       "      <td>58.454</td>\n",
       "      <td>-3.090</td>\n",
       "      <td>36</td>\n",
       "      <td>1930</td>\n",
       "      <td>2020</td>\n",
       "      <td>POINT (-3.09000 58.45400)</td>\n",
       "      <td>49</td>\n",
       "      <td>8.318475e+05</td>\n",
       "      <td>11.44</td>\n",
       "      <td>8.94</td>\n",
       "    </tr>\n",
       "    <tr>\n",
       "      <th>...</th>\n",
       "      <td>...</td>\n",
       "      <td>...</td>\n",
       "      <td>...</td>\n",
       "      <td>...</td>\n",
       "      <td>...</td>\n",
       "      <td>...</td>\n",
       "      <td>...</td>\n",
       "      <td>...</td>\n",
       "      <td>...</td>\n",
       "      <td>...</td>\n",
       "      <td>...</td>\n",
       "      <td>...</td>\n",
       "      <td>...</td>\n",
       "      <td>...</td>\n",
       "    </tr>\n",
       "    <tr>\n",
       "      <th>200</th>\n",
       "      <td>56423</td>\n",
       "      <td>MIDDLETON, HILLSIDE</td>\n",
       "      <td>middleton-hillside</td>\n",
       "      <td>derbyshire</td>\n",
       "      <td>53.099</td>\n",
       "      <td>-1.589</td>\n",
       "      <td>295</td>\n",
       "      <td>2009</td>\n",
       "      <td>2020</td>\n",
       "      <td>POINT (-1.58900 53.09900)</td>\n",
       "      <td>49</td>\n",
       "      <td>2.875691e+05</td>\n",
       "      <td>13.32</td>\n",
       "      <td>45.23</td>\n",
       "    </tr>\n",
       "    <tr>\n",
       "      <th>201</th>\n",
       "      <td>7621</td>\n",
       "      <td>LINKENHOLT POST OFFICE</td>\n",
       "      <td>linkenholt-post-office</td>\n",
       "      <td>hampshire</td>\n",
       "      <td>51.320</td>\n",
       "      <td>-1.479</td>\n",
       "      <td>197</td>\n",
       "      <td>2013</td>\n",
       "      <td>2020</td>\n",
       "      <td>POINT (-1.47900 51.32000)</td>\n",
       "      <td>49</td>\n",
       "      <td>1.671327e+05</td>\n",
       "      <td>6.66</td>\n",
       "      <td>14.32</td>\n",
       "    </tr>\n",
       "    <tr>\n",
       "      <th>202</th>\n",
       "      <td>24219</td>\n",
       "      <td>MANNINGTON HALL</td>\n",
       "      <td>mannington-hall</td>\n",
       "      <td>norfolk</td>\n",
       "      <td>52.844</td>\n",
       "      <td>1.179</td>\n",
       "      <td>30</td>\n",
       "      <td>1999</td>\n",
       "      <td>2020</td>\n",
       "      <td>POINT (1.17900 52.84400)</td>\n",
       "      <td>69</td>\n",
       "      <td>2.259978e+05</td>\n",
       "      <td>2.99</td>\n",
       "      <td>2.8</td>\n",
       "    </tr>\n",
       "    <tr>\n",
       "      <th>203</th>\n",
       "      <td>57118</td>\n",
       "      <td>BUTE: ROTHESAY NO2</td>\n",
       "      <td>bute-rothesay-no2</td>\n",
       "      <td>buteshire</td>\n",
       "      <td>55.825</td>\n",
       "      <td>-5.056</td>\n",
       "      <td>36</td>\n",
       "      <td>2013</td>\n",
       "      <td>2020</td>\n",
       "      <td>POINT (-5.05600 55.82500)</td>\n",
       "      <td>49</td>\n",
       "      <td>7.219455e+05</td>\n",
       "      <td>6.23</td>\n",
       "      <td>9.05</td>\n",
       "    </tr>\n",
       "    <tr>\n",
       "      <th>204</th>\n",
       "      <td>57233</td>\n",
       "      <td>MARGAM NO 2</td>\n",
       "      <td>margam-no-2</td>\n",
       "      <td>glamorganshire</td>\n",
       "      <td>51.555</td>\n",
       "      <td>-3.721</td>\n",
       "      <td>40</td>\n",
       "      <td>2013</td>\n",
       "      <td>2020</td>\n",
       "      <td>POINT (-3.72100 51.55500)</td>\n",
       "      <td>49</td>\n",
       "      <td>3.900248e+05</td>\n",
       "      <td>6.15</td>\n",
       "      <td>7.01</td>\n",
       "    </tr>\n",
       "  </tbody>\n",
       "</table>\n",
       "<p>205 rows × 14 columns</p>\n",
       "</div>"
      ],
      "text/plain": [
       "     src_id              station_na              station_fi      historic_c  \\\n",
       "0         3               FAIR ISLE               fair-isle        shetland   \n",
       "1         9                 LERWICK                 lerwick        shetland   \n",
       "2        12         BALTASOUND NO 2         baltasound-no-2        shetland   \n",
       "3        23                KIRKWALL                kirkwall          orkney   \n",
       "4        32            WICK AIRPORT            wick-airport       caithness   \n",
       "..      ...                     ...                     ...             ...   \n",
       "200   56423     MIDDLETON, HILLSIDE      middleton-hillside      derbyshire   \n",
       "201    7621  LINKENHOLT POST OFFICE  linkenholt-post-office       hampshire   \n",
       "202   24219         MANNINGTON HALL         mannington-hall         norfolk   \n",
       "203   57118      BUTE: ROTHESAY NO2       bute-rothesay-no2       buteshire   \n",
       "204   57233             MARGAM NO 2             margam-no-2  glamorganshire   \n",
       "\n",
       "     station_la  station_lo  station_el  first_year  last_year  \\\n",
       "0        59.526      -1.630          57        1974       2020   \n",
       "1        60.139      -1.185          82        1930       2020   \n",
       "2        60.748      -0.856          15        1990       2020   \n",
       "3        58.953      -2.901          26        1957       2020   \n",
       "4        58.454      -3.090          36        1930       2020   \n",
       "..          ...         ...         ...         ...        ...   \n",
       "200      53.099      -1.589         295        2009       2020   \n",
       "201      51.320      -1.479         197        2013       2020   \n",
       "202      52.844       1.179          30        1999       2020   \n",
       "203      55.825      -5.056          36        2013       2020   \n",
       "204      51.555      -3.721          40        2013       2020   \n",
       "\n",
       "                      geometry  grid_id  grid_id_distance Slope_resorted  \\\n",
       "0    POINT (-1.63000 59.52600)       49      8.923866e+05          27.24   \n",
       "1    POINT (-1.18500 60.13900)       49      9.455311e+05           8.32   \n",
       "2    POINT (-0.85600 60.74800)       49      1.002230e+06            7.3   \n",
       "3    POINT (-2.90100 58.95300)       49      8.714545e+05           4.33   \n",
       "4    POINT (-3.09000 58.45400)       49      8.318475e+05          11.44   \n",
       "..                         ...      ...               ...            ...   \n",
       "200  POINT (-1.58900 53.09900)       49      2.875691e+05          13.32   \n",
       "201  POINT (-1.47900 51.32000)       49      1.671327e+05           6.66   \n",
       "202   POINT (1.17900 52.84400)       69      2.259978e+05           2.99   \n",
       "203  POINT (-5.05600 55.82500)       49      7.219455e+05           6.23   \n",
       "204  POINT (-3.72100 51.55500)       49      3.900248e+05           6.15   \n",
       "\n",
       "    Slope_sorted  \n",
       "0          43.44  \n",
       "1          11.57  \n",
       "2           8.99  \n",
       "3          12.69  \n",
       "4           8.94  \n",
       "..           ...  \n",
       "200        45.23  \n",
       "201        14.32  \n",
       "202          2.8  \n",
       "203         9.05  \n",
       "204         7.01  \n",
       "\n",
       "[205 rows x 14 columns]"
      ]
     },
     "execution_count": 89,
     "metadata": {},
     "output_type": "execute_result"
    }
   ],
   "source": [
    "combined = pd.merge(gauges, base,on=\"src_id\")\n",
    "# combined.to_csv(\"Final Data Output/206 stations with slope Data.csv\")\n",
    "combined"
   ]
  },
  {
   "cell_type": "code",
   "execution_count": 90,
   "id": "4232f28e",
   "metadata": {},
   "outputs": [
    {
     "data": {
      "text/plain": [
       "(154.64, 2.38, 15.861804878048787)"
      ]
     },
     "execution_count": 90,
     "metadata": {},
     "output_type": "execute_result"
    }
   ],
   "source": [
    "combined.Slope_sorted.max(),combined.Slope_sorted.min(), combined.Slope_sorted.mean(),"
   ]
  },
  {
   "cell_type": "code",
   "execution_count": 91,
   "id": "c5a68311",
   "metadata": {},
   "outputs": [
    {
     "data": {
      "image/png": "[encoded data removed]",
      "text/plain": [
       "<Figure size 576x576 with 1 Axes>"
      ]
     },
     "metadata": {
      "needs_background": "light"
     },
     "output_type": "display_data"
    }
   ],
   "source": [
    "combined.Slope_sorted.plot.hist(bins=100)\n",
    "combined.Slope_resorted.plot.hist(bins=100);\n"
   ]
  },
  {
   "cell_type": "code",
   "execution_count": 92,
   "id": "3764234a",
   "metadata": {},
   "outputs": [
    {
     "data": {
      "text/plain": [
       "Text(0, 0.5, 'Steepness (%)')"
      ]
     },
     "execution_count": 92,
     "metadata": {},
     "output_type": "execute_result"
    },
    {
     "data": {
      "image/png": "[encoded data removed]",
      "text/plain": [
       "<Figure size 576x576 with 1 Axes>"
      ]
     },
     "metadata": {
      "needs_background": "light"
     },
     "output_type": "display_data"
    }
   ],
   "source": [
    "pd.DataFrame(combined, columns=[\"Slope_sorted\",\"Slope_resorted\"]).astype(float).plot.box()\n",
    "plt.title(\"Boxplot of slope steepness\")\n",
    "plt.ylabel(\"Steepness (%)\")\n",
    "# plt.savefig(\"Plots/Slopesteepness Boxplot sorted vs resorted.jpg\",pad_inches=0)"
   ]
  },
  {
   "cell_type": "code",
   "execution_count": 93,
   "id": "459b6090",
   "metadata": {},
   "outputs": [
    {
     "data": {
      "text/plain": [
       "<AxesSubplot:>"
      ]
     },
     "execution_count": 93,
     "metadata": {},
     "output_type": "execute_result"
    },
    {
     "data": {
      "image/png": "[encoded data removed]",
      "text/plain": [
       "<Figure size 576x576 with 1 Axes>"
      ]
     },
     "metadata": {
      "needs_background": "light"
     },
     "output_type": "display_data"
    }
   ],
   "source": [
    "combined.Slope_resorted.plot.box()\n",
    "# plt.savefig(\"Plots/Slopesteepness Boxplot resorted.jpg\",pad_inches=0)"
   ]
  },
  {
   "cell_type": "markdown",
   "id": "22245777",
   "metadata": {},
   "source": [
    "#### Saving queries for reprocessing"
   ]
  },
  {
   "cell_type": "code",
   "execution_count": 94,
   "id": "11094dc3",
   "metadata": {},
   "outputs": [],
   "source": [
    "combined.query(\"Slope_resorted < 18.125\").to_csv(\"Final Data Output/Removed outliers.csv\")"
   ]
  },
  {
   "cell_type": "code",
   "execution_count": 95,
   "id": "e7212d18",
   "metadata": {},
   "outputs": [
    {
     "data": {
      "text/html": [
       "<div>\n",
       "<style scoped>\n",
       "    .dataframe tbody tr th:only-of-type {\n",
       "        vertical-align: middle;\n",
       "    }\n",
       "\n",
       "    .dataframe tbody tr th {\n",
       "        vertical-align: top;\n",
       "    }\n",
       "\n",
       "    .dataframe thead th {\n",
       "        text-align: right;\n",
       "    }\n",
       "</style>\n",
       "<table border=\"1\" class=\"dataframe\">\n",
       "  <thead>\n",
       "    <tr style=\"text-align: right;\">\n",
       "      <th></th>\n",
       "      <th>src_id</th>\n",
       "      <th>station_na</th>\n",
       "      <th>station_fi</th>\n",
       "      <th>historic_c</th>\n",
       "      <th>station_la</th>\n",
       "      <th>station_lo</th>\n",
       "      <th>station_el</th>\n",
       "      <th>first_year</th>\n",
       "      <th>last_year</th>\n",
       "      <th>geometry</th>\n",
       "      <th>grid_id</th>\n",
       "      <th>grid_id_distance</th>\n",
       "      <th>Slope_resorted</th>\n",
       "      <th>Slope_sorted</th>\n",
       "    </tr>\n",
       "  </thead>\n",
       "  <tbody>\n",
       "    <tr>\n",
       "      <th>1</th>\n",
       "      <td>9</td>\n",
       "      <td>LERWICK</td>\n",
       "      <td>lerwick</td>\n",
       "      <td>shetland</td>\n",
       "      <td>60.139</td>\n",
       "      <td>-1.185</td>\n",
       "      <td>82</td>\n",
       "      <td>1930</td>\n",
       "      <td>2020</td>\n",
       "      <td>POINT (-1.18500 60.13900)</td>\n",
       "      <td>49</td>\n",
       "      <td>945531.063939</td>\n",
       "      <td>8.32</td>\n",
       "      <td>11.57</td>\n",
       "    </tr>\n",
       "  </tbody>\n",
       "</table>\n",
       "</div>"
      ],
      "text/plain": [
       "   src_id station_na station_fi historic_c  station_la  station_lo  \\\n",
       "1       9    LERWICK    lerwick   shetland      60.139      -1.185   \n",
       "\n",
       "   station_el  first_year  last_year                   geometry  grid_id  \\\n",
       "1          82        1930       2020  POINT (-1.18500 60.13900)       49   \n",
       "\n",
       "   grid_id_distance Slope_resorted Slope_sorted  \n",
       "1     945531.063939           8.32        11.57  "
      ]
     },
     "execution_count": 95,
     "metadata": {},
     "output_type": "execute_result"
    }
   ],
   "source": [
    "combined.query(\"Slope_resorted < 18.125\").head(1)"
   ]
  },
  {
   "cell_type": "code",
   "execution_count": 96,
   "id": "d0ba3de1",
   "metadata": {},
   "outputs": [],
   "source": [
    "combined.query(\"Slope_resorted > 18.125\").to_csv(\"Final Data Output//outliers.csv\")"
   ]
  },
  {
   "cell_type": "code",
   "execution_count": 97,
   "id": "7f5b856e",
   "metadata": {},
   "outputs": [
    {
     "data": {
      "text/html": [
       "<div>\n",
       "<style scoped>\n",
       "    .dataframe tbody tr th:only-of-type {\n",
       "        vertical-align: middle;\n",
       "    }\n",
       "\n",
       "    .dataframe tbody tr th {\n",
       "        vertical-align: top;\n",
       "    }\n",
       "\n",
       "    .dataframe thead th {\n",
       "        text-align: right;\n",
       "    }\n",
       "</style>\n",
       "<table border=\"1\" class=\"dataframe\">\n",
       "  <thead>\n",
       "    <tr style=\"text-align: right;\">\n",
       "      <th></th>\n",
       "      <th>src_id</th>\n",
       "      <th>station_na</th>\n",
       "      <th>station_fi</th>\n",
       "      <th>historic_c</th>\n",
       "      <th>station_la</th>\n",
       "      <th>station_lo</th>\n",
       "      <th>station_el</th>\n",
       "      <th>first_year</th>\n",
       "      <th>last_year</th>\n",
       "      <th>geometry</th>\n",
       "      <th>grid_id</th>\n",
       "      <th>grid_id_distance</th>\n",
       "      <th>Slope_resorted</th>\n",
       "      <th>Slope_sorted</th>\n",
       "    </tr>\n",
       "  </thead>\n",
       "  <tbody>\n",
       "    <tr>\n",
       "      <th>0</th>\n",
       "      <td>3</td>\n",
       "      <td>FAIR ISLE</td>\n",
       "      <td>fair-isle</td>\n",
       "      <td>shetland</td>\n",
       "      <td>59.526</td>\n",
       "      <td>-1.630</td>\n",
       "      <td>57</td>\n",
       "      <td>1974</td>\n",
       "      <td>2020</td>\n",
       "      <td>POINT (-1.63000 59.52600)</td>\n",
       "      <td>49</td>\n",
       "      <td>892386.585136</td>\n",
       "      <td>27.24</td>\n",
       "      <td>43.44</td>\n",
       "    </tr>\n",
       "    <tr>\n",
       "      <th>17</th>\n",
       "      <td>177</td>\n",
       "      <td>INVERBERVIE NO 2</td>\n",
       "      <td>inverbervie-no-2</td>\n",
       "      <td>kincardineshire</td>\n",
       "      <td>56.852</td>\n",
       "      <td>-2.266</td>\n",
       "      <td>134</td>\n",
       "      <td>1992</td>\n",
       "      <td>2020</td>\n",
       "      <td>POINT (-2.26600 56.85200)</td>\n",
       "      <td>49</td>\n",
       "      <td>652461.615683</td>\n",
       "      <td>20.47</td>\n",
       "      <td>26.19</td>\n",
       "    </tr>\n",
       "    <tr>\n",
       "      <th>18</th>\n",
       "      <td>195</td>\n",
       "      <td>TYNDRUM NO 3</td>\n",
       "      <td>tyndrum-no-3</td>\n",
       "      <td>perthshire-in-central-region</td>\n",
       "      <td>56.419</td>\n",
       "      <td>-4.661</td>\n",
       "      <td>168</td>\n",
       "      <td>1999</td>\n",
       "      <td>2020</td>\n",
       "      <td>POINT (-4.66100 56.41900)</td>\n",
       "      <td>49</td>\n",
       "      <td>738648.004056</td>\n",
       "      <td>19.04</td>\n",
       "      <td>40.04</td>\n",
       "    </tr>\n",
       "    <tr>\n",
       "      <th>54</th>\n",
       "      <td>634</td>\n",
       "      <td>PENNERLEY</td>\n",
       "      <td>pennerley</td>\n",
       "      <td>shropshire</td>\n",
       "      <td>52.590</td>\n",
       "      <td>-2.950</td>\n",
       "      <td>357</td>\n",
       "      <td>2010</td>\n",
       "      <td>2020</td>\n",
       "      <td>POINT (-2.95000 52.59000)</td>\n",
       "      <td>49</td>\n",
       "      <td>355079.778427</td>\n",
       "      <td>24.66</td>\n",
       "      <td>25.11</td>\n",
       "    </tr>\n",
       "    <tr>\n",
       "      <th>68</th>\n",
       "      <td>876</td>\n",
       "      <td>WIGHT: ST CATHERINES POINT</td>\n",
       "      <td>wight-st-catherines-point</td>\n",
       "      <td>isle-of-wight</td>\n",
       "      <td>50.576</td>\n",
       "      <td>-1.297</td>\n",
       "      <td>20</td>\n",
       "      <td>1982</td>\n",
       "      <td>2020</td>\n",
       "      <td>POINT (-1.29700 50.57600)</td>\n",
       "      <td>49</td>\n",
       "      <td>141031.430327</td>\n",
       "      <td>22.39</td>\n",
       "      <td>44.91</td>\n",
       "    </tr>\n",
       "  </tbody>\n",
       "</table>\n",
       "</div>"
      ],
      "text/plain": [
       "    src_id                  station_na                 station_fi  \\\n",
       "0        3                   FAIR ISLE                  fair-isle   \n",
       "17     177            INVERBERVIE NO 2           inverbervie-no-2   \n",
       "18     195                TYNDRUM NO 3               tyndrum-no-3   \n",
       "54     634                   PENNERLEY                  pennerley   \n",
       "68     876  WIGHT: ST CATHERINES POINT  wight-st-catherines-point   \n",
       "\n",
       "                      historic_c  station_la  station_lo  station_el  \\\n",
       "0                       shetland      59.526      -1.630          57   \n",
       "17               kincardineshire      56.852      -2.266         134   \n",
       "18  perthshire-in-central-region      56.419      -4.661         168   \n",
       "54                    shropshire      52.590      -2.950         357   \n",
       "68                 isle-of-wight      50.576      -1.297          20   \n",
       "\n",
       "    first_year  last_year                   geometry  grid_id  \\\n",
       "0         1974       2020  POINT (-1.63000 59.52600)       49   \n",
       "17        1992       2020  POINT (-2.26600 56.85200)       49   \n",
       "18        1999       2020  POINT (-4.66100 56.41900)       49   \n",
       "54        2010       2020  POINT (-2.95000 52.59000)       49   \n",
       "68        1982       2020  POINT (-1.29700 50.57600)       49   \n",
       "\n",
       "    grid_id_distance Slope_resorted Slope_sorted  \n",
       "0      892386.585136          27.24        43.44  \n",
       "17     652461.615683          20.47        26.19  \n",
       "18     738648.004056          19.04        40.04  \n",
       "54     355079.778427          24.66        25.11  \n",
       "68     141031.430327          22.39        44.91  "
      ]
     },
     "execution_count": 97,
     "metadata": {},
     "output_type": "execute_result"
    }
   ],
   "source": [
    "combined.query(\"Slope_resorted > 18.125\").head()"
   ]
  },
  {
   "cell_type": "markdown",
   "id": "de600b33",
   "metadata": {},
   "source": [
    "#### Looking at outliers"
   ]
  },
  {
   "cell_type": "code",
   "execution_count": 98,
   "id": "59c2211d",
   "metadata": {},
   "outputs": [
    {
     "name": "stdout",
     "output_type": "stream",
     "text": [
      "17.965000000000003\n",
      "20\n"
     ]
    }
   ],
   "source": [
    "IQR = combined.Slope_resorted.quantile(q=0.75) - combined.Slope_resorted.quantile(q=0.25)\n",
    "Outlier_threshold = combined.Slope_resorted.quantile(q=0.75) + 1.5 * IQR\n",
    "print(Outlier_threshold)\n",
    "outliers_resorted = combined.query(f\"Slope_resorted > {Outlier_threshold}\")\n",
    "print(outliers_resorted.src_id .count())\n",
    "# outliers_resorted.plot.scatter(outliers_resorted.station_el,outliers_resorted.Slope_resorted)"
   ]
  },
  {
   "cell_type": "code",
   "execution_count": 99,
   "id": "877a32a5",
   "metadata": {},
   "outputs": [
    {
     "data": {
      "text/plain": [
       "<AxesSubplot:>"
      ]
     },
     "execution_count": 99,
     "metadata": {},
     "output_type": "execute_result"
    },
    {
     "data": {
      "image/png": "[encoded data removed]",
      "text/plain": [
       "<Figure size 576x576 with 1 Axes>"
      ]
     },
     "metadata": {
      "needs_background": "light"
     },
     "output_type": "display_data"
    }
   ],
   "source": [
    "outliers_resorted.Slope_resorted.hist()"
   ]
  },
  {
   "cell_type": "code",
   "execution_count": 100,
   "id": "9d259200",
   "metadata": {},
   "outputs": [],
   "source": [
    "### recalculating for the fair isles (midterm figure)\n",
    "grid_id = \"hz\"\n",
    "run = False\n",
    "if run:\n",
    "    lst_points, lst_grid_point = bulk_import_shapefiles(grid_id, 99,\"point\")\n",
    "    lst_lines, empty_list = bulk_import_shapefiles(grid_id, 99,\"line\")\n",
    "\n",
    "    gauges[\"grid_id\"] = gauges.geometry.apply(select_closest_grid)\n",
    "    gauges[\"grid_id_distance\"] = gauges.geometry.apply(select_closest_dist)\n",
    "\n",
    "    gauges_in_cell = gauges.query(\"grid_id_distance < 5000\")\n",
    "\n",
    "    gauges_in_cell.reset_index(inplace=True)\n",
    "    gauges_in_cell.reset_index(inplace=True)\n",
    "    gauges_in_cell.drop(columns=\"index\",inplace=True)\n",
    "\n",
    "    gauges_in_cell[\"Slope_sorted\"] = gauges_in_cell.level_0.apply(sorted_slope_steepness)\n",
    "    gauges_in_cell[\"Slope_resorted\"] = gauges_in_cell.level_0.apply(resorted_slope_steepness)"
   ]
  },
  {
   "cell_type": "code",
   "execution_count": 101,
   "id": "341d8e43",
   "metadata": {},
   "outputs": [
    {
     "data": {
      "text/plain": [
       "<AxesSubplot:>"
      ]
     },
     "execution_count": 101,
     "metadata": {},
     "output_type": "execute_result"
    },
    {
     "data": {
      "image/png": "[encoded data removed]",
      "text/plain": [
       "<Figure size 576x576 with 1 Axes>"
      ]
     },
     "metadata": {
      "needs_background": "light"
     },
     "output_type": "display_data"
    }
   ],
   "source": [
    "plot_closest_point_contours()\n",
    "# plt.savefig(\"Plots/FairIsle weather station - 10 closest.jpg\")"
   ]
  },
  {
   "cell_type": "code",
   "execution_count": 102,
   "id": "cb2749ed",
   "metadata": {},
   "outputs": [
    {
     "data": {
      "image/png": "[encoded data removed]",
      "text/plain": [
       "<Figure size 576x576 with 1 Axes>"
      ]
     },
     "metadata": {
      "needs_background": "light"
     },
     "output_type": "display_data"
    }
   ],
   "source": [
    "plot_station(0)\n",
    "# plt.savefig(\"Plots/FairIsle weather station - overview.jpg\")"
   ]
  },
  {
   "cell_type": "code",
   "execution_count": null,
   "id": "e5ba106c",
   "metadata": {},
   "outputs": [],
   "source": []
  }
 ],
 "metadata": {
  "kernelspec": {
   "display_name": "Python 3 (ipykernel)",
   "language": "python",
   "name": "python3"
  },
  "language_info": {
   "codemirror_mode": {
    "name": "ipython",
    "version": 3
   },
   "file_extension": ".py",
   "mimetype": "text/x-python",
   "name": "python",
   "nbconvert_exporter": "python",
   "pygments_lexer": "ipython3",
   "version": "3.10.2"
  }
 },
 "nbformat": 4,
 "nbformat_minor": 5
}
