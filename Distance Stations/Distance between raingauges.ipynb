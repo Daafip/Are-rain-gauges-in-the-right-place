{
 "cells": [
  {
   "cell_type": "markdown",
   "id": "ebbe37d8",
   "metadata": {},
   "source": [
    "### importing packages and functions:\n",
    "All functions are contained in function.py"
   ]
  },
  {
   "cell_type": "code",
   "execution_count": 1,
   "id": "98b659e1",
   "metadata": {},
   "outputs": [],
   "source": [
    "import pandas as pd\n",
    "import matplotlib.pyplot as plt\n",
    "import numpy as np\n",
    "from geopy.distance import geodesic\n",
    "%matplotlib inline\n",
    "\n",
    "import functions"
   ]
  },
  {
   "cell_type": "markdown",
   "id": "2502fb28",
   "metadata": {},
   "source": [
    "This notebook aims to calculate the distance between different raingauges. Note this was the first attempt at using geospatial data, later on geopandas was used rather than own code to export data. Data obatined from: <br>\n",
    "<br>\n",
    "Met Office (2021): MIDAS Open: UK daily rainfall data, v202107. NERC EDS Centre for Environmental Data Analysis, 08 September 2021. doi:10.5285/d6bcf4171c2f4754a7455d00deda0f72. http://dx.doi.org/10.5285/d6bcf4171c2f4754a7455d00deda0f72\n",
    "<br>\n",
    "<br>\n",
    "Specifically the station meta data was used"
   ]
  },
  {
   "cell_type": "markdown",
   "id": "bfd2ef30",
   "metadata": {},
   "source": [
    "## Importing Data"
   ]
  },
  {
   "cell_type": "markdown",
   "id": "0d4f3022",
   "metadata": {},
   "source": [
    "1850 there were only 2 stations:"
   ]
  },
  {
   "cell_type": "code",
   "execution_count": 2,
   "id": "3b254b7c",
   "metadata": {},
   "outputs": [],
   "source": [
    "data1850 = pd.read_csv(\"Data/midas_raindrnl_185301-185312.txt\",sep=',')"
   ]
  },
  {
   "cell_type": "code",
   "execution_count": 3,
   "id": "050eb93a",
   "metadata": {},
   "outputs": [
    {
     "data": {
      "text/plain": [
       "2"
      ]
     },
     "execution_count": 3,
     "metadata": {},
     "output_type": "execute_result"
    }
   ],
   "source": [
    "data1850.ID.nunique()"
   ]
  },
  {
   "cell_type": "markdown",
   "id": "53c6a77f",
   "metadata": {},
   "source": [
    "Whilst 2021 there were 2348"
   ]
  },
  {
   "cell_type": "code",
   "execution_count": 4,
   "id": "0d76857c",
   "metadata": {},
   "outputs": [
    {
     "name": "stderr",
     "output_type": "stream",
     "text": [
      "C:\\Users\\david\\AppData\\Local\\Temp\\ipykernel_10624\\1821358648.py:1: DtypeWarning: Columns (9,15) have mixed types. Specify dtype option on import or set low_memory=False.\n",
      "  data2021 = pd.read_csv(\"Data/midas_raindrnl_202101-202112.txt\",sep=',')\n"
     ]
    }
   ],
   "source": [
    "data2021 = pd.read_csv(\"Data/midas_raindrnl_202101-202112.txt\",sep=',')"
   ]
  },
  {
   "cell_type": "code",
   "execution_count": 5,
   "id": "89c6ff78",
   "metadata": {},
   "outputs": [
    {
     "data": {
      "text/plain": [
       "2348"
      ]
     },
     "execution_count": 5,
     "metadata": {},
     "output_type": "execute_result"
    }
   ],
   "source": [
    "data2021.OB_DAY_CNT.nunique()"
   ]
  },
  {
   "cell_type": "markdown",
   "id": "86148c37",
   "metadata": {},
   "source": [
    "Note afterwards: of these 2348, only 348 had data in 2020, so these were only considered (see code at bottomn)"
   ]
  },
  {
   "cell_type": "code",
   "execution_count": 6,
   "id": "8cd50fa7",
   "metadata": {},
   "outputs": [
    {
     "name": "stderr",
     "output_type": "stream",
     "text": [
      "C:\\Users\\david\\AppData\\Local\\Temp\\ipykernel_10624\\595143646.py:1: ParserWarning: Falling back to the 'python' engine because the 'c' engine does not support skipfooter; you can avoid this warning by specifying engine='python'.\n",
      "  data_stations_hourly = pd.read_csv(\"Data/midas-open_uk-hourly-rain-obs_dv-202107_station-metadata.csv\",\n"
     ]
    },
    {
     "data": {
      "text/html": [
       "<div>\n",
       "<style scoped>\n",
       "    .dataframe tbody tr th:only-of-type {\n",
       "        vertical-align: middle;\n",
       "    }\n",
       "\n",
       "    .dataframe tbody tr th {\n",
       "        vertical-align: top;\n",
       "    }\n",
       "\n",
       "    .dataframe thead th {\n",
       "        text-align: right;\n",
       "    }\n",
       "</style>\n",
       "<table border=\"1\" class=\"dataframe\">\n",
       "  <thead>\n",
       "    <tr style=\"text-align: right;\">\n",
       "      <th></th>\n",
       "      <th>station_name</th>\n",
       "      <th>station_file_name</th>\n",
       "      <th>historic_county</th>\n",
       "      <th>station_latitude</th>\n",
       "      <th>station_longitude</th>\n",
       "      <th>station_elevation</th>\n",
       "      <th>first_year</th>\n",
       "      <th>last_year</th>\n",
       "    </tr>\n",
       "    <tr>\n",
       "      <th>src_id</th>\n",
       "      <th></th>\n",
       "      <th></th>\n",
       "      <th></th>\n",
       "      <th></th>\n",
       "      <th></th>\n",
       "      <th></th>\n",
       "      <th></th>\n",
       "      <th></th>\n",
       "    </tr>\n",
       "  </thead>\n",
       "  <tbody>\n",
       "    <tr>\n",
       "      <th>1</th>\n",
       "      <td>FOULA</td>\n",
       "      <td>foula</td>\n",
       "      <td>shetland</td>\n",
       "      <td>60.154</td>\n",
       "      <td>-2.074</td>\n",
       "      <td>22</td>\n",
       "      <td>1989</td>\n",
       "      <td>1995</td>\n",
       "    </tr>\n",
       "    <tr>\n",
       "      <th>3</th>\n",
       "      <td>FAIR ISLE</td>\n",
       "      <td>fair-isle</td>\n",
       "      <td>shetland</td>\n",
       "      <td>59.526</td>\n",
       "      <td>-1.630</td>\n",
       "      <td>57</td>\n",
       "      <td>1974</td>\n",
       "      <td>2020</td>\n",
       "    </tr>\n",
       "    <tr>\n",
       "      <th>4</th>\n",
       "      <td>SUMBURGH</td>\n",
       "      <td>sumburgh</td>\n",
       "      <td>shetland</td>\n",
       "      <td>59.879</td>\n",
       "      <td>-1.299</td>\n",
       "      <td>7</td>\n",
       "      <td>1978</td>\n",
       "      <td>1996</td>\n",
       "    </tr>\n",
       "  </tbody>\n",
       "</table>\n",
       "</div>"
      ],
      "text/plain": [
       "       station_name station_file_name historic_county  station_latitude  \\\n",
       "src_id                                                                    \n",
       "1             FOULA             foula        shetland            60.154   \n",
       "3         FAIR ISLE         fair-isle        shetland            59.526   \n",
       "4          SUMBURGH          sumburgh        shetland            59.879   \n",
       "\n",
       "        station_longitude  station_elevation  first_year  last_year  \n",
       "src_id                                                               \n",
       "1                  -2.074                 22        1989       1995  \n",
       "3                  -1.630                 57        1974       2020  \n",
       "4                  -1.299                  7        1978       1996  "
      ]
     },
     "execution_count": 6,
     "metadata": {},
     "output_type": "execute_result"
    }
   ],
   "source": [
    "data_stations_hourly = pd.read_csv(\"Data/midas-open_uk-hourly-rain-obs_dv-202107_station-metadata.csv\",\n",
    "                                    sep=\",\",index_col=0,skipfooter=1)\n",
    "data_stations_hourly.head(3)"
   ]
  },
  {
   "cell_type": "markdown",
   "id": "605e2260",
   "metadata": {},
   "source": [
    "## Filtering for subsection to reduce compute times\n",
    "First look at a smaller subsection of data"
   ]
  },
  {
   "cell_type": "code",
   "execution_count": 7,
   "id": "7b4799d3",
   "metadata": {},
   "outputs": [
    {
     "data": {
      "text/html": [
       "<div>\n",
       "<style scoped>\n",
       "    .dataframe tbody tr th:only-of-type {\n",
       "        vertical-align: middle;\n",
       "    }\n",
       "\n",
       "    .dataframe tbody tr th {\n",
       "        vertical-align: top;\n",
       "    }\n",
       "\n",
       "    .dataframe thead th {\n",
       "        text-align: right;\n",
       "    }\n",
       "</style>\n",
       "<table border=\"1\" class=\"dataframe\">\n",
       "  <thead>\n",
       "    <tr style=\"text-align: right;\">\n",
       "      <th></th>\n",
       "      <th>station_name</th>\n",
       "      <th>station_file_name</th>\n",
       "      <th>historic_county</th>\n",
       "      <th>station_latitude</th>\n",
       "      <th>station_longitude</th>\n",
       "      <th>station_elevation</th>\n",
       "      <th>first_year</th>\n",
       "      <th>last_year</th>\n",
       "    </tr>\n",
       "    <tr>\n",
       "      <th>src_id</th>\n",
       "      <th></th>\n",
       "      <th></th>\n",
       "      <th></th>\n",
       "      <th></th>\n",
       "      <th></th>\n",
       "      <th></th>\n",
       "      <th></th>\n",
       "      <th></th>\n",
       "    </tr>\n",
       "  </thead>\n",
       "  <tbody>\n",
       "    <tr>\n",
       "      <th>1054</th>\n",
       "      <td>ESKMEALS</td>\n",
       "      <td>eskmeals</td>\n",
       "      <td>cumbria</td>\n",
       "      <td>54.325</td>\n",
       "      <td>-3.408</td>\n",
       "      <td>8</td>\n",
       "      <td>1994</td>\n",
       "      <td>2001</td>\n",
       "    </tr>\n",
       "    <tr>\n",
       "      <th>1055</th>\n",
       "      <td>ST BEES HEAD NO 2</td>\n",
       "      <td>st-bees-head-no-2</td>\n",
       "      <td>cumbria</td>\n",
       "      <td>54.518</td>\n",
       "      <td>-3.615</td>\n",
       "      <td>124</td>\n",
       "      <td>1992</td>\n",
       "      <td>2020</td>\n",
       "    </tr>\n",
       "    <tr>\n",
       "      <th>1060</th>\n",
       "      <td>KESWICK</td>\n",
       "      <td>keswick</td>\n",
       "      <td>cumbria</td>\n",
       "      <td>54.614</td>\n",
       "      <td>-3.157</td>\n",
       "      <td>81</td>\n",
       "      <td>1992</td>\n",
       "      <td>2020</td>\n",
       "    </tr>\n",
       "  </tbody>\n",
       "</table>\n",
       "</div>"
      ],
      "text/plain": [
       "             station_name  station_file_name historic_county  \\\n",
       "src_id                                                         \n",
       "1054             ESKMEALS           eskmeals         cumbria   \n",
       "1055    ST BEES HEAD NO 2  st-bees-head-no-2         cumbria   \n",
       "1060              KESWICK            keswick         cumbria   \n",
       "\n",
       "        station_latitude  station_longitude  station_elevation  first_year  \\\n",
       "src_id                                                                       \n",
       "1054              54.325             -3.408                  8        1994   \n",
       "1055              54.518             -3.615                124        1992   \n",
       "1060              54.614             -3.157                 81        1992   \n",
       "\n",
       "        last_year  \n",
       "src_id             \n",
       "1054         2001  \n",
       "1055         2020  \n",
       "1060         2020  "
      ]
     },
     "execution_count": 7,
     "metadata": {},
     "output_type": "execute_result"
    }
   ],
   "source": [
    "data_cumbria = data_stations_hourly.query(\"historic_county == 'cumbria'\")\n",
    "data_cumbria.head(3)"
   ]
  },
  {
   "cell_type": "markdown",
   "id": "0cfc765a",
   "metadata": {},
   "source": [
    "### Plot showing the location of points\n",
    "This gives a quick representation, however is better done in GIS"
   ]
  },
  {
   "cell_type": "code",
   "execution_count": 8,
   "id": "86f08618",
   "metadata": {},
   "outputs": [
    {
     "data": {
      "image/png": "[encoded data removed]",
      "text/plain": [
       "<Figure size 432x288 with 1 Axes>"
      ]
     },
     "metadata": {
      "needs_background": "light"
     },
     "output_type": "display_data"
    }
   ],
   "source": [
    "data_cumbria.plot(\"station_longitude\",\"station_latitude\",\"scatter\");"
   ]
  },
  {
   "cell_type": "markdown",
   "id": "722c45e0",
   "metadata": {},
   "source": [
    "### Package used to caculate distance between two points\n",
    "Geopy is used to caculate the geodesic distance between the differen points, here an example is given"
   ]
  },
  {
   "cell_type": "code",
   "execution_count": 9,
   "id": "afb75231",
   "metadata": {},
   "outputs": [
    {
     "name": "stdout",
     "output_type": "stream",
     "text": [
      "25.339274867466546\n"
     ]
    }
   ],
   "source": [
    "# from geopy.distance import geodesic\n",
    "p1 = 54.325,-3.408\n",
    "p2 = 54.518,-3.615\n",
    "print(geodesic(p1,p2).km)"
   ]
  },
  {
   "cell_type": "markdown",
   "id": "bb186219",
   "metadata": {},
   "source": [
    "This can be summarised into the distance_too_close function which takes a dataframe and a threshold and returns any stations closer than the threshold. <br>\n",
    "Here all the hourly stations are used as input any any closer than 5km are returned.<br>\n",
    "_Warning the cell bellow can take a minute or two_"
   ]
  },
  {
   "cell_type": "code",
   "execution_count": 10,
   "id": "816f297e",
   "metadata": {},
   "outputs": [
    {
     "name": "stdout",
     "output_type": "stream",
     "text": [
      "(-2.382, 53.36))\r"
     ]
    },
    {
     "data": {
      "text/plain": [
       "[((-4.167, 57.687), (-4.158, 57.703), 2.036227344130836),\n",
       " ((-3.398, 57.006), (-3.397, 57.011), 0.5665222605012272),\n",
       " ((-2.215, 57.187), (-2.205, 57.205), 2.287310726468455),\n",
       " ((-3.348, 55.951), (-3.344, 55.928), 2.5940010236955477),\n",
       " ((-0.544, 51.724), (-0.534, 51.69), 3.9429171332726454),\n",
       " ((0.807, 51.537), (0.827, 51.555), 2.9841070147944846),\n",
       " ((-1.665, 53.613), (-1.668, 53.612), 0.3498907285153821),\n",
       " ((-1.924, 52.454), (-1.928, 52.456), 0.4951198505986686),\n",
       " ((-2.218, 51.858), (-2.196, 51.891), 4.403739872693748),\n",
       " ((-0.131, 51.505), (-0.112, 51.522), 2.827562342527144),\n",
       " ((-0.004, 51.48), (-0.003, 51.478), 0.24858557160681416),\n",
       " ((-0.316, 51.468), (-0.294, 51.482), 2.8890277212214066),\n",
       " ((-0.193, 51.152), (-0.229, 51.144), 4.0790744548487465),\n",
       " ((0.636, 51.197), (0.63, 51.185), 1.4914412683096763),\n",
       " ((1.335, 51.347), (1.348, 51.352), 1.5414156205173541),\n",
       " ((0.336, 50.865), (0.317, 50.891), 3.5763909555001963),\n",
       " ((-1.405, 50.905), (-1.404, 50.901), 0.4586730452574347),\n",
       " ((-4.908, 55.749), (-4.893, 55.723), 3.326813847649841),\n",
       " ((-4.386, 55.867), (-4.431, 55.869), 4.98108653833217),\n",
       " ((-4.565, 55.477), (-4.584, 55.501), 3.392211622005851),\n",
       " ((-4.565, 55.477), (-4.585, 55.515), 4.761543104928747),\n",
       " ((-4.584, 55.501), (-4.585, 55.515), 1.557450500589388),\n",
       " ((-3.534, 52.383), (-3.503, 52.389), 3.4921573777315054),\n",
       " ((-3.179, 51.478), (-3.189, 51.488), 1.5678482986517763),\n",
       " ((-2.45, 50.566), (-2.456, 50.522), 4.9383692520306885),\n",
       " ((-2.457, 50.514), (-2.456, 50.522), 0.8965878458978724),\n",
       " ((-4.524, 51.02), (-4.49, 51.016), 3.7858737826084905),\n",
       " ((-4.462, 50.991), (-4.49, 51.016), 4.157528502151836),\n",
       " ((-3.812, 50.896), (-3.802, 50.906), 1.5673390529849012),\n",
       " ((-3.417, 50.731), (-3.406, 50.737), 1.3871107436136518),\n",
       " ((-6.303, 49.929), (-6.296, 49.915), 1.731773752278628),\n",
       " ((-8.087, 54.422), (-8.052, 54.44), 4.349715056850947),\n",
       " ((-7.575, 54.151), (-7.561, 54.189), 4.47023603133307)]"
      ]
     },
     "execution_count": 10,
     "metadata": {},
     "output_type": "execute_result"
    }
   ],
   "source": [
    "closeby_stations = functions.distance_too_close(data_stations_hourly, 5)\n",
    "closeby_stations"
   ]
  },
  {
   "cell_type": "markdown",
   "id": "c53b5a5b",
   "metadata": {},
   "source": [
    "To import this data into QGIS and process it into a map, it can be saved:"
   ]
  },
  {
   "cell_type": "code",
   "execution_count": 11,
   "id": "53027917",
   "metadata": {},
   "outputs": [],
   "source": [
    "functions.tuple_to_csv(closeby_stations,\"Stations with closest closer than 5km\")"
   ]
  },
  {
   "cell_type": "markdown",
   "id": "72619499",
   "metadata": {},
   "source": [
    "## Plot:\n",
    "or, the data returned can then be here:"
   ]
  },
  {
   "cell_type": "code",
   "execution_count": 12,
   "id": "afebfa37",
   "metadata": {},
   "outputs": [
    {
     "data": {
      "image/png": "[encoded data removed]",
      "text/plain": [
       "<Figure size 432x288 with 1 Axes>"
      ]
     },
     "metadata": {
      "needs_background": "light"
     },
     "output_type": "display_data"
    }
   ],
   "source": [
    "lst_x = []\n",
    "lst_y = []\n",
    "for i in closeby_stations:\n",
    "    lst_x.append(i[0][0])\n",
    "    lst_y.append(i[0][1])\n",
    "plt.plot(lst_x,lst_y,\"o\");"
   ]
  },
  {
   "cell_type": "markdown",
   "id": "6ab85699",
   "metadata": {},
   "source": [
    "### Now lets consider the closest other station per station"
   ]
  },
  {
   "cell_type": "markdown",
   "id": "cf617cac",
   "metadata": {},
   "source": [
    "The same can be done as before computing the distance to all other points, however we consider the upperbound stations.<br>\n",
    "The closest station is found, if it is further than the threshold it is returned"
   ]
  },
  {
   "cell_type": "code",
   "execution_count": 13,
   "id": "1de6436a",
   "metadata": {},
   "outputs": [
    {
     "name": "stdout",
     "output_type": "stream",
     "text": [
      "(-2.382, 53.36))\r"
     ]
    },
    {
     "data": {
      "text/plain": [
       "[((-2.074, 60.154), (-1.63, 59.526), 85.3960830397832),\n",
       " ((-1.63, 59.526), (-1.299, 59.879), 53.69111734993704),\n",
       " ((-0.856, 60.748), (-1.278, 60.447), 57.44326074847978),\n",
       " ((-4.405, 59.082), (-4.763, 58.568), 69.42882212396513),\n",
       " ((-2.901, 58.953), (-3.09, 58.454), 59.27923333184718),\n",
       " ((-3.922, 58.23), (-3.967, 57.819), 45.91509118666522),\n",
       " ((-5.633, 57.859), (-5.306, 57.613), 45.28543223191706),\n",
       " ((-6.319, 58.213), (-6.897, 57.78), 79.86618321343873),\n",
       " ((-6.769, 57.436), (-6.897, 57.78), 40.57315127631493),\n",
       " ((-2.949, 57.553), (-3.323, 57.711), 44.930552442516344),\n",
       " ((-5.697, 55.441), (-6.154, 55.181), 58.16272651769959),\n",
       " ((-5.44, 56.45), (-4.985, 56.028), 68.70489895565755),\n",
       " ((-4.418, 54.703), (-4.008, 54.803), 46.6774215297198),\n",
       " ((-2.643, 51.006), (-2.6, 51.453), 49.93497474164129),\n",
       " ((-6.881, 56.5), (-7.449, 57.025), 85.49028902126)]"
      ]
     },
     "execution_count": 13,
     "metadata": {},
     "output_type": "execute_result"
    }
   ],
   "source": [
    "far_stations = functions.distance_closest(data_stations_hourly, 40)\n",
    "far_stations"
   ]
  },
  {
   "cell_type": "code",
   "execution_count": 14,
   "id": "8f9d5b00",
   "metadata": {},
   "outputs": [],
   "source": [
    "functions.tuple_to_csv(far_stations,\"Stations with closestfurther than 40 km\")"
   ]
  },
  {
   "cell_type": "markdown",
   "id": "14e242bc",
   "metadata": {},
   "source": [
    "# Repeating for 2020 data"
   ]
  },
  {
   "cell_type": "markdown",
   "id": "35f4c824",
   "metadata": {},
   "source": [
    "After some further investigation i found that when considering the \"last_year\", some gauges had been replaced or in use and therefore are no longer useful to consider. "
   ]
  },
  {
   "cell_type": "code",
   "execution_count": 15,
   "id": "1c1f3335",
   "metadata": {},
   "outputs": [
    {
     "name": "stderr",
     "output_type": "stream",
     "text": [
      "C:\\Users\\david\\AppData\\Local\\Temp\\ipykernel_10624\\3680133333.py:1: ParserWarning: Falling back to the 'python' engine because the 'c' engine does not support skipfooter; you can avoid this warning by specifying engine='python'.\n",
      "  data_stations_daily = pd.read_csv(\"Data/midas-open_uk-daily-rain-obs_dv-202107_station-metadata.csv\",\n"
     ]
    },
    {
     "data": {
      "text/html": [
       "<div>\n",
       "<style scoped>\n",
       "    .dataframe tbody tr th:only-of-type {\n",
       "        vertical-align: middle;\n",
       "    }\n",
       "\n",
       "    .dataframe tbody tr th {\n",
       "        vertical-align: top;\n",
       "    }\n",
       "\n",
       "    .dataframe thead th {\n",
       "        text-align: right;\n",
       "    }\n",
       "</style>\n",
       "<table border=\"1\" class=\"dataframe\">\n",
       "  <thead>\n",
       "    <tr style=\"text-align: right;\">\n",
       "      <th></th>\n",
       "      <th>station_name</th>\n",
       "      <th>station_file_name</th>\n",
       "      <th>historic_county</th>\n",
       "      <th>station_latitude</th>\n",
       "      <th>station_longitude</th>\n",
       "      <th>station_elevation</th>\n",
       "      <th>first_year</th>\n",
       "      <th>last_year</th>\n",
       "    </tr>\n",
       "    <tr>\n",
       "      <th>src_id</th>\n",
       "      <th></th>\n",
       "      <th></th>\n",
       "      <th></th>\n",
       "      <th></th>\n",
       "      <th></th>\n",
       "      <th></th>\n",
       "      <th></th>\n",
       "      <th></th>\n",
       "    </tr>\n",
       "  </thead>\n",
       "  <tbody>\n",
       "    <tr>\n",
       "      <th>1</th>\n",
       "      <td>FOULA</td>\n",
       "      <td>foula</td>\n",
       "      <td>shetland</td>\n",
       "      <td>60.154</td>\n",
       "      <td>-2.074</td>\n",
       "      <td>22</td>\n",
       "      <td>1989</td>\n",
       "      <td>2003</td>\n",
       "    </tr>\n",
       "    <tr>\n",
       "      <th>3</th>\n",
       "      <td>FAIR ISLE</td>\n",
       "      <td>fair-isle</td>\n",
       "      <td>shetland</td>\n",
       "      <td>59.526</td>\n",
       "      <td>-1.630</td>\n",
       "      <td>57</td>\n",
       "      <td>1974</td>\n",
       "      <td>1997</td>\n",
       "    </tr>\n",
       "    <tr>\n",
       "      <th>5</th>\n",
       "      <td>HAMNAVOE</td>\n",
       "      <td>hamnavoe</td>\n",
       "      <td>shetland</td>\n",
       "      <td>60.104</td>\n",
       "      <td>-1.333</td>\n",
       "      <td>21</td>\n",
       "      <td>1961</td>\n",
       "      <td>1973</td>\n",
       "    </tr>\n",
       "  </tbody>\n",
       "</table>\n",
       "</div>"
      ],
      "text/plain": [
       "       station_name station_file_name historic_county  station_latitude  \\\n",
       "src_id                                                                    \n",
       "1             FOULA             foula        shetland            60.154   \n",
       "3         FAIR ISLE         fair-isle        shetland            59.526   \n",
       "5          HAMNAVOE          hamnavoe        shetland            60.104   \n",
       "\n",
       "        station_longitude  station_elevation  first_year  last_year  \n",
       "src_id                                                               \n",
       "1                  -2.074                 22        1989       2003  \n",
       "3                  -1.630                 57        1974       1997  \n",
       "5                  -1.333                 21        1961       1973  "
      ]
     },
     "execution_count": 15,
     "metadata": {},
     "output_type": "execute_result"
    }
   ],
   "source": [
    "data_stations_daily = pd.read_csv(\"Data/midas-open_uk-daily-rain-obs_dv-202107_station-metadata.csv\",\n",
    "                                  sep=\",\",index_col=0,skipfooter=1)\n",
    "data_stations_daily.head(3)"
   ]
  },
  {
   "cell_type": "code",
   "execution_count": 23,
   "id": "fb400cc7",
   "metadata": {},
   "outputs": [
    {
     "name": "stderr",
     "output_type": "stream",
     "text": [
      "C:\\Users\\david\\AppData\\Local\\Temp\\ipykernel_10624\\4053295565.py:1: FutureWarning: The frame.append method is deprecated and will be removed from pandas in a future version. Use pandas.concat instead.\n",
      "  all_stations = data_stations_daily.append(data_stations_hourly)\n"
     ]
    },
    {
     "data": {
      "text/html": [
       "<div>\n",
       "<style scoped>\n",
       "    .dataframe tbody tr th:only-of-type {\n",
       "        vertical-align: middle;\n",
       "    }\n",
       "\n",
       "    .dataframe tbody tr th {\n",
       "        vertical-align: top;\n",
       "    }\n",
       "\n",
       "    .dataframe thead th {\n",
       "        text-align: right;\n",
       "    }\n",
       "</style>\n",
       "<table border=\"1\" class=\"dataframe\">\n",
       "  <thead>\n",
       "    <tr style=\"text-align: right;\">\n",
       "      <th></th>\n",
       "      <th>station_name</th>\n",
       "      <th>station_file_name</th>\n",
       "      <th>historic_county</th>\n",
       "      <th>station_latitude</th>\n",
       "      <th>station_longitude</th>\n",
       "      <th>station_elevation</th>\n",
       "      <th>first_year</th>\n",
       "      <th>last_year</th>\n",
       "      <th>Location</th>\n",
       "    </tr>\n",
       "    <tr>\n",
       "      <th>src_id</th>\n",
       "      <th></th>\n",
       "      <th></th>\n",
       "      <th></th>\n",
       "      <th></th>\n",
       "      <th></th>\n",
       "      <th></th>\n",
       "      <th></th>\n",
       "      <th></th>\n",
       "      <th></th>\n",
       "    </tr>\n",
       "  </thead>\n",
       "  <tbody>\n",
       "    <tr>\n",
       "      <th>38</th>\n",
       "      <td>ACHFARY</td>\n",
       "      <td>achfary</td>\n",
       "      <td>sutherland</td>\n",
       "      <td>58.311</td>\n",
       "      <td>-4.916</td>\n",
       "      <td>46</td>\n",
       "      <td>1967</td>\n",
       "      <td>2020</td>\n",
       "      <td>NaN</td>\n",
       "    </tr>\n",
       "    <tr>\n",
       "      <th>8231</th>\n",
       "      <td>HUNTSHAM</td>\n",
       "      <td>huntsham</td>\n",
       "      <td>devon</td>\n",
       "      <td>50.953</td>\n",
       "      <td>-3.438</td>\n",
       "      <td>237</td>\n",
       "      <td>2006</td>\n",
       "      <td>2020</td>\n",
       "      <td>NaN</td>\n",
       "    </tr>\n",
       "    <tr>\n",
       "      <th>50</th>\n",
       "      <td>STRATHY EAST</td>\n",
       "      <td>strathy-east</td>\n",
       "      <td>sutherland</td>\n",
       "      <td>58.561</td>\n",
       "      <td>-3.992</td>\n",
       "      <td>68</td>\n",
       "      <td>1993</td>\n",
       "      <td>2020</td>\n",
       "      <td>NaN</td>\n",
       "    </tr>\n",
       "  </tbody>\n",
       "</table>\n",
       "</div>"
      ],
      "text/plain": [
       "        station_name station_file_name historic_county  station_latitude  \\\n",
       "src_id                                                                     \n",
       "38           ACHFARY           achfary      sutherland            58.311   \n",
       "8231        HUNTSHAM          huntsham           devon            50.953   \n",
       "50      STRATHY EAST      strathy-east      sutherland            58.561   \n",
       "\n",
       "        station_longitude  station_elevation  first_year  last_year Location  \n",
       "src_id                                                                        \n",
       "38                 -4.916                 46        1967       2020      NaN  \n",
       "8231               -3.438                237        2006       2020      NaN  \n",
       "50                 -3.992                 68        1993       2020      NaN  "
      ]
     },
     "execution_count": 23,
     "metadata": {},
     "output_type": "execute_result"
    }
   ],
   "source": [
    "all_stations = data_stations_daily.append(data_stations_hourly)\n",
    "current_stations = all_stations.query(\"last_year == 2020\")\n",
    "current_stations.head(3)"
   ]
  },
  {
   "cell_type": "code",
   "execution_count": 17,
   "id": "6441c48b",
   "metadata": {},
   "outputs": [
    {
     "name": "stderr",
     "output_type": "stream",
     "text": [
      "C:\\Users\\david\\Documents\\@@ Python\\Jaar 4\\Q3\\Distance Stations\\functions.py:59: SettingWithCopyWarning: \n",
      "A value is trying to be set on a copy of a slice from a DataFrame.\n",
      "Try using .loc[row_indexer,col_indexer] = value instead\n",
      "\n",
      "See the caveats in the documentation: https://pandas.pydata.org/pandas-docs/stable/user_guide/indexing.html#returning-a-view-versus-a-copy\n",
      "  df['Location'] = df[['station_longitude', 'station_latitude']].apply(tuple, axis=1)\n"
     ]
    },
    {
     "name": "stdout",
     "output_type": "stream",
     "text": [
      "(-2.382, 53.36))\r"
     ]
    },
    {
     "data": {
      "text/plain": [
       "[((-3.77, 56.718), (-3.729, 56.326), 43.779841256116256),\n",
       " ((-2.906, 55.541), (-3.207, 55.312), 41.90257176546626),\n",
       " ((-3.229, 59.112), (-2.901, 58.953), 40.346772800244565),\n",
       " ((-5.428, 56.034), (-5.44, 56.45), 46.1212707167864),\n",
       " ((-2.185, 50.951), (-1.836, 50.779), 43.074517446098135),\n",
       " ((-3.589, 55.047), (-3.95, 54.926), 42.12104580267972),\n",
       " ((-1.63, 59.526), (-1.185, 60.139), 84.11267656407918),\n",
       " ((-1.185, 60.139), (-0.856, 60.748), 76.92816782826834),\n",
       " ((-3.09, 58.454), (-2.901, 58.953), 59.27923333184718),\n",
       " ((-6.319, 58.213), (-6.897, 57.78), 79.86618321343873),\n",
       " ((-4.708, 56.867), (-4.661, 56.419), 49.97662995499321),\n",
       " ((-4.238, 56.94), (-4.486, 57.328), 51.05780295363842),\n",
       " ((-4.661, 56.419), (-4.567, 56.048), 42.45863754350291),\n",
       " ((1.335, 51.347), (0.878, 51.297), 50.838132648755746),\n",
       " ((-5.697, 55.441), (-6.154, 55.181), 58.16272651769959),\n",
       " ((-3.258, 54.125), (-2.86, 54.076), 44.3456132402807),\n",
       " ((-4.741, 52.789), (-4.536, 53.253), 56.25400387288528),\n",
       " ((-4.149, 51.089), (-3.904, 50.769), 44.68451077270649),\n",
       " ((-6.296, 49.915), (-5.328, 50.218), 112.1834739775549),\n",
       " ((-7.385, 57.358), (-6.897, 57.78), 71.3129907415057),\n",
       " ((-6.881, 56.5), (-7.385, 57.358), 109.95227154247561),\n",
       " ((-5.375, 57.181), (-5.306, 57.613), 48.48680017687528),\n",
       " ((-6.25, 55.681), (-6.154, 55.181), 56.345319266993926),\n",
       " ((-1.013, 52.042), (-0.996, 51.669), 41.558366150785275)]"
      ]
     },
     "execution_count": 17,
     "metadata": {},
     "output_type": "execute_result"
    }
   ],
   "source": [
    "current_far_stations = functions.distance_closest(current_stations, 40)\n",
    "current_far_stations"
   ]
  },
  {
   "cell_type": "code",
   "execution_count": 18,
   "id": "f2f26f19",
   "metadata": {},
   "outputs": [],
   "source": [
    "functions.tuple_to_csv(current_far_stations,\"Current stations with closest being further than 40km\")"
   ]
  },
  {
   "cell_type": "code",
   "execution_count": 19,
   "id": "9be79d0d",
   "metadata": {},
   "outputs": [
    {
     "name": "stdout",
     "output_type": "stream",
     "text": [
      "(-4.916, 58.311)\r",
      "(-3.438, 50.953)\r"
     ]
    },
    {
     "name": "stderr",
     "output_type": "stream",
     "text": [
      "C:\\Users\\david\\Documents\\@@ Python\\Jaar 4\\Q3\\Distance Stations\\functions.py:13: SettingWithCopyWarning: \n",
      "A value is trying to be set on a copy of a slice from a DataFrame.\n",
      "Try using .loc[row_indexer,col_indexer] = value instead\n",
      "\n",
      "See the caveats in the documentation: https://pandas.pydata.org/pandas-docs/stable/user_guide/indexing.html#returning-a-view-versus-a-copy\n",
      "  df['Location'] = df[['station_longitude', 'station_latitude']].apply(tuple, axis=1)\n"
     ]
    },
    {
     "name": "stdout",
     "output_type": "stream",
     "text": [
      "(-2.382, 53.36))\r"
     ]
    },
    {
     "data": {
      "text/plain": [
       "[((-1.113, 51.603), (-1.099, 51.62), 2.4446710109857954),\n",
       " ((-1.213, 50.593), (-1.181, 50.624), 4.942043883903684),\n",
       " ((-4.893, 55.723), (-4.908, 55.749), 3.326813847649841),\n",
       " ((-3.47, 52.749), (-3.465, 52.757), 1.0468510943301985),\n",
       " ((-5.941, 54.56), (-5.91, 54.584), 4.3375784371054085),\n",
       " ((-5.91, 54.584), (-5.871, 54.565), 4.798689133991773),\n",
       " ((-2.215, 57.187), (-2.205, 57.205), 2.287310726468455),\n",
       " ((-4.565, 55.477), (-4.585, 55.515), 4.761543104928747)]"
      ]
     },
     "execution_count": 19,
     "metadata": {},
     "output_type": "execute_result"
    }
   ],
   "source": [
    "current_closeby_stations = functions.distance_too_close(current_stations, 5)\n",
    "current_closeby_stations"
   ]
  },
  {
   "cell_type": "code",
   "execution_count": 20,
   "id": "ff58e60d",
   "metadata": {},
   "outputs": [],
   "source": [
    "functions.tuple_to_csv(current_closeby_stations,\"Current stations with closest less than 5km\")"
   ]
  },
  {
   "cell_type": "code",
   "execution_count": 21,
   "id": "a0aa5da0",
   "metadata": {},
   "outputs": [
    {
     "data": {
      "text/plain": [
       "[((-1.113, 51.603), (-1.099, 51.62), 2.4446710109857954),\n",
       " ((-1.213, 50.593), (-1.181, 50.624), 4.942043883903684),\n",
       " ((-4.893, 55.723), (-4.908, 55.749), 3.326813847649841),\n",
       " ((-3.47, 52.749), (-3.465, 52.757), 1.0468510943301985),\n",
       " ((-5.941, 54.56), (-5.91, 54.584), 4.3375784371054085),\n",
       " ((-5.91, 54.584), (-5.871, 54.565), 4.798689133991773),\n",
       " ((-2.215, 57.187), (-2.205, 57.205), 2.287310726468455),\n",
       " ((-4.565, 55.477), (-4.585, 55.515), 4.761543104928747)]"
      ]
     },
     "execution_count": 21,
     "metadata": {},
     "output_type": "execute_result"
    }
   ],
   "source": [
    "current_closeby_stations"
   ]
  },
  {
   "cell_type": "code",
   "execution_count": 22,
   "id": "43016327",
   "metadata": {},
   "outputs": [
    {
     "data": {
      "text/plain": [
       "[((-3.77, 56.718), (-3.729, 56.326), 43.779841256116256),\n",
       " ((-2.906, 55.541), (-3.207, 55.312), 41.90257176546626),\n",
       " ((-3.229, 59.112), (-2.901, 58.953), 40.346772800244565),\n",
       " ((-5.428, 56.034), (-5.44, 56.45), 46.1212707167864),\n",
       " ((-2.185, 50.951), (-1.836, 50.779), 43.074517446098135),\n",
       " ((-3.589, 55.047), (-3.95, 54.926), 42.12104580267972),\n",
       " ((-1.63, 59.526), (-1.185, 60.139), 84.11267656407918),\n",
       " ((-1.185, 60.139), (-0.856, 60.748), 76.92816782826834),\n",
       " ((-3.09, 58.454), (-2.901, 58.953), 59.27923333184718),\n",
       " ((-6.319, 58.213), (-6.897, 57.78), 79.86618321343873),\n",
       " ((-4.708, 56.867), (-4.661, 56.419), 49.97662995499321),\n",
       " ((-4.238, 56.94), (-4.486, 57.328), 51.05780295363842),\n",
       " ((-4.661, 56.419), (-4.567, 56.048), 42.45863754350291),\n",
       " ((1.335, 51.347), (0.878, 51.297), 50.838132648755746),\n",
       " ((-5.697, 55.441), (-6.154, 55.181), 58.16272651769959),\n",
       " ((-3.258, 54.125), (-2.86, 54.076), 44.3456132402807),\n",
       " ((-4.741, 52.789), (-4.536, 53.253), 56.25400387288528),\n",
       " ((-4.149, 51.089), (-3.904, 50.769), 44.68451077270649),\n",
       " ((-6.296, 49.915), (-5.328, 50.218), 112.1834739775549),\n",
       " ((-7.385, 57.358), (-6.897, 57.78), 71.3129907415057),\n",
       " ((-6.881, 56.5), (-7.385, 57.358), 109.95227154247561),\n",
       " ((-5.375, 57.181), (-5.306, 57.613), 48.48680017687528),\n",
       " ((-6.25, 55.681), (-6.154, 55.181), 56.345319266993926),\n",
       " ((-1.013, 52.042), (-0.996, 51.669), 41.558366150785275)]"
      ]
     },
     "execution_count": 22,
     "metadata": {},
     "output_type": "execute_result"
    }
   ],
   "source": [
    "current_far_stations"
   ]
  },
  {
   "cell_type": "code",
   "execution_count": null,
   "id": "3c8b7671",
   "metadata": {},
   "outputs": [],
   "source": []
  }
 ],
 "metadata": {
  "kernelspec": {
   "display_name": "Python 3 (ipykernel)",
   "language": "python",
   "name": "python3"
  },
  "language_info": {
   "codemirror_mode": {
    "name": "ipython",
    "version": 3
   },
   "file_extension": ".py",
   "mimetype": "text/x-python",
   "name": "python",
   "nbconvert_exporter": "python",
   "pygments_lexer": "ipython3",
   "version": "3.10.2"
  }
 },
 "nbformat": 4,
 "nbformat_minor": 5
}
