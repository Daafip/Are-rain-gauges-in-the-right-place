{
 "cells": [
  {
   "cell_type": "markdown",
   "id": "ebbe37d8",
   "metadata": {},
   "source": [
    "### importing packages and functions:\n",
    "All functions are contained in function.py"
   ]
  },
  {
   "cell_type": "code",
   "execution_count": 6,
   "id": "98b659e1",
   "metadata": {},
   "outputs": [],
   "source": [
    "import pandas as pd\n",
    "import matplotlib.pyplot as plt\n",
    "import numpy as np\n",
    "import geopandas as gpd\n",
    "from geopy.distance import geodesic\n",
    "import warnings\n",
    "%matplotlib inline\n",
    "import os\n",
    "import time\n",
    "import functions\n",
    "import shapely"
   ]
  },
  {
   "cell_type": "code",
   "execution_count": 7,
   "id": "d4d8bc0c",
   "metadata": {},
   "outputs": [],
   "source": [
    "import functions"
   ]
  },
  {
   "cell_type": "markdown",
   "id": "2502fb28",
   "metadata": {},
   "source": [
    "This notebook aims to calculate the distance between different raingauges. Note this was the first attempt at using geospatial data, later on geopandas was used rather than own code to export data. Data obatined from: <br>\n",
    "<br>\n",
    "Met Office (2021): MIDAS Open: UK daily rainfall data, v202107. NERC EDS Centre for Environmental Data Analysis, 08 September 2021. doi:10.5285/d6bcf4171c2f4754a7455d00deda0f72. http://dx.doi.org/10.5285/d6bcf4171c2f4754a7455d00deda0f72\n",
    "<br>\n",
    "<br>\n",
    "Specifically the station meta data was used"
   ]
  },
  {
   "cell_type": "markdown",
   "id": "bfd2ef30",
   "metadata": {},
   "source": [
    "## Importing Data"
   ]
  },
  {
   "cell_type": "markdown",
   "id": "0d4f3022",
   "metadata": {},
   "source": [
    "1850 there were only 2 stations:"
   ]
  },
  {
   "cell_type": "code",
   "execution_count": 8,
   "id": "3b254b7c",
   "metadata": {},
   "outputs": [],
   "source": [
    "data1850 = pd.read_csv(\"Data/midas_raindrnl_185301-185312.txt\",sep=',')"
   ]
  },
  {
   "cell_type": "code",
   "execution_count": 9,
   "id": "050eb93a",
   "metadata": {},
   "outputs": [
    {
     "data": {
      "text/plain": [
       "2"
      ]
     },
     "execution_count": 9,
     "metadata": {},
     "output_type": "execute_result"
    }
   ],
   "source": [
    "data1850.ID.nunique()"
   ]
  },
  {
   "cell_type": "markdown",
   "id": "53c6a77f",
   "metadata": {},
   "source": [
    "Whilst 2021 there were 2348"
   ]
  },
  {
   "cell_type": "code",
   "execution_count": 10,
   "id": "0d76857c",
   "metadata": {},
   "outputs": [
    {
     "name": "stderr",
     "output_type": "stream",
     "text": [
      "C:\\Users\\david\\AppData\\Local\\Temp\\ipykernel_5924\\1821358648.py:1: DtypeWarning: Columns (9,15) have mixed types. Specify dtype option on import or set low_memory=False.\n",
      "  data2021 = pd.read_csv(\"Data/midas_raindrnl_202101-202112.txt\",sep=',')\n"
     ]
    }
   ],
   "source": [
    "data2021 = pd.read_csv(\"Data/midas_raindrnl_202101-202112.txt\",sep=',')"
   ]
  },
  {
   "cell_type": "code",
   "execution_count": 11,
   "id": "89c6ff78",
   "metadata": {},
   "outputs": [
    {
     "data": {
      "text/plain": [
       "2348"
      ]
     },
     "execution_count": 11,
     "metadata": {},
     "output_type": "execute_result"
    }
   ],
   "source": [
    "data2021.OB_DAY_CNT.nunique()"
   ]
  },
  {
   "cell_type": "markdown",
   "id": "86148c37",
   "metadata": {},
   "source": [
    "Note afterwards: of these 2348, only 348 had data in 2020, so these were only considered (see code at bottomn)"
   ]
  },
  {
   "cell_type": "code",
   "execution_count": 12,
   "id": "8cd50fa7",
   "metadata": {},
   "outputs": [
    {
     "name": "stderr",
     "output_type": "stream",
     "text": [
      "C:\\Users\\david\\AppData\\Local\\Temp\\ipykernel_5924\\595143646.py:1: ParserWarning: Falling back to the 'python' engine because the 'c' engine does not support skipfooter; you can avoid this warning by specifying engine='python'.\n",
      "  data_stations_hourly = pd.read_csv(\"Data/midas-open_uk-hourly-rain-obs_dv-202107_station-metadata.csv\",\n"
     ]
    },
    {
     "data": {
      "text/html": [
       "<div>\n",
       "<style scoped>\n",
       "    .dataframe tbody tr th:only-of-type {\n",
       "        vertical-align: middle;\n",
       "    }\n",
       "\n",
       "    .dataframe tbody tr th {\n",
       "        vertical-align: top;\n",
       "    }\n",
       "\n",
       "    .dataframe thead th {\n",
       "        text-align: right;\n",
       "    }\n",
       "</style>\n",
       "<table border=\"1\" class=\"dataframe\">\n",
       "  <thead>\n",
       "    <tr style=\"text-align: right;\">\n",
       "      <th></th>\n",
       "      <th>station_name</th>\n",
       "      <th>station_file_name</th>\n",
       "      <th>historic_county</th>\n",
       "      <th>station_latitude</th>\n",
       "      <th>station_longitude</th>\n",
       "      <th>station_elevation</th>\n",
       "      <th>first_year</th>\n",
       "      <th>last_year</th>\n",
       "    </tr>\n",
       "    <tr>\n",
       "      <th>src_id</th>\n",
       "      <th></th>\n",
       "      <th></th>\n",
       "      <th></th>\n",
       "      <th></th>\n",
       "      <th></th>\n",
       "      <th></th>\n",
       "      <th></th>\n",
       "      <th></th>\n",
       "    </tr>\n",
       "  </thead>\n",
       "  <tbody>\n",
       "    <tr>\n",
       "      <th>1</th>\n",
       "      <td>FOULA</td>\n",
       "      <td>foula</td>\n",
       "      <td>shetland</td>\n",
       "      <td>60.154</td>\n",
       "      <td>-2.074</td>\n",
       "      <td>22</td>\n",
       "      <td>1989</td>\n",
       "      <td>1995</td>\n",
       "    </tr>\n",
       "    <tr>\n",
       "      <th>3</th>\n",
       "      <td>FAIR ISLE</td>\n",
       "      <td>fair-isle</td>\n",
       "      <td>shetland</td>\n",
       "      <td>59.526</td>\n",
       "      <td>-1.630</td>\n",
       "      <td>57</td>\n",
       "      <td>1974</td>\n",
       "      <td>2020</td>\n",
       "    </tr>\n",
       "    <tr>\n",
       "      <th>4</th>\n",
       "      <td>SUMBURGH</td>\n",
       "      <td>sumburgh</td>\n",
       "      <td>shetland</td>\n",
       "      <td>59.879</td>\n",
       "      <td>-1.299</td>\n",
       "      <td>7</td>\n",
       "      <td>1978</td>\n",
       "      <td>1996</td>\n",
       "    </tr>\n",
       "  </tbody>\n",
       "</table>\n",
       "</div>"
      ],
      "text/plain": [
       "       station_name station_file_name historic_county  station_latitude  \\\n",
       "src_id                                                                    \n",
       "1             FOULA             foula        shetland            60.154   \n",
       "3         FAIR ISLE         fair-isle        shetland            59.526   \n",
       "4          SUMBURGH          sumburgh        shetland            59.879   \n",
       "\n",
       "        station_longitude  station_elevation  first_year  last_year  \n",
       "src_id                                                               \n",
       "1                  -2.074                 22        1989       1995  \n",
       "3                  -1.630                 57        1974       2020  \n",
       "4                  -1.299                  7        1978       1996  "
      ]
     },
     "execution_count": 12,
     "metadata": {},
     "output_type": "execute_result"
    }
   ],
   "source": [
    "data_stations_hourly = pd.read_csv(\"Data/midas-open_uk-hourly-rain-obs_dv-202107_station-metadata.csv\",\n",
    "                                    sep=\",\",index_col=0,skipfooter=1)\n",
    "data_stations_hourly.head(3)"
   ]
  },
  {
   "cell_type": "markdown",
   "id": "605e2260",
   "metadata": {},
   "source": [
    "## Filtering for subsection to reduce compute times\n",
    "First look at a smaller subsection of data"
   ]
  },
  {
   "cell_type": "code",
   "execution_count": 8,
   "id": "7b4799d3",
   "metadata": {},
   "outputs": [
    {
     "data": {
      "text/html": [
       "<div>\n",
       "<style scoped>\n",
       "    .dataframe tbody tr th:only-of-type {\n",
       "        vertical-align: middle;\n",
       "    }\n",
       "\n",
       "    .dataframe tbody tr th {\n",
       "        vertical-align: top;\n",
       "    }\n",
       "\n",
       "    .dataframe thead th {\n",
       "        text-align: right;\n",
       "    }\n",
       "</style>\n",
       "<table border=\"1\" class=\"dataframe\">\n",
       "  <thead>\n",
       "    <tr style=\"text-align: right;\">\n",
       "      <th></th>\n",
       "      <th>station_name</th>\n",
       "      <th>station_file_name</th>\n",
       "      <th>historic_county</th>\n",
       "      <th>station_latitude</th>\n",
       "      <th>station_longitude</th>\n",
       "      <th>station_elevation</th>\n",
       "      <th>first_year</th>\n",
       "      <th>last_year</th>\n",
       "    </tr>\n",
       "    <tr>\n",
       "      <th>src_id</th>\n",
       "      <th></th>\n",
       "      <th></th>\n",
       "      <th></th>\n",
       "      <th></th>\n",
       "      <th></th>\n",
       "      <th></th>\n",
       "      <th></th>\n",
       "      <th></th>\n",
       "    </tr>\n",
       "  </thead>\n",
       "  <tbody>\n",
       "    <tr>\n",
       "      <th>1054</th>\n",
       "      <td>ESKMEALS</td>\n",
       "      <td>eskmeals</td>\n",
       "      <td>cumbria</td>\n",
       "      <td>54.325</td>\n",
       "      <td>-3.408</td>\n",
       "      <td>8</td>\n",
       "      <td>1994</td>\n",
       "      <td>2001</td>\n",
       "    </tr>\n",
       "    <tr>\n",
       "      <th>1055</th>\n",
       "      <td>ST BEES HEAD NO 2</td>\n",
       "      <td>st-bees-head-no-2</td>\n",
       "      <td>cumbria</td>\n",
       "      <td>54.518</td>\n",
       "      <td>-3.615</td>\n",
       "      <td>124</td>\n",
       "      <td>1992</td>\n",
       "      <td>2020</td>\n",
       "    </tr>\n",
       "    <tr>\n",
       "      <th>1060</th>\n",
       "      <td>KESWICK</td>\n",
       "      <td>keswick</td>\n",
       "      <td>cumbria</td>\n",
       "      <td>54.614</td>\n",
       "      <td>-3.157</td>\n",
       "      <td>81</td>\n",
       "      <td>1992</td>\n",
       "      <td>2020</td>\n",
       "    </tr>\n",
       "  </tbody>\n",
       "</table>\n",
       "</div>"
      ],
      "text/plain": [
       "             station_name  station_file_name historic_county  \\\n",
       "src_id                                                         \n",
       "1054             ESKMEALS           eskmeals         cumbria   \n",
       "1055    ST BEES HEAD NO 2  st-bees-head-no-2         cumbria   \n",
       "1060              KESWICK            keswick         cumbria   \n",
       "\n",
       "        station_latitude  station_longitude  station_elevation  first_year  \\\n",
       "src_id                                                                       \n",
       "1054              54.325             -3.408                  8        1994   \n",
       "1055              54.518             -3.615                124        1992   \n",
       "1060              54.614             -3.157                 81        1992   \n",
       "\n",
       "        last_year  \n",
       "src_id             \n",
       "1054         2001  \n",
       "1055         2020  \n",
       "1060         2020  "
      ]
     },
     "execution_count": 8,
     "metadata": {},
     "output_type": "execute_result"
    }
   ],
   "source": [
    "data_cumbria = data_stations_hourly.query(\"historic_county == 'cumbria'\")\n",
    "data_cumbria.head(3)"
   ]
  },
  {
   "cell_type": "markdown",
   "id": "0cfc765a",
   "metadata": {},
   "source": [
    "### Plot showing the location of points\n",
    "This gives a quick representation, however is better done in GIS"
   ]
  },
  {
   "cell_type": "code",
   "execution_count": null,
   "id": "86f08618",
   "metadata": {},
   "outputs": [],
   "source": [
    "data_cumbria.plot(\"station_longitude\",\"station_latitude\",\"scatter\");"
   ]
  },
  {
   "cell_type": "markdown",
   "id": "722c45e0",
   "metadata": {},
   "source": [
    "### Package used to caculate distance between two points\n",
    "Geopy is used to caculate the geodesic distance between the differen points, here an example is given"
   ]
  },
  {
   "cell_type": "code",
   "execution_count": null,
   "id": "afb75231",
   "metadata": {},
   "outputs": [],
   "source": [
    "# from geopy.distance import geodesic\n",
    "p1 = 54.325,-3.408\n",
    "p2 = 54.518,-3.615\n",
    "print(geodesic(p1,p2).km)"
   ]
  },
  {
   "cell_type": "markdown",
   "id": "bb186219",
   "metadata": {},
   "source": [
    "This can be summarised into the distance_too_close function which takes a dataframe and a threshold and returns any stations closer than the threshold. <br>\n",
    "Here all the hourly stations are used as input any any closer than 5km are returned.<br>\n",
    "_Warning the cell bellow can take a minute or two_"
   ]
  },
  {
   "cell_type": "code",
   "execution_count": null,
   "id": "816f297e",
   "metadata": {},
   "outputs": [],
   "source": [
    "closeby_stations = functions.distance_too_close(data_stations_hourly, 5)\n",
    "closeby_stations"
   ]
  },
  {
   "cell_type": "markdown",
   "id": "c53b5a5b",
   "metadata": {},
   "source": [
    "To import this data into QGIS and process it into a map, it can be saved:"
   ]
  },
  {
   "cell_type": "code",
   "execution_count": null,
   "id": "53027917",
   "metadata": {},
   "outputs": [],
   "source": [
    "functions.tuple_to_csv(closeby_stations,\"Stations with closest closer than 5km\")"
   ]
  },
  {
   "cell_type": "markdown",
   "id": "72619499",
   "metadata": {},
   "source": [
    "## Plot:\n",
    "or, the data returned can then be here:"
   ]
  },
  {
   "cell_type": "code",
   "execution_count": null,
   "id": "afebfa37",
   "metadata": {},
   "outputs": [],
   "source": [
    "lst_x = []\n",
    "lst_y = []\n",
    "for i in closeby_stations:\n",
    "    lst_x.append(i[0][0])\n",
    "    lst_y.append(i[0][1])\n",
    "plt.plot(lst_x,lst_y,\"o\");"
   ]
  },
  {
   "cell_type": "markdown",
   "id": "6ab85699",
   "metadata": {},
   "source": [
    "### Now lets consider the closest other station per station"
   ]
  },
  {
   "cell_type": "markdown",
   "id": "cf617cac",
   "metadata": {},
   "source": [
    "The same can be done as before computing the distance to all other points, however we consider the upperbound stations.<br>\n",
    "The closest station is found, if it is further than the threshold it is returned"
   ]
  },
  {
   "cell_type": "code",
   "execution_count": null,
   "id": "1de6436a",
   "metadata": {},
   "outputs": [],
   "source": [
    "far_stations = functions.distance_closest(data_stations_hourly, 40)\n",
    "far_stations"
   ]
  },
  {
   "cell_type": "code",
   "execution_count": null,
   "id": "8f9d5b00",
   "metadata": {},
   "outputs": [],
   "source": [
    "functions.tuple_to_csv(far_stations,\"Stations with closestfurther than 40 km\")"
   ]
  },
  {
   "cell_type": "markdown",
   "id": "14e242bc",
   "metadata": {},
   "source": [
    "# Repeating for 2020 data"
   ]
  },
  {
   "cell_type": "markdown",
   "id": "35f4c824",
   "metadata": {},
   "source": [
    "After some further investigation i found that when considering the \"last_year\", some gauges had been replaced or in use and therefore are no longer useful to consider. "
   ]
  },
  {
   "cell_type": "code",
   "execution_count": null,
   "id": "1c1f3335",
   "metadata": {},
   "outputs": [],
   "source": [
    "data_stations_daily = pd.read_csv(\"Data/midas-open_uk-daily-rain-obs_dv-202107_station-metadata.csv\",\n",
    "                                  sep=\",\",index_col=0,skipfooter=1)\n",
    "data_stations_daily.head(3)"
   ]
  },
  {
   "cell_type": "code",
   "execution_count": null,
   "id": "fb400cc7",
   "metadata": {},
   "outputs": [],
   "source": [
    "all_stations = data_stations_daily.append(data_stations_hourly)\n",
    "current_stations = all_stations.query(\"last_year == 2020\")\n",
    "current_stations.head(3)"
   ]
  },
  {
   "cell_type": "code",
   "execution_count": null,
   "id": "6441c48b",
   "metadata": {},
   "outputs": [],
   "source": [
    "current_far_stations = functions.distance_closest(current_stations, 40)\n",
    "current_far_stations"
   ]
  },
  {
   "cell_type": "code",
   "execution_count": null,
   "id": "f2f26f19",
   "metadata": {},
   "outputs": [],
   "source": [
    "functions.tuple_to_csv(current_far_stations,\"Current stations with closest being further than 40km\")"
   ]
  },
  {
   "cell_type": "code",
   "execution_count": null,
   "id": "9be79d0d",
   "metadata": {},
   "outputs": [],
   "source": [
    "current_closeby_stations = functions.distance_too_close(current_stations, 5)\n",
    "current_closeby_stations"
   ]
  },
  {
   "cell_type": "code",
   "execution_count": null,
   "id": "ff58e60d",
   "metadata": {},
   "outputs": [],
   "source": [
    "functions.tuple_to_csv(current_closeby_stations,\"Current stations with closest less than 5km\")"
   ]
  },
  {
   "cell_type": "code",
   "execution_count": null,
   "id": "a0aa5da0",
   "metadata": {},
   "outputs": [],
   "source": [
    "current_closeby_stations"
   ]
  },
  {
   "cell_type": "code",
   "execution_count": null,
   "id": "43016327",
   "metadata": {},
   "outputs": [],
   "source": [
    "current_far_stations"
   ]
  },
  {
   "cell_type": "markdown",
   "id": "11e704aa",
   "metadata": {},
   "source": [
    "# using the buffer to look at overlap in gauges "
   ]
  },
  {
   "cell_type": "markdown",
   "id": "7802db5f",
   "metadata": {},
   "source": [
    "Importing from other directory:"
   ]
  },
  {
   "cell_type": "code",
   "execution_count": 13,
   "id": "fbae2614",
   "metadata": {},
   "outputs": [
    {
     "name": "stderr",
     "output_type": "stream",
     "text": [
      "C:\\Users\\david\\AppData\\Local\\Temp\\ipykernel_5924\\337606456.py:15: FutureWarning: The frame.append method is deprecated and will be removed from pandas in a future version. Use pandas.concat instead.\n",
      "  gauges = hourly_gauges.append(daily_gauges)\n"
     ]
    }
   ],
   "source": [
    "# getting dirctory\n",
    "parentDirectory = os.path.abspath(os.path.join(os.getcwd(), os.pardir))\n",
    "\n",
    "# moving one up\n",
    "path_daily = os.path.join(parentDirectory, 'Slope steepness from DEM', 'Gauge Data', \"Daily-Gauges-UK.shp\")\n",
    "path_hourly = os.path.join(parentDirectory, 'Slope steepness from DEM', 'Gauge Data', \"Hourly-Gauges-UK.shp\")\n",
    "path_outline = os.path.join(parentDirectory, 'Drainage Basins', 'Drainage Basins Data',\"Outline UK\",\"gadm36_GBR_0.shp\")\n",
    "\n",
    "#loading\n",
    "daily_gauges = gpd.read_file(path_daily,crs=4326)\n",
    "hourly_gauges = gpd.read_file(path_hourly,crs=4326)\n",
    "Uk_outline = gpd.read_file(path_outline,crs=4326)\n",
    "\n",
    "#combining and displaying\n",
    "gauges = hourly_gauges.append(daily_gauges)\n",
    "gauges.reset_index(drop=True,inplace=True)"
   ]
  },
  {
   "cell_type": "markdown",
   "id": "b3a48f42",
   "metadata": {},
   "source": [
    "Loop over a range of values for a buffer, we run from 0 to 0.5. The uk has a spacing of a couple degrees"
   ]
  },
  {
   "cell_type": "code",
   "execution_count": 10,
   "id": "7fad554d",
   "metadata": {},
   "outputs": [
    {
     "data": {
      "text/plain": [
       "368"
      ]
     },
     "execution_count": 10,
     "metadata": {},
     "output_type": "execute_result"
    }
   ],
   "source": [
    "len(gauges)"
   ]
  },
  {
   "cell_type": "code",
   "execution_count": 11,
   "id": "18a8592a",
   "metadata": {},
   "outputs": [],
   "source": [
    "lst = []\n",
    "buffer = []\n",
    "for i in np.linspace(0.0005,0.5,num=50):\n",
    "    instance = gauges.copy()\n",
    "    warnings.filterwarnings(\"ignore\")\n",
    "    instance.geometry = instance.geometry.buffer(i)\n",
    "    lst.append(instance)\n",
    "    buffer.append(i)\n"
   ]
  },
  {
   "cell_type": "markdown",
   "id": "77f8776f",
   "metadata": {},
   "source": [
    "#### Plot the 3 diffeerent values showing the plots growing in size"
   ]
  },
  {
   "cell_type": "code",
   "execution_count": 30,
   "id": "d7f503a1",
   "metadata": {},
   "outputs": [
    {
     "data": {
      "image/png": "[encoded data removed]",
      "text/plain": [
       "<Figure size 432x288 with 4 Axes>"
      ]
     },
     "metadata": {
      "needs_background": "light"
     },
     "output_type": "display_data"
    }
   ],
   "source": [
    "fig, ax = plt.subplots(1,4, tight_layout=False)\n",
    "title = \"Varying sizes of cricles around gauges\"\n",
    "fig.suptitle(title,y=0.88,fontsize=14)\n",
    "for i, n  in enumerate([2,7,12,40]):\n",
    "    lst[n].plot(ax=ax[i])\n",
    "    ax[i].set_title(f'{buffer[n]:.4f}°')\n",
    "    if i > 0:\n",
    "        ax[i].get_yaxis().set_visible(False)\n",
    "\n",
    "ax[0].figure.savefig(f\"Figures/{title}.png\")"
   ]
  },
  {
   "cell_type": "markdown",
   "id": "e8f10878",
   "metadata": {},
   "source": [
    "Consider this onde case:"
   ]
  },
  {
   "cell_type": "code",
   "execution_count": 72,
   "id": "72d92fd1",
   "metadata": {},
   "outputs": [],
   "source": [
    "n = 30\n",
    "i = 105"
   ]
  },
  {
   "cell_type": "markdown",
   "id": "f8590b4f",
   "metadata": {},
   "source": [
    "We see that the a nearby cell overlaps"
   ]
  },
  {
   "cell_type": "code",
   "execution_count": 74,
   "id": "48334e9a",
   "metadata": {},
   "outputs": [
    {
     "data": {
      "image/png": "[encoded data removed]",
      "text/plain": [
       "<Figure size 360x432 with 1 Axes>"
      ]
     },
     "metadata": {
      "needs_background": "light"
     },
     "output_type": "display_data"
    }
   ],
   "source": [
    "fig, ax = plt.subplots(1,figsize=(5,6))\n",
    "overlap = lst[n].query(f'index == {i} or  index == {i+6}')\n",
    "overlap_gpd = gpd.GeoDataFrame(overlap, crs=4326, geometry=overlap.geometry)\n",
    "overlap_gpd.geometry.centroid.plot(ax=ax,color=\"red\")\n",
    "overlap_gpd.plot(color='none', edgecolor='black',ax=ax)\n",
    "\n",
    "title = f\"Overlap between \\n \" + \\\n",
    "        f\" {lst[n].iloc[i].station_fi} and {lst[n].iloc[i+6].station_fi}\" + \\\n",
    "        f\" \\n for {buffer[n]:.2f}° of buffer\"\n",
    "ax.set_title(title, y=0.98);\n",
    "ax.figure.savefig(f\"Figures/{title[:15]}two stations.jpg\")"
   ]
  },
  {
   "cell_type": "markdown",
   "id": "efed8627",
   "metadata": {},
   "source": [
    "#### exporting to be loaded in over the DEM plot "
   ]
  },
  {
   "cell_type": "code",
   "execution_count": 75,
   "id": "4a97ffe6",
   "metadata": {},
   "outputs": [
    {
     "data": {
      "text/html": [
       "<div>\n",
       "<style scoped>\n",
       "    .dataframe tbody tr th:only-of-type {\n",
       "        vertical-align: middle;\n",
       "    }\n",
       "\n",
       "    .dataframe tbody tr th {\n",
       "        vertical-align: top;\n",
       "    }\n",
       "\n",
       "    .dataframe thead th {\n",
       "        text-align: right;\n",
       "    }\n",
       "</style>\n",
       "<table border=\"1\" class=\"dataframe\">\n",
       "  <thead>\n",
       "    <tr style=\"text-align: right;\">\n",
       "      <th></th>\n",
       "      <th>src_id</th>\n",
       "      <th>station_na</th>\n",
       "      <th>station_fi</th>\n",
       "      <th>historic_c</th>\n",
       "      <th>station_la</th>\n",
       "      <th>station_lo</th>\n",
       "      <th>station_el</th>\n",
       "      <th>first_year</th>\n",
       "      <th>last_year</th>\n",
       "      <th>geometry</th>\n",
       "    </tr>\n",
       "  </thead>\n",
       "  <tbody>\n",
       "    <tr>\n",
       "      <th>105</th>\n",
       "      <td>00847</td>\n",
       "      <td>MIDDLE WALLOP</td>\n",
       "      <td>middle-wallop</td>\n",
       "      <td>hampshire</td>\n",
       "      <td>51.150</td>\n",
       "      <td>-1.570</td>\n",
       "      <td>90</td>\n",
       "      <td>1989</td>\n",
       "      <td>2020</td>\n",
       "      <td>POLYGON ((-1.26368 51.15000, -1.26516 51.11998...</td>\n",
       "    </tr>\n",
       "    <tr>\n",
       "      <th>111</th>\n",
       "      <td>00886</td>\n",
       "      <td>LYNEHAM</td>\n",
       "      <td>lyneham</td>\n",
       "      <td>wiltshire</td>\n",
       "      <td>51.503</td>\n",
       "      <td>-1.992</td>\n",
       "      <td>145</td>\n",
       "      <td>1957</td>\n",
       "      <td>2020</td>\n",
       "      <td>POLYGON ((-1.68568 51.50300, -1.68716 51.47298...</td>\n",
       "    </tr>\n",
       "  </tbody>\n",
       "</table>\n",
       "</div>"
      ],
      "text/plain": [
       "    src_id     station_na     station_fi historic_c  station_la  station_lo  \\\n",
       "105  00847  MIDDLE WALLOP  middle-wallop  hampshire      51.150      -1.570   \n",
       "111  00886        LYNEHAM        lyneham  wiltshire      51.503      -1.992   \n",
       "\n",
       "     station_el  first_year  last_year  \\\n",
       "105          90        1989       2020   \n",
       "111         145        1957       2020   \n",
       "\n",
       "                                              geometry  \n",
       "105  POLYGON ((-1.26368 51.15000, -1.26516 51.11998...  \n",
       "111  POLYGON ((-1.68568 51.50300, -1.68716 51.47298...  "
      ]
     },
     "execution_count": 75,
     "metadata": {},
     "output_type": "execute_result"
    }
   ],
   "source": [
    "overlap_plot = lst[n].query(f'index == {i} or  index == {i+6}')\n",
    "overlap_plot.to_file('overlap_station_plot')\n",
    "overlap_plot"
   ]
  },
  {
   "cell_type": "markdown",
   "id": "98d8f362",
   "metadata": {},
   "source": [
    "This can be done automatically with the following:"
   ]
  },
  {
   "cell_type": "code",
   "execution_count": 76,
   "id": "22d430ec",
   "metadata": {},
   "outputs": [
    {
     "data": {
      "image/svg+xml": [
       "<svg xmlns=\"http://www.w3.org/2000/svg\" xmlns:xlink=\"http://www.w3.org/1999/xlink\" width=\"100.0\" height=\"100.0\" viewBox=\"-1.612551717205409 51.44882799071343 0.07710343441081768 0.010344018573135827\" preserveAspectRatio=\"xMinYMin meet\"><g transform=\"matrix(1,0,0,-1,0,102.908)\"><path fill-rule=\"evenodd\" fill=\"#66cc99\" stroke=\"#555555\" stroke-width=\"0.0015420686882163537\" opacity=\"0.6\" d=\"M -1.6000242503627866,51.4548413296936 L -1.57,51.45631632653061 L -1.5399757496372137,51.4548413296936 L -1.5383039655505475,51.45459334395015 L -1.5479757496372135,51.4531586703064 L -1.578,51.45168367346939 L -1.6080242503627866,51.4531586703064 L -1.6096960344494526,51.45340665604985 L -1.6000242503627866,51.4548413296936 z\" /></g></svg>"
      ],
      "text/plain": [
       "<shapely.geometry.polygon.Polygon at 0x21d0a0af3d0>"
      ]
     },
     "execution_count": 76,
     "metadata": {},
     "output_type": "execute_result"
    }
   ],
   "source": [
    "lst[n].query(f'index == {i}').overlay(lst[n].query(f'index != {i}'), how='intersection').geometry.iloc[0]"
   ]
  },
  {
   "cell_type": "markdown",
   "id": "8ed19be0",
   "metadata": {},
   "source": [
    "Compute the overlap for all the stations to every other station, for 50 different buffer sizes.<br>\n",
    "(not very efficient but it works) <br>\n",
    "Last runtime 19.2 min"
   ]
  },
  {
   "cell_type": "code",
   "execution_count": 77,
   "id": "48e12d83",
   "metadata": {},
   "outputs": [],
   "source": [
    "run = False\n",
    "if run:    \n",
    "    start = time.time()\n",
    "    nmax = len(lst) # total amount of variations of buffering\n",
    "    imax = len(lst[0]) # amount of stations\n",
    "    out = np.zeros((nmax,imax))\n",
    "    for n in range(nmax):\n",
    "        print(f'n={n}',end=\"\\n\")\n",
    "        for i in range(imax):\n",
    "            print(i,end=\"\\r\")\n",
    "            out[n,i] = sum(lst[n].query(f'index == {i}').overlay(lst[n].query(f'index != {i}'), how='intersection').geometry.area)\n",
    "    end = time.time()\n",
    "    print((end-start)/60)"
   ]
  },
  {
   "cell_type": "markdown",
   "id": "57893313",
   "metadata": {},
   "source": [
    "#### To save the hastle of 20min runtime, they have been saved"
   ]
  },
  {
   "cell_type": "code",
   "execution_count": 17,
   "id": "9a4779a2",
   "metadata": {},
   "outputs": [],
   "source": [
    "if run:    \n",
    "    np.savetxt(\"Output/intersection-array.csv\",out,delimiter=\",\")\n",
    "    np.savetxt(\"Output/buffer-array.csv\",buffer,delimiter=\",\")"
   ]
  },
  {
   "cell_type": "markdown",
   "id": "b503af24",
   "metadata": {},
   "source": [
    "And can then be loaded in"
   ]
  },
  {
   "cell_type": "code",
   "execution_count": 15,
   "id": "fc077eed",
   "metadata": {},
   "outputs": [],
   "source": [
    "read_out = np.genfromtxt(\"Output/intersection-array.csv\", delimiter=',')\n",
    "read_buffer = np.genfromtxt(\"Output/buffer-array.csv\", delimiter=',')"
   ]
  },
  {
   "cell_type": "markdown",
   "id": "a01aec2a",
   "metadata": {},
   "source": [
    "By summing over the horizontal axis of the output array, we get a total overlap per buffer size (running from 0 - 0.5 degrees)"
   ]
  },
  {
   "cell_type": "code",
   "execution_count": 19,
   "id": "6c2339a3",
   "metadata": {},
   "outputs": [
    {
     "name": "stdout",
     "output_type": "stream",
     "text": [
      "50 50\n"
     ]
    }
   ],
   "source": [
    "print(len(buffer),len(np.sum(read_out, axis=1)))"
   ]
  },
  {
   "cell_type": "code",
   "execution_count": 20,
   "id": "9879f22d",
   "metadata": {},
   "outputs": [
    {
     "data": {
      "image/png": "[encoded data removed]",
      "text/plain": [
       "<Figure size 432x288 with 1 Axes>"
      ]
     },
     "metadata": {
      "needs_background": "light"
     },
     "output_type": "display_data"
    }
   ],
   "source": [
    "plt.axhline(Uk_outline.geometry.iloc[0].area, ls=\"--\",color=\"r\",alpha=0.7,label=\"area UK\")\n",
    "plt.plot(read_buffer, np.sum(read_out, axis=1),label=\"area of overlap\")\n",
    "plt.xlabel(\"degrees of buffer around station, 0.1 deg ~ 7km\")\n",
    "plt.ylabel(\"area in degrees squared\")\n",
    "plt.legend()\n",
    "title = \"Total area of overlap\"\n",
    "plt.title(title)\n",
    "plt.savefig(f\"Figures/{title}.jpg\")"
   ]
  },
  {
   "cell_type": "markdown",
   "id": "e164ccb5",
   "metadata": {},
   "source": [
    "#### Would be interesting to compare to regular spaced grid:\n",
    "[Code in cell bellow borrowed and adjusted from here](https://stackoverflow.com/questions/66010964/fastest-way-to-produce-a-grid-of-points-that-fall-within-a-polygon-or-shape)\n"
   ]
  },
  {
   "cell_type": "code",
   "execution_count": 33,
   "id": "4764a03d",
   "metadata": {},
   "outputs": [],
   "source": [
    "# construct a rectangular mesh\n",
    "resolution = 0.3\n",
    "valid_points = []\n",
    "polygon = Uk_outline.geometry.iloc[0]\n",
    "\n",
    "latmin, lonmin, latmax, lonmax = polygon.bounds\n",
    "\n",
    "# create prepared polygon\n",
    "prep_polygon = shapely.prepared.prep(polygon)\n",
    "\n",
    "# construct a rectangular mesh\n",
    "points = []\n",
    "for lat in np.arange(latmin, latmax, resolution):\n",
    "    for lon in np.arange(lonmin, lonmax, resolution):\n",
    "        points.append(shapely.geometry.Point((round(lat,4), round(lon,4))))\n",
    "\n",
    "# validate if each point falls inside shape using\n",
    "# the prepared polygon\n",
    "valid_points.extend(filter(prep_polygon.contains, points))"
   ]
  },
  {
   "cell_type": "code",
   "execution_count": 36,
   "id": "9503352f",
   "metadata": {},
   "outputs": [
    {
     "data": {
      "text/plain": [
       "368"
      ]
     },
     "execution_count": 36,
     "metadata": {},
     "output_type": "execute_result"
    }
   ],
   "source": [
    "len(gauges)"
   ]
  },
  {
   "cell_type": "code",
   "execution_count": 42,
   "id": "fef08452",
   "metadata": {},
   "outputs": [
    {
     "name": "stdout",
     "output_type": "stream",
     "text": [
      "375\n",
      "368\n"
     ]
    }
   ],
   "source": [
    "print(len(valid_points))\n",
    "print(len(valid_points[:368]))\n",
    "valid_points = valid_points[:368]"
   ]
  },
  {
   "cell_type": "code",
   "execution_count": 43,
   "id": "1997a2d5",
   "metadata": {},
   "outputs": [
    {
     "data": {
      "image/png": "[encoded data removed]",
      "text/plain": [
       "<Figure size 360x576 with 1 Axes>"
      ]
     },
     "metadata": {
      "needs_background": "light"
     },
     "output_type": "display_data"
    }
   ],
   "source": [
    "equal_spaced_points = gpd.GeoDataFrame(geometry=valid_points)\n",
    "\n",
    "fig, ax = plt.subplots(1, figsize=(5,8))\n",
    "equal_spaced_points.plot(ax=ax, markersize=1)\n",
    "Uk_outline.plot(ax=ax,color=\"none\")\n",
    "ax.set_xlim((-9,2))\n",
    "ax.set_ylim((50,60))\n",
    "title = f\"Resolution of {resolution} with {len(equal_spaced_points)} points\"\n",
    "ax.set_title(title);\n",
    "ax.figure.savefig(f\"Figures/{title}.png\")"
   ]
  },
  {
   "cell_type": "markdown",
   "id": "39ee90f3",
   "metadata": {},
   "source": [
    "Repeat code above, again long run times so loaded for you<br>\n",
    "last runtime 17.5 min, it automatically saves the files, you only need to load them bellow"
   ]
  },
  {
   "cell_type": "code",
   "execution_count": 45,
   "id": "b9c79e86",
   "metadata": {},
   "outputs": [
    {
     "name": "stdout",
     "output_type": "stream",
     "text": [
      "n=0\n",
      "n=1\n",
      "n=2\n",
      "n=3\n",
      "n=4\n",
      "n=5\n",
      "n=6\n",
      "n=7\n",
      "n=8\n",
      "n=9\n",
      "n=10\n",
      "n=11\n",
      "n=12\n",
      "n=13\n",
      "n=14\n",
      "n=15\n",
      "n=16\n",
      "n=17\n",
      "n=18\n",
      "n=19\n",
      "n=20\n",
      "n=21\n",
      "n=22\n",
      "n=23\n",
      "n=24\n",
      "n=25\n",
      "n=26\n",
      "n=27\n",
      "n=28\n",
      "n=29\n",
      "n=30\n",
      "n=31\n",
      "n=32\n",
      "n=33\n",
      "n=34\n",
      "n=35\n",
      "n=36\n",
      "n=37\n",
      "n=38\n",
      "n=39\n",
      "n=40\n",
      "n=41\n",
      "n=42\n",
      "n=43\n",
      "n=44\n",
      "n=45\n",
      "n=46\n",
      "n=47\n",
      "n=48\n",
      "n=49\n",
      "17.019314177831014\n"
     ]
    }
   ],
   "source": [
    "run = False\n",
    "if run:\n",
    "    functions.run_buffer_spacing(equal_spaced_points, \"equal-space\")"
   ]
  },
  {
   "cell_type": "code",
   "execution_count": 47,
   "id": "73a007fe",
   "metadata": {},
   "outputs": [],
   "source": [
    "read_out_spaced = np.genfromtxt(\"Output/intersection-array-equal-space.csv\", delimiter=',')\n",
    "read_buffer_spaced = np.genfromtxt(\"Output/buffer-array-equal-space.csv\", delimiter=',')"
   ]
  },
  {
   "cell_type": "code",
   "execution_count": 56,
   "id": "b313f711",
   "metadata": {},
   "outputs": [
    {
     "data": {
      "image/png": "[encoded data removed]",
      "text/plain": [
       "<Figure size 432x288 with 1 Axes>"
      ]
     },
     "metadata": {
      "needs_background": "light"
     },
     "output_type": "display_data"
    }
   ],
   "source": [
    "plt.axhline(Uk_outline.geometry.iloc[0].area, ls=\"--\",color=\"r\",alpha=0.7,label=\"area UK\")\n",
    "\n",
    "plt.plot(read_buffer, np.sum(read_out, axis=1),label=f\"Area of overlap: {len(read_out[0])} rain gauges\")\n",
    "plt.plot(read_buffer_spaced, np.sum(read_out_spaced, axis=1),\n",
    "         label=f\"Area of overlap: {len(read_out_spaced[0])} equally spaced points\")\n",
    "\n",
    "plt.xlabel(\"degrees of buffer around station, 0.1 deg ~ 7km\")\n",
    "plt.ylabel(\"area in degrees squared\")\n",
    "\n",
    "plt.legend()\n",
    "title = \"Total area of overlap\"\n",
    "plt.title(title)\n",
    "# plt.xlim(0.15+d,0.3+d)\n",
    "plt.savefig(f\"Figures/{title}-with-equalspaced.png\")"
   ]
  },
  {
   "cell_type": "markdown",
   "id": "3d665174",
   "metadata": {},
   "source": [
    "Plotting can also be done per station"
   ]
  },
  {
   "cell_type": "code",
   "execution_count": 29,
   "id": "1791d9a2",
   "metadata": {},
   "outputs": [
    {
     "data": {
      "image/png": "[encoded data removed]",
      "text/plain": [
       "<Figure size 1080x576 with 2 Axes>"
      ]
     },
     "metadata": {
      "needs_background": "light"
     },
     "output_type": "display_data"
    }
   ],
   "source": [
    "fig, ax =plt.subplots(1,2,tight_layout=True,figsize=(15,8))\n",
    "title = \"Area of overlap, per station for varying buffer amounts\"\n",
    "fig.suptitle(title)\n",
    "\n",
    "for i in [0,9,19,29,39,49]:\n",
    "    ax[0].plot(read_out[i],'*',markersize=2.5,label=f\"{buffer[i]:.4f}\")\n",
    "    \n",
    "ax[0].figure.savefig(\"Combined_plot.jpg\")\n",
    "ax[0].set_xlabel(\"station index\")\n",
    "ax[0].set_ylabel(\"Area of overlap per station (deg^2)\");\n",
    "ax[0].set_title(\"Data range[0, 0.5]deg\")\n",
    "ax[0].legend()\n",
    "\n",
    "for i in [0,1,2,3,4,5,6,7,8,9,10]:\n",
    "    ax[1].plot(read_out[i],'*',markersize=2.5,label=f\"{buffer[i]:.4f}\")\n",
    "ax[1].legend()\n",
    "ax[1].set_title(\"Data range[0, 0.1]deg\")\n",
    "\n",
    "ax[0].figure.savefig(f'Figures/{title}.png')"
   ]
  },
  {
   "cell_type": "code",
   "execution_count": null,
   "id": "e37ea763",
   "metadata": {},
   "outputs": [],
   "source": []
  },
  {
   "cell_type": "code",
   "execution_count": null,
   "id": "d97f9408",
   "metadata": {},
   "outputs": [],
   "source": []
  }
 ],
 "metadata": {
  "kernelspec": {
   "display_name": "Python 3 (ipykernel)",
   "language": "python",
   "name": "python3"
  },
  "language_info": {
   "codemirror_mode": {
    "name": "ipython",
    "version": 3
   },
   "file_extension": ".py",
   "mimetype": "text/x-python",
   "name": "python",
   "nbconvert_exporter": "python",
   "pygments_lexer": "ipython3",
   "version": "3.10.2"
  }
 },
 "nbformat": 4,
 "nbformat_minor": 5
}
