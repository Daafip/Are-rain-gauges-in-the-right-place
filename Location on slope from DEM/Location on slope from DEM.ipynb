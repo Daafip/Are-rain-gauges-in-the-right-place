{
 "cells": [
  {
   "cell_type": "code",
   "execution_count": 1,
   "id": "a7311ed3",
   "metadata": {},
   "outputs": [],
   "source": [
    "import matplotlib.pyplot as plt\n",
    "import matplotlib.image\n",
    "import rasterio\n",
    "import rasterio.plot\n",
    "import rasterio.merge\n",
    "import rasterio.mask\n",
    "import geopandas as gpd\n",
    "import cartopy.crs as ccrs\n",
    "import numpy as np\n",
    "import warnings\n",
    "import time\n",
    "import pandas as pd"
   ]
  },
  {
   "cell_type": "code",
   "execution_count": 2,
   "id": "ce75258e",
   "metadata": {},
   "outputs": [],
   "source": [
    "import functions"
   ]
  },
  {
   "cell_type": "markdown",
   "id": "b4497510",
   "metadata": {},
   "source": [
    "### Start  again by loading in all the gauge data\n",
    "Note: this is the output from the last cell in the \"Slope steepness from DEM\" notebook <br>\n",
    "Make sure to remove the 3 unfound gauges (filter < 99)"
   ]
  },
  {
   "cell_type": "code",
   "execution_count": 3,
   "id": "0d84ef51",
   "metadata": {},
   "outputs": [],
   "source": [
    "gauges = gpd.read_file(\"Gauge Data/Gauges-with-raster-id.shp\",crs=4326)"
   ]
  },
  {
   "cell_type": "code",
   "execution_count": 4,
   "id": "667479fd",
   "metadata": {},
   "outputs": [
    {
     "data": {
      "text/html": [
       "<div>\n",
       "<style scoped>\n",
       "    .dataframe tbody tr th:only-of-type {\n",
       "        vertical-align: middle;\n",
       "    }\n",
       "\n",
       "    .dataframe tbody tr th {\n",
       "        vertical-align: top;\n",
       "    }\n",
       "\n",
       "    .dataframe thead th {\n",
       "        text-align: right;\n",
       "    }\n",
       "</style>\n",
       "<table border=\"1\" class=\"dataframe\">\n",
       "  <thead>\n",
       "    <tr style=\"text-align: right;\">\n",
       "      <th></th>\n",
       "      <th>level_0</th>\n",
       "      <th>src_id</th>\n",
       "      <th>station_na</th>\n",
       "      <th>station_fi</th>\n",
       "      <th>historic_c</th>\n",
       "      <th>station_la</th>\n",
       "      <th>station_lo</th>\n",
       "      <th>station_el</th>\n",
       "      <th>first_year</th>\n",
       "      <th>last_year</th>\n",
       "      <th>raster_id</th>\n",
       "      <th>geometry</th>\n",
       "    </tr>\n",
       "  </thead>\n",
       "  <tbody>\n",
       "    <tr>\n",
       "      <th>0</th>\n",
       "      <td>0</td>\n",
       "      <td>00003</td>\n",
       "      <td>FAIR ISLE</td>\n",
       "      <td>fair-isle</td>\n",
       "      <td>shetland</td>\n",
       "      <td>59.526</td>\n",
       "      <td>-1.630</td>\n",
       "      <td>57</td>\n",
       "      <td>1974</td>\n",
       "      <td>2020</td>\n",
       "      <td>4</td>\n",
       "      <td>POINT (-1.63000 59.52600)</td>\n",
       "    </tr>\n",
       "    <tr>\n",
       "      <th>1</th>\n",
       "      <td>1</td>\n",
       "      <td>00023</td>\n",
       "      <td>KIRKWALL</td>\n",
       "      <td>kirkwall</td>\n",
       "      <td>orkney</td>\n",
       "      <td>58.953</td>\n",
       "      <td>-2.901</td>\n",
       "      <td>26</td>\n",
       "      <td>1957</td>\n",
       "      <td>2020</td>\n",
       "      <td>4</td>\n",
       "      <td>POINT (-2.90100 58.95300)</td>\n",
       "    </tr>\n",
       "    <tr>\n",
       "      <th>2</th>\n",
       "      <td>2</td>\n",
       "      <td>00032</td>\n",
       "      <td>WICK AIRPORT</td>\n",
       "      <td>wick-airport</td>\n",
       "      <td>caithness</td>\n",
       "      <td>58.454</td>\n",
       "      <td>-3.090</td>\n",
       "      <td>36</td>\n",
       "      <td>1930</td>\n",
       "      <td>2020</td>\n",
       "      <td>4</td>\n",
       "      <td>POINT (-3.09000 58.45400)</td>\n",
       "    </tr>\n",
       "    <tr>\n",
       "      <th>3</th>\n",
       "      <td>3</td>\n",
       "      <td>00040</td>\n",
       "      <td>CASSLEY</td>\n",
       "      <td>cassley</td>\n",
       "      <td>sutherland</td>\n",
       "      <td>58.168</td>\n",
       "      <td>-4.727</td>\n",
       "      <td>99</td>\n",
       "      <td>1999</td>\n",
       "      <td>2020</td>\n",
       "      <td>4</td>\n",
       "      <td>POINT (-4.72700 58.16800)</td>\n",
       "    </tr>\n",
       "    <tr>\n",
       "      <th>4</th>\n",
       "      <td>4</td>\n",
       "      <td>00044</td>\n",
       "      <td>ALTNAHARRA NO 2</td>\n",
       "      <td>altnaharra-no-2</td>\n",
       "      <td>sutherland</td>\n",
       "      <td>58.288</td>\n",
       "      <td>-4.442</td>\n",
       "      <td>81</td>\n",
       "      <td>1993</td>\n",
       "      <td>2020</td>\n",
       "      <td>4</td>\n",
       "      <td>POINT (-4.44200 58.28800)</td>\n",
       "    </tr>\n",
       "    <tr>\n",
       "      <th>...</th>\n",
       "      <td>...</td>\n",
       "      <td>...</td>\n",
       "      <td>...</td>\n",
       "      <td>...</td>\n",
       "      <td>...</td>\n",
       "      <td>...</td>\n",
       "      <td>...</td>\n",
       "      <td>...</td>\n",
       "      <td>...</td>\n",
       "      <td>...</td>\n",
       "      <td>...</td>\n",
       "      <td>...</td>\n",
       "    </tr>\n",
       "    <tr>\n",
       "      <th>360</th>\n",
       "      <td>360</td>\n",
       "      <td>24218</td>\n",
       "      <td>HARTPURY COLLEGE</td>\n",
       "      <td>hartpury-college</td>\n",
       "      <td>gloucestershire</td>\n",
       "      <td>51.904</td>\n",
       "      <td>-2.312</td>\n",
       "      <td>41</td>\n",
       "      <td>1998</td>\n",
       "      <td>2020</td>\n",
       "      <td>1</td>\n",
       "      <td>POINT (-2.31200 51.90400)</td>\n",
       "    </tr>\n",
       "    <tr>\n",
       "      <th>361</th>\n",
       "      <td>361</td>\n",
       "      <td>24219</td>\n",
       "      <td>MANNINGTON HALL</td>\n",
       "      <td>mannington-hall</td>\n",
       "      <td>norfolk</td>\n",
       "      <td>52.844</td>\n",
       "      <td>1.179</td>\n",
       "      <td>30</td>\n",
       "      <td>1999</td>\n",
       "      <td>2020</td>\n",
       "      <td>0</td>\n",
       "      <td>POINT (1.17900 52.84400)</td>\n",
       "    </tr>\n",
       "    <tr>\n",
       "      <th>362</th>\n",
       "      <td>362</td>\n",
       "      <td>57118</td>\n",
       "      <td>BUTE: ROTHESAY NO2</td>\n",
       "      <td>bute-rothesay-no2</td>\n",
       "      <td>buteshire</td>\n",
       "      <td>55.825</td>\n",
       "      <td>-5.056</td>\n",
       "      <td>36</td>\n",
       "      <td>2013</td>\n",
       "      <td>2020</td>\n",
       "      <td>5</td>\n",
       "      <td>POINT (-5.05600 55.82500)</td>\n",
       "    </tr>\n",
       "    <tr>\n",
       "      <th>363</th>\n",
       "      <td>363</td>\n",
       "      <td>57233</td>\n",
       "      <td>MARGAM NO 2</td>\n",
       "      <td>margam-no-2</td>\n",
       "      <td>glamorganshire</td>\n",
       "      <td>51.555</td>\n",
       "      <td>-3.721</td>\n",
       "      <td>40</td>\n",
       "      <td>2013</td>\n",
       "      <td>2020</td>\n",
       "      <td>1</td>\n",
       "      <td>POINT (-3.72100 51.55500)</td>\n",
       "    </tr>\n",
       "    <tr>\n",
       "      <th>364</th>\n",
       "      <td>364</td>\n",
       "      <td>57267</td>\n",
       "      <td>ACHILTIBUIE NO2</td>\n",
       "      <td>achiltibuie-no2</td>\n",
       "      <td>ross-and-cromarty</td>\n",
       "      <td>58.015</td>\n",
       "      <td>-5.336</td>\n",
       "      <td>49</td>\n",
       "      <td>2013</td>\n",
       "      <td>2020</td>\n",
       "      <td>5</td>\n",
       "      <td>POINT (-5.33600 58.01500)</td>\n",
       "    </tr>\n",
       "  </tbody>\n",
       "</table>\n",
       "<p>365 rows × 12 columns</p>\n",
       "</div>"
      ],
      "text/plain": [
       "     level_0 src_id          station_na         station_fi         historic_c  \\\n",
       "0          0  00003           FAIR ISLE          fair-isle           shetland   \n",
       "1          1  00023            KIRKWALL           kirkwall             orkney   \n",
       "2          2  00032        WICK AIRPORT       wick-airport          caithness   \n",
       "3          3  00040             CASSLEY            cassley         sutherland   \n",
       "4          4  00044     ALTNAHARRA NO 2    altnaharra-no-2         sutherland   \n",
       "..       ...    ...                 ...                ...                ...   \n",
       "360      360  24218    HARTPURY COLLEGE   hartpury-college    gloucestershire   \n",
       "361      361  24219     MANNINGTON HALL    mannington-hall            norfolk   \n",
       "362      362  57118  BUTE: ROTHESAY NO2  bute-rothesay-no2          buteshire   \n",
       "363      363  57233         MARGAM NO 2        margam-no-2     glamorganshire   \n",
       "364      364  57267     ACHILTIBUIE NO2    achiltibuie-no2  ross-and-cromarty   \n",
       "\n",
       "     station_la  station_lo  station_el  first_year  last_year  raster_id  \\\n",
       "0        59.526      -1.630          57        1974       2020          4   \n",
       "1        58.953      -2.901          26        1957       2020          4   \n",
       "2        58.454      -3.090          36        1930       2020          4   \n",
       "3        58.168      -4.727          99        1999       2020          4   \n",
       "4        58.288      -4.442          81        1993       2020          4   \n",
       "..          ...         ...         ...         ...        ...        ...   \n",
       "360      51.904      -2.312          41        1998       2020          1   \n",
       "361      52.844       1.179          30        1999       2020          0   \n",
       "362      55.825      -5.056          36        2013       2020          5   \n",
       "363      51.555      -3.721          40        2013       2020          1   \n",
       "364      58.015      -5.336          49        2013       2020          5   \n",
       "\n",
       "                      geometry  \n",
       "0    POINT (-1.63000 59.52600)  \n",
       "1    POINT (-2.90100 58.95300)  \n",
       "2    POINT (-3.09000 58.45400)  \n",
       "3    POINT (-4.72700 58.16800)  \n",
       "4    POINT (-4.44200 58.28800)  \n",
       "..                         ...  \n",
       "360  POINT (-2.31200 51.90400)  \n",
       "361   POINT (1.17900 52.84400)  \n",
       "362  POINT (-5.05600 55.82500)  \n",
       "363  POINT (-3.72100 51.55500)  \n",
       "364  POINT (-5.33600 58.01500)  \n",
       "\n",
       "[365 rows x 12 columns]"
      ]
     },
     "execution_count": 4,
     "metadata": {},
     "output_type": "execute_result"
    }
   ],
   "source": [
    "gauges.query(\"raster_id < 99\", inplace=True)\n",
    "gauges.reset_index(inplace=True)\n",
    "gauges.reset_index(inplace=True)\n",
    "gauges.drop(columns=\"index\",inplace=True)\n",
    "gauges"
   ]
  },
  {
   "cell_type": "markdown",
   "id": "b5541564",
   "metadata": {},
   "source": [
    "The cropped data is indexed by the filenames first so still need those"
   ]
  },
  {
   "cell_type": "code",
   "execution_count": 5,
   "id": "cfd06090",
   "metadata": {},
   "outputs": [],
   "source": [
    "filenames = []\n",
    "with open(\"Cropped Data/filenames.txt\") as fin:\n",
    "    for line in fin:\n",
    "        filenames.append(line.strip())\n",
    "# filenames"
   ]
  },
  {
   "cell_type": "code",
   "execution_count": 6,
   "id": "6aaf4311",
   "metadata": {},
   "outputs": [
    {
     "name": "stdout",
     "output_type": "stream",
     "text": [
      "['n50e000_dem', 'n50w005_dem', 'n50w010_dem', 'n50w015_dem', 'n55w005_dem', 'n55w010_dem']\n"
     ]
    }
   ],
   "source": [
    "UK = filenames[68:69] + filenames[80:83] + filenames[95:97]\n",
    "print(UK)"
   ]
  },
  {
   "cell_type": "markdown",
   "id": "43e0890b",
   "metadata": {},
   "source": [
    "#### Up until now  main focus has been on a slope of given length\n",
    "now, first consider a close by slope e.g. 1 - 5px and then look how long this continues for. "
   ]
  },
  {
   "cell_type": "code",
   "execution_count": 7,
   "id": "64e8bc32",
   "metadata": {},
   "outputs": [],
   "source": [
    "number_px = 5\n",
    "instance = functions.Raster_Location_OnSlope(gauges, UK, number_px)"
   ]
  },
  {
   "cell_type": "markdown",
   "id": "b27fae30",
   "metadata": {},
   "source": [
    "#### This is a given array"
   ]
  },
  {
   "cell_type": "code",
   "execution_count": 8,
   "id": "03056b77",
   "metadata": {},
   "outputs": [
    {
     "name": "stdout",
     "output_type": "stream",
     "text": [
      "Gauge height: 57, array:\n"
     ]
    },
    {
     "data": {
      "text/plain": [
       "array([-32768,    126,    139,    154,    176,    191,    190,    172,\n",
       "          156,    151,    143,    134,    124,    120,    112,    101,\n",
       "           90,     78,     75,     73,     70,     66,     62,     68,\n",
       "           65,     58,     59,     61,     56,     56,     57,     57,\n",
       "           53,     49,     41,     35,     44,     49,     38,     25,\n",
       "           17,     35,     43,     22,      4, -32768, -32768, -32768,\n",
       "       -32768, -32768, -32768, -32768, -32768, -32768, -32768, -32768,\n",
       "       -32768, -32768, -32768, -32768, -32768], dtype=int16)"
      ]
     },
     "execution_count": 8,
     "metadata": {},
     "output_type": "execute_result"
    }
   ],
   "source": [
    "print(f'Gauge height: {instance.get_array_given_orientation(0, \"ns\")[0][30]}, array:')\n",
    "instance.get_array_given_orientation(0, \"ns\")[0]"
   ]
  },
  {
   "cell_type": "markdown",
   "id": "d642acd2",
   "metadata": {},
   "source": [
    "#### ant this is its steepness\n",
    "here 'n_px=5' is used"
   ]
  },
  {
   "cell_type": "code",
   "execution_count": 9,
   "id": "18b33f5f",
   "metadata": {},
   "outputs": [
    {
     "data": {
      "text/plain": [
       "-10.934845977353204"
      ]
     },
     "execution_count": 9,
     "metadata": {},
     "output_type": "execute_result"
    }
   ],
   "source": [
    "instance.slope_steepness(1, \"ns\")"
   ]
  },
  {
   "cell_type": "markdown",
   "id": "9075528e",
   "metadata": {},
   "source": [
    "#### we can then look just outside the previous range made used to caculate the steepness\n",
    "Each on both sides taking the next segment of size equal to the stepsize"
   ]
  },
  {
   "cell_type": "code",
   "execution_count": 10,
   "id": "b2bce420",
   "metadata": {},
   "outputs": [
    {
     "data": {
      "image/png": "[encoded data removed]",
      "text/plain": [
       "<Figure size 504x504 with 1 Axes>"
      ]
     },
     "metadata": {
      "needs_background": "light"
     },
     "output_type": "display_data"
    }
   ],
   "source": [
    "plt.figure(figsize=(7,7))\n",
    "plt.imshow(matplotlib.image.imread(\"Figures/Profile of slope around gauge n0ns - showing steps.jpg\"))\n",
    "plt.axis(\"off\");\n"
   ]
  },
  {
   "cell_type": "markdown",
   "id": "559bc87f",
   "metadata": {},
   "source": [
    "#### consider this case:"
   ]
  },
  {
   "cell_type": "code",
   "execution_count": 11,
   "id": "aca7b6f3",
   "metadata": {},
   "outputs": [
    {
     "data": {
      "image/png": "[encoded data removed]",
      "text/plain": [
       "<Figure size 360x360 with 4 Axes>"
      ]
     },
     "metadata": {
      "needs_background": "light"
     },
     "output_type": "display_data"
    }
   ],
   "source": [
    "functions.plotting(gauges, UK, 5).plot_gauge(0, \"all\")"
   ]
  },
  {
   "cell_type": "markdown",
   "id": "e9f1c894",
   "metadata": {},
   "source": [
    "#### a function was written comparing the left and right slope, returning what it is\n",
    "Again the amount of pixels matters, here we itterate over the availible 30 pixels<br>\n",
    "Notice how above 15, it often starts to return flat: very little difference in the slope and left == right. <br>\n",
    "if you do this for different stations we see a similar effect that higher pixel count causes this.<br>\n",
    "Reason is we have 30 px, and we aready look 15, the other 15 aren't returning differing information <br>\n",
    "So either increase size or stick to <15. <br>\n",
    "5px seems to be a fair representation when comparing it to the plots"
   ]
  },
  {
   "cell_type": "code",
   "execution_count": 12,
   "id": "8b7d9d82",
   "metadata": {},
   "outputs": [
    {
     "name": "stdout",
     "output_type": "stream",
     "text": [
      "starting..... 2\n",
      "0 ['Flat', 'Flat', 'Flat', 'Flat']\n",
      "2.064122365384827 0.0\n",
      "1 ['Flat', 'Slope', 'Slope', None]\n",
      "0.0 -4.128244730769654\n",
      "2 [None, 'Slope', 'Ridge', 'Ridge']\n",
      "3 ['Slope', 'Slope', 'Slope', 'Ridge']\n",
      "4 ['Ridge', 'Slope', 'Slope', 'Slope']\n",
      "5 ['Ridge', 'Ridge', 'Slope', 'Ridge']\n",
      "6 ['Ridge', 'Ridge', 'Ridge', 'Ridge']\n",
      "7 ['Ridge', 'Ridge', 'Slope', 'Ridge']\n",
      "8 ['Ridge', 'Ridge', 'Slope', 'Ridge']\n",
      "9 ['Ridge', 'Ridge', 'Slope', 'Slope']\n",
      "10 ['Ridge', 'Ridge', 'Slope', 'Slope']\n"
     ]
    },
    {
     "name": "stderr",
     "output_type": "stream",
     "text": [
      "C:\\Users\\david\\Documents\\@@ Python\\Jaar 4\\Q3\\Are-rain-gauges-in-the-right-place\\Location on slope from DEM\\functions.py:115: RuntimeWarning: overflow encountered in short_scalars\n",
      "  rise = item - array[index+1]\n"
     ]
    },
    {
     "name": "stdout",
     "output_type": "stream",
     "text": [
      "11 ['Ridge', 'Ridge', 'Valley', 'Valley']\n",
      "12 ['Ridge', 'Slope', 'Valley', 'Valley']\n",
      "13 ['Ridge', 'Slope', 'Valley', 'Valley']\n",
      "14 ['Ridge', 'Slope', 'Slope', 'Valley']\n",
      "15 ['Slope', 'Slope', 'Slope', 'Valley']\n",
      "16 ['Slope', 'Valley', 'Flat', 'Valley']\n",
      "17 ['Slope', 'Valley', 'Flat', 'Valley']\n",
      "18 ['Slope', 'Valley', 'Flat', 'Valley']\n",
      "19 ['Valley', 'Valley', 'Flat', 'Valley']\n",
      "20 ['Valley', 'Valley', 'Flat', 'Valley']\n",
      "21 ['Valley', 'Valley', 'Flat', 'Valley']\n",
      "22 ['Valley', 'Valley', 'Flat', 'Flat']\n",
      "23 ['Valley', 'Slope', 'Flat', 'Flat']\n",
      "24 ['Valley', 'Slope', 'Flat', 'Flat']\n",
      "25 ['Valley', 'Slope', 'Flat', 'Flat']\n",
      "26 ['Valley', 'Slope', 'Flat', 'Flat']\n",
      "27 ['Valley', 'Slope', 'Flat', 'Flat']\n",
      "28 ['Valley', 'Slope', 'Flat', 'Flat']\n",
      "29 ['Valley', 'Slope', 'Flat', 'Flat']\n"
     ]
    },
    {
     "data": {
      "image/png": "[encoded data removed]",
      "text/plain": [
       "<Figure size 360x360 with 4 Axes>"
      ]
     },
     "metadata": {
      "needs_background": "light"
     },
     "output_type": "display_data"
    }
   ],
   "source": [
    "for j in [2]:\n",
    "    print(\"starting.....\",j)\n",
    "    functions.plotting(gauges, UK, 5).plot_gauge(j, \"all\")\n",
    "    for i in range(30):\n",
    "        out = functions.Raster_Location_OnSlope(gauges, UK, i).get_location_on_slope(j)\n",
    "        print(i,out)"
   ]
  },
  {
   "cell_type": "markdown",
   "id": "b1a1a106",
   "metadata": {},
   "source": [
    "#### This process can then be done for the whole dataframe:\n",
    "(print statements are where one side is still none. from the data we can see these are generally flat anyway,but the delta is so close to zero python makes it zero, to be fixed later)"
   ]
  },
  {
   "cell_type": "code",
   "execution_count": 13,
   "id": "d5c9d73c",
   "metadata": {},
   "outputs": [
    {
     "name": "stdout",
     "output_type": "stream",
     "text": [
      "0.0 -1.831762712751481\n",
      "-0.8545967730822646 0.0\n",
      "-0.9451590673130904 0.0\n",
      "-0.4574267356459514 0.0\n",
      "0.4574267356459514 0.0\n",
      "0.0 -1.808787641442025\n",
      "0.0 -0.45219691036050624\n"
     ]
    }
   ],
   "source": [
    " gauges[\"slope_location\"] = functions.Raster_Location_OnSlope(gauges, UK, 5).run_location_on_slope()"
   ]
  },
  {
   "cell_type": "code",
   "execution_count": 14,
   "id": "348b157d",
   "metadata": {},
   "outputs": [
    {
     "data": {
      "text/html": [
       "<div>\n",
       "<style scoped>\n",
       "    .dataframe tbody tr th:only-of-type {\n",
       "        vertical-align: middle;\n",
       "    }\n",
       "\n",
       "    .dataframe tbody tr th {\n",
       "        vertical-align: top;\n",
       "    }\n",
       "\n",
       "    .dataframe thead th {\n",
       "        text-align: right;\n",
       "    }\n",
       "</style>\n",
       "<table border=\"1\" class=\"dataframe\">\n",
       "  <thead>\n",
       "    <tr style=\"text-align: right;\">\n",
       "      <th></th>\n",
       "      <th>level_0</th>\n",
       "      <th>src_id</th>\n",
       "      <th>station_na</th>\n",
       "      <th>station_fi</th>\n",
       "      <th>historic_c</th>\n",
       "      <th>station_la</th>\n",
       "      <th>station_lo</th>\n",
       "      <th>station_el</th>\n",
       "      <th>first_year</th>\n",
       "      <th>last_year</th>\n",
       "      <th>raster_id</th>\n",
       "      <th>geometry</th>\n",
       "      <th>slope_location</th>\n",
       "    </tr>\n",
       "  </thead>\n",
       "  <tbody>\n",
       "    <tr>\n",
       "      <th>0</th>\n",
       "      <td>0</td>\n",
       "      <td>00003</td>\n",
       "      <td>FAIR ISLE</td>\n",
       "      <td>fair-isle</td>\n",
       "      <td>shetland</td>\n",
       "      <td>59.526</td>\n",
       "      <td>-1.630</td>\n",
       "      <td>57</td>\n",
       "      <td>1974</td>\n",
       "      <td>2020</td>\n",
       "      <td>4</td>\n",
       "      <td>POINT (-1.63000 59.52600)</td>\n",
       "      <td>[Slope, Slope, Valley, Slope]</td>\n",
       "    </tr>\n",
       "    <tr>\n",
       "      <th>1</th>\n",
       "      <td>1</td>\n",
       "      <td>00023</td>\n",
       "      <td>KIRKWALL</td>\n",
       "      <td>kirkwall</td>\n",
       "      <td>orkney</td>\n",
       "      <td>58.953</td>\n",
       "      <td>-2.901</td>\n",
       "      <td>26</td>\n",
       "      <td>1957</td>\n",
       "      <td>2020</td>\n",
       "      <td>4</td>\n",
       "      <td>POINT (-2.90100 58.95300)</td>\n",
       "      <td>[Ridge, Slope, Slope, Slope]</td>\n",
       "    </tr>\n",
       "  </tbody>\n",
       "</table>\n",
       "</div>"
      ],
      "text/plain": [
       "   level_0 src_id station_na station_fi historic_c  station_la  station_lo  \\\n",
       "0        0  00003  FAIR ISLE  fair-isle   shetland      59.526      -1.630   \n",
       "1        1  00023   KIRKWALL   kirkwall     orkney      58.953      -2.901   \n",
       "\n",
       "   station_el  first_year  last_year  raster_id                   geometry  \\\n",
       "0          57        1974       2020          4  POINT (-1.63000 59.52600)   \n",
       "1          26        1957       2020          4  POINT (-2.90100 58.95300)   \n",
       "\n",
       "                  slope_location  \n",
       "0  [Slope, Slope, Valley, Slope]  \n",
       "1   [Ridge, Slope, Slope, Slope]  "
      ]
     },
     "execution_count": 14,
     "metadata": {},
     "output_type": "execute_result"
    }
   ],
   "source": [
    "gauges.head(2)"
   ]
  },
  {
   "cell_type": "markdown",
   "id": "57d5220e",
   "metadata": {},
   "source": [
    "#### load in data from the other notebook \n"
   ]
  },
  {
   "cell_type": "code",
   "execution_count": 15,
   "id": "08ff0569",
   "metadata": {},
   "outputs": [],
   "source": [
    "DEM = pd.read_csv(\"Slopes computed from DEM.csv\",index_col=0)"
   ]
  },
  {
   "cell_type": "code",
   "execution_count": 16,
   "id": "4bec65c4",
   "metadata": {},
   "outputs": [
    {
     "data": {
      "text/html": [
       "<div>\n",
       "<style scoped>\n",
       "    .dataframe tbody tr th:only-of-type {\n",
       "        vertical-align: middle;\n",
       "    }\n",
       "\n",
       "    .dataframe tbody tr th {\n",
       "        vertical-align: top;\n",
       "    }\n",
       "\n",
       "    .dataframe thead th {\n",
       "        text-align: right;\n",
       "    }\n",
       "</style>\n",
       "<table border=\"1\" class=\"dataframe\">\n",
       "  <thead>\n",
       "    <tr style=\"text-align: right;\">\n",
       "      <th></th>\n",
       "      <th>src_id</th>\n",
       "      <th>computed_height</th>\n",
       "      <th>difference_height</th>\n",
       "      <th>slope_steepness</th>\n",
       "      <th>abs_slope_steepness</th>\n",
       "      <th>dir_slope_steepness</th>\n",
       "    </tr>\n",
       "  </thead>\n",
       "  <tbody>\n",
       "    <tr>\n",
       "      <th>0</th>\n",
       "      <td>3</td>\n",
       "      <td>57</td>\n",
       "      <td>0</td>\n",
       "      <td>14.2</td>\n",
       "      <td>14.2</td>\n",
       "      <td>nw-se</td>\n",
       "    </tr>\n",
       "  </tbody>\n",
       "</table>\n",
       "</div>"
      ],
      "text/plain": [
       "   src_id  computed_height  difference_height  slope_steepness  \\\n",
       "0       3               57                  0             14.2   \n",
       "\n",
       "   abs_slope_steepness dir_slope_steepness  \n",
       "0                 14.2               nw-se  "
      ]
     },
     "execution_count": 16,
     "metadata": {},
     "output_type": "execute_result"
    }
   ],
   "source": [
    "DEM_sparse = DEM.drop(columns=['level_0', 'station_na', 'station_fi',\n",
    "       'historic_c', 'station_la', 'station_lo', 'station_el', 'first_year',\n",
    "       'last_year', 'raster_id', 'geometry'])\n",
    "DEM_sparse.head(1)"
   ]
  },
  {
   "cell_type": "markdown",
   "id": "281227a8",
   "metadata": {},
   "source": [
    "Ensure data types are same"
   ]
  },
  {
   "cell_type": "code",
   "execution_count": 17,
   "id": "0af95b01",
   "metadata": {},
   "outputs": [
    {
     "data": {
      "text/html": [
       "<div>\n",
       "<style scoped>\n",
       "    .dataframe tbody tr th:only-of-type {\n",
       "        vertical-align: middle;\n",
       "    }\n",
       "\n",
       "    .dataframe tbody tr th {\n",
       "        vertical-align: top;\n",
       "    }\n",
       "\n",
       "    .dataframe thead th {\n",
       "        text-align: right;\n",
       "    }\n",
       "</style>\n",
       "<table border=\"1\" class=\"dataframe\">\n",
       "  <thead>\n",
       "    <tr style=\"text-align: right;\">\n",
       "      <th></th>\n",
       "      <th>level_0</th>\n",
       "      <th>src_id</th>\n",
       "      <th>station_na</th>\n",
       "      <th>station_fi</th>\n",
       "      <th>historic_c</th>\n",
       "      <th>station_la</th>\n",
       "      <th>station_lo</th>\n",
       "      <th>station_el</th>\n",
       "      <th>first_year</th>\n",
       "      <th>last_year</th>\n",
       "      <th>raster_id</th>\n",
       "      <th>geometry</th>\n",
       "      <th>slope_location</th>\n",
       "    </tr>\n",
       "  </thead>\n",
       "  <tbody>\n",
       "    <tr>\n",
       "      <th>0</th>\n",
       "      <td>0</td>\n",
       "      <td>3</td>\n",
       "      <td>FAIR ISLE</td>\n",
       "      <td>fair-isle</td>\n",
       "      <td>shetland</td>\n",
       "      <td>59.526</td>\n",
       "      <td>-1.63</td>\n",
       "      <td>57</td>\n",
       "      <td>1974</td>\n",
       "      <td>2020</td>\n",
       "      <td>4</td>\n",
       "      <td>POINT (-1.63000 59.52600)</td>\n",
       "      <td>[Slope, Slope, Valley, Slope]</td>\n",
       "    </tr>\n",
       "  </tbody>\n",
       "</table>\n",
       "</div>"
      ],
      "text/plain": [
       "   level_0  src_id station_na station_fi historic_c  station_la  station_lo  \\\n",
       "0        0       3  FAIR ISLE  fair-isle   shetland      59.526       -1.63   \n",
       "\n",
       "   station_el  first_year  last_year  raster_id                   geometry  \\\n",
       "0          57        1974       2020          4  POINT (-1.63000 59.52600)   \n",
       "\n",
       "                  slope_location  \n",
       "0  [Slope, Slope, Valley, Slope]  "
      ]
     },
     "execution_count": 17,
     "metadata": {},
     "output_type": "execute_result"
    }
   ],
   "source": [
    "gauges.src_id  = gauges.src_id.astype(int)\n",
    "gauges.head(1)"
   ]
  },
  {
   "cell_type": "code",
   "execution_count": 18,
   "id": "3af65dec",
   "metadata": {},
   "outputs": [
    {
     "data": {
      "text/html": [
       "<div>\n",
       "<style scoped>\n",
       "    .dataframe tbody tr th:only-of-type {\n",
       "        vertical-align: middle;\n",
       "    }\n",
       "\n",
       "    .dataframe tbody tr th {\n",
       "        vertical-align: top;\n",
       "    }\n",
       "\n",
       "    .dataframe thead th {\n",
       "        text-align: right;\n",
       "    }\n",
       "</style>\n",
       "<table border=\"1\" class=\"dataframe\">\n",
       "  <thead>\n",
       "    <tr style=\"text-align: right;\">\n",
       "      <th></th>\n",
       "      <th>level_0</th>\n",
       "      <th>src_id</th>\n",
       "      <th>station_na</th>\n",
       "      <th>station_fi</th>\n",
       "      <th>historic_c</th>\n",
       "      <th>station_la</th>\n",
       "      <th>station_lo</th>\n",
       "      <th>station_el</th>\n",
       "      <th>first_year</th>\n",
       "      <th>last_year</th>\n",
       "      <th>raster_id</th>\n",
       "      <th>geometry</th>\n",
       "      <th>slope_location</th>\n",
       "      <th>computed_height</th>\n",
       "      <th>difference_height</th>\n",
       "      <th>slope_steepness</th>\n",
       "      <th>abs_slope_steepness</th>\n",
       "      <th>dir_slope_steepness</th>\n",
       "    </tr>\n",
       "  </thead>\n",
       "  <tbody>\n",
       "    <tr>\n",
       "      <th>0</th>\n",
       "      <td>0</td>\n",
       "      <td>3</td>\n",
       "      <td>FAIR ISLE</td>\n",
       "      <td>fair-isle</td>\n",
       "      <td>shetland</td>\n",
       "      <td>59.526</td>\n",
       "      <td>-1.630</td>\n",
       "      <td>57</td>\n",
       "      <td>1974</td>\n",
       "      <td>2020</td>\n",
       "      <td>4</td>\n",
       "      <td>POINT (-1.63000 59.52600)</td>\n",
       "      <td>[Slope, Slope, Valley, Slope]</td>\n",
       "      <td>57</td>\n",
       "      <td>0</td>\n",
       "      <td>14.20</td>\n",
       "      <td>14.20</td>\n",
       "      <td>nw-se</td>\n",
       "    </tr>\n",
       "    <tr>\n",
       "      <th>1</th>\n",
       "      <td>1</td>\n",
       "      <td>23</td>\n",
       "      <td>KIRKWALL</td>\n",
       "      <td>kirkwall</td>\n",
       "      <td>orkney</td>\n",
       "      <td>58.953</td>\n",
       "      <td>-2.901</td>\n",
       "      <td>26</td>\n",
       "      <td>1957</td>\n",
       "      <td>2020</td>\n",
       "      <td>4</td>\n",
       "      <td>POINT (-2.90100 58.95300)</td>\n",
       "      <td>[Ridge, Slope, Slope, Slope]</td>\n",
       "      <td>31</td>\n",
       "      <td>5</td>\n",
       "      <td>-11.63</td>\n",
       "      <td>11.63</td>\n",
       "      <td>nw-se</td>\n",
       "    </tr>\n",
       "    <tr>\n",
       "      <th>2</th>\n",
       "      <td>2</td>\n",
       "      <td>32</td>\n",
       "      <td>WICK AIRPORT</td>\n",
       "      <td>wick-airport</td>\n",
       "      <td>caithness</td>\n",
       "      <td>58.454</td>\n",
       "      <td>-3.090</td>\n",
       "      <td>36</td>\n",
       "      <td>1930</td>\n",
       "      <td>2020</td>\n",
       "      <td>4</td>\n",
       "      <td>POINT (-3.09000 58.45400)</td>\n",
       "      <td>[Ridge, Ridge, Slope, Ridge]</td>\n",
       "      <td>35</td>\n",
       "      <td>1</td>\n",
       "      <td>2.06</td>\n",
       "      <td>2.06</td>\n",
       "      <td>ne-sw</td>\n",
       "    </tr>\n",
       "    <tr>\n",
       "      <th>3</th>\n",
       "      <td>3</td>\n",
       "      <td>40</td>\n",
       "      <td>CASSLEY</td>\n",
       "      <td>cassley</td>\n",
       "      <td>sutherland</td>\n",
       "      <td>58.168</td>\n",
       "      <td>-4.727</td>\n",
       "      <td>99</td>\n",
       "      <td>1999</td>\n",
       "      <td>2020</td>\n",
       "      <td>4</td>\n",
       "      <td>POINT (-4.72700 58.16800)</td>\n",
       "      <td>[Slope, Slope, Slope, Valley]</td>\n",
       "      <td>106</td>\n",
       "      <td>7</td>\n",
       "      <td>-16.15</td>\n",
       "      <td>16.15</td>\n",
       "      <td>ne-sw</td>\n",
       "    </tr>\n",
       "    <tr>\n",
       "      <th>4</th>\n",
       "      <td>4</td>\n",
       "      <td>44</td>\n",
       "      <td>ALTNAHARRA NO 2</td>\n",
       "      <td>altnaharra-no-2</td>\n",
       "      <td>sutherland</td>\n",
       "      <td>58.288</td>\n",
       "      <td>-4.442</td>\n",
       "      <td>81</td>\n",
       "      <td>1993</td>\n",
       "      <td>2020</td>\n",
       "      <td>4</td>\n",
       "      <td>POINT (-4.44200 58.28800)</td>\n",
       "      <td>[Valley, Valley, Valley, Valley]</td>\n",
       "      <td>78</td>\n",
       "      <td>3</td>\n",
       "      <td>3.42</td>\n",
       "      <td>3.42</td>\n",
       "      <td>ns</td>\n",
       "    </tr>\n",
       "    <tr>\n",
       "      <th>...</th>\n",
       "      <td>...</td>\n",
       "      <td>...</td>\n",
       "      <td>...</td>\n",
       "      <td>...</td>\n",
       "      <td>...</td>\n",
       "      <td>...</td>\n",
       "      <td>...</td>\n",
       "      <td>...</td>\n",
       "      <td>...</td>\n",
       "      <td>...</td>\n",
       "      <td>...</td>\n",
       "      <td>...</td>\n",
       "      <td>...</td>\n",
       "      <td>...</td>\n",
       "      <td>...</td>\n",
       "      <td>...</td>\n",
       "      <td>...</td>\n",
       "      <td>...</td>\n",
       "    </tr>\n",
       "    <tr>\n",
       "      <th>360</th>\n",
       "      <td>360</td>\n",
       "      <td>24218</td>\n",
       "      <td>HARTPURY COLLEGE</td>\n",
       "      <td>hartpury-college</td>\n",
       "      <td>gloucestershire</td>\n",
       "      <td>51.904</td>\n",
       "      <td>-2.312</td>\n",
       "      <td>41</td>\n",
       "      <td>1998</td>\n",
       "      <td>2020</td>\n",
       "      <td>1</td>\n",
       "      <td>POINT (-2.31200 51.90400)</td>\n",
       "      <td>[Ridge, Slope, Slope, Slope]</td>\n",
       "      <td>31</td>\n",
       "      <td>10</td>\n",
       "      <td>-2.14</td>\n",
       "      <td>2.14</td>\n",
       "      <td>ew</td>\n",
       "    </tr>\n",
       "    <tr>\n",
       "      <th>361</th>\n",
       "      <td>361</td>\n",
       "      <td>24219</td>\n",
       "      <td>MANNINGTON HALL</td>\n",
       "      <td>mannington-hall</td>\n",
       "      <td>norfolk</td>\n",
       "      <td>52.844</td>\n",
       "      <td>1.179</td>\n",
       "      <td>30</td>\n",
       "      <td>1999</td>\n",
       "      <td>2020</td>\n",
       "      <td>0</td>\n",
       "      <td>POINT (1.17900 52.84400)</td>\n",
       "      <td>[Valley, Slope, Slope, Valley]</td>\n",
       "      <td>35</td>\n",
       "      <td>5</td>\n",
       "      <td>-3.58</td>\n",
       "      <td>3.58</td>\n",
       "      <td>nw-se</td>\n",
       "    </tr>\n",
       "    <tr>\n",
       "      <th>362</th>\n",
       "      <td>362</td>\n",
       "      <td>57118</td>\n",
       "      <td>BUTE: ROTHESAY NO2</td>\n",
       "      <td>bute-rothesay-no2</td>\n",
       "      <td>buteshire</td>\n",
       "      <td>55.825</td>\n",
       "      <td>-5.056</td>\n",
       "      <td>36</td>\n",
       "      <td>2013</td>\n",
       "      <td>2020</td>\n",
       "      <td>5</td>\n",
       "      <td>POINT (-5.05600 55.82500)</td>\n",
       "      <td>[Slope, Slope, Slope, Slope]</td>\n",
       "      <td>32</td>\n",
       "      <td>4</td>\n",
       "      <td>-10.47</td>\n",
       "      <td>10.47</td>\n",
       "      <td>nw-se</td>\n",
       "    </tr>\n",
       "    <tr>\n",
       "      <th>363</th>\n",
       "      <td>363</td>\n",
       "      <td>57233</td>\n",
       "      <td>MARGAM NO 2</td>\n",
       "      <td>margam-no-2</td>\n",
       "      <td>glamorganshire</td>\n",
       "      <td>51.555</td>\n",
       "      <td>-3.721</td>\n",
       "      <td>40</td>\n",
       "      <td>2013</td>\n",
       "      <td>2020</td>\n",
       "      <td>1</td>\n",
       "      <td>POINT (-3.72100 51.55500)</td>\n",
       "      <td>[Slope, Slope, Ridge, Slope]</td>\n",
       "      <td>38</td>\n",
       "      <td>2</td>\n",
       "      <td>6.75</td>\n",
       "      <td>6.75</td>\n",
       "      <td>ne-sw</td>\n",
       "    </tr>\n",
       "    <tr>\n",
       "      <th>364</th>\n",
       "      <td>364</td>\n",
       "      <td>57267</td>\n",
       "      <td>ACHILTIBUIE NO2</td>\n",
       "      <td>achiltibuie-no2</td>\n",
       "      <td>ross-and-cromarty</td>\n",
       "      <td>58.015</td>\n",
       "      <td>-5.336</td>\n",
       "      <td>49</td>\n",
       "      <td>2013</td>\n",
       "      <td>2020</td>\n",
       "      <td>5</td>\n",
       "      <td>POINT (-5.33600 58.01500)</td>\n",
       "      <td>[Slope, Ridge, Ridge, Slope]</td>\n",
       "      <td>52</td>\n",
       "      <td>3</td>\n",
       "      <td>23.11</td>\n",
       "      <td>23.11</td>\n",
       "      <td>ne-sw</td>\n",
       "    </tr>\n",
       "  </tbody>\n",
       "</table>\n",
       "<p>365 rows × 18 columns</p>\n",
       "</div>"
      ],
      "text/plain": [
       "     level_0  src_id          station_na         station_fi  \\\n",
       "0          0       3           FAIR ISLE          fair-isle   \n",
       "1          1      23            KIRKWALL           kirkwall   \n",
       "2          2      32        WICK AIRPORT       wick-airport   \n",
       "3          3      40             CASSLEY            cassley   \n",
       "4          4      44     ALTNAHARRA NO 2    altnaharra-no-2   \n",
       "..       ...     ...                 ...                ...   \n",
       "360      360   24218    HARTPURY COLLEGE   hartpury-college   \n",
       "361      361   24219     MANNINGTON HALL    mannington-hall   \n",
       "362      362   57118  BUTE: ROTHESAY NO2  bute-rothesay-no2   \n",
       "363      363   57233         MARGAM NO 2        margam-no-2   \n",
       "364      364   57267     ACHILTIBUIE NO2    achiltibuie-no2   \n",
       "\n",
       "            historic_c  station_la  station_lo  station_el  first_year  \\\n",
       "0             shetland      59.526      -1.630          57        1974   \n",
       "1               orkney      58.953      -2.901          26        1957   \n",
       "2            caithness      58.454      -3.090          36        1930   \n",
       "3           sutherland      58.168      -4.727          99        1999   \n",
       "4           sutherland      58.288      -4.442          81        1993   \n",
       "..                 ...         ...         ...         ...         ...   \n",
       "360    gloucestershire      51.904      -2.312          41        1998   \n",
       "361            norfolk      52.844       1.179          30        1999   \n",
       "362          buteshire      55.825      -5.056          36        2013   \n",
       "363     glamorganshire      51.555      -3.721          40        2013   \n",
       "364  ross-and-cromarty      58.015      -5.336          49        2013   \n",
       "\n",
       "     last_year  raster_id                   geometry  \\\n",
       "0         2020          4  POINT (-1.63000 59.52600)   \n",
       "1         2020          4  POINT (-2.90100 58.95300)   \n",
       "2         2020          4  POINT (-3.09000 58.45400)   \n",
       "3         2020          4  POINT (-4.72700 58.16800)   \n",
       "4         2020          4  POINT (-4.44200 58.28800)   \n",
       "..         ...        ...                        ...   \n",
       "360       2020          1  POINT (-2.31200 51.90400)   \n",
       "361       2020          0   POINT (1.17900 52.84400)   \n",
       "362       2020          5  POINT (-5.05600 55.82500)   \n",
       "363       2020          1  POINT (-3.72100 51.55500)   \n",
       "364       2020          5  POINT (-5.33600 58.01500)   \n",
       "\n",
       "                       slope_location  computed_height  difference_height  \\\n",
       "0       [Slope, Slope, Valley, Slope]               57                  0   \n",
       "1        [Ridge, Slope, Slope, Slope]               31                  5   \n",
       "2        [Ridge, Ridge, Slope, Ridge]               35                  1   \n",
       "3       [Slope, Slope, Slope, Valley]              106                  7   \n",
       "4    [Valley, Valley, Valley, Valley]               78                  3   \n",
       "..                                ...              ...                ...   \n",
       "360      [Ridge, Slope, Slope, Slope]               31                 10   \n",
       "361    [Valley, Slope, Slope, Valley]               35                  5   \n",
       "362      [Slope, Slope, Slope, Slope]               32                  4   \n",
       "363      [Slope, Slope, Ridge, Slope]               38                  2   \n",
       "364      [Slope, Ridge, Ridge, Slope]               52                  3   \n",
       "\n",
       "     slope_steepness  abs_slope_steepness dir_slope_steepness  \n",
       "0              14.20                14.20               nw-se  \n",
       "1             -11.63                11.63               nw-se  \n",
       "2               2.06                 2.06               ne-sw  \n",
       "3             -16.15                16.15               ne-sw  \n",
       "4               3.42                 3.42                  ns  \n",
       "..               ...                  ...                 ...  \n",
       "360            -2.14                 2.14                  ew  \n",
       "361            -3.58                 3.58               nw-se  \n",
       "362           -10.47                10.47               nw-se  \n",
       "363             6.75                 6.75               ne-sw  \n",
       "364            23.11                23.11               ne-sw  \n",
       "\n",
       "[365 rows x 18 columns]"
      ]
     },
     "execution_count": 18,
     "metadata": {},
     "output_type": "execute_result"
    }
   ],
   "source": [
    "gauges = gauges.merge(DEM_sparse,on=\"src_id\")\n",
    "gauges"
   ]
  },
  {
   "cell_type": "markdown",
   "id": "3c749201",
   "metadata": {},
   "source": [
    "We can then manipulate the data from the dataframe, here we take the slope direction from "
   ]
  },
  {
   "cell_type": "code",
   "execution_count": 19,
   "id": "a747625b",
   "metadata": {},
   "outputs": [],
   "source": [
    "gauges[\"location_steepest_slope\"] = functions.Raster_Location_OnSlope(gauges, UK, 5).run_location_on_slope_direction()"
   ]
  },
  {
   "cell_type": "code",
   "execution_count": 25,
   "id": "c4e0e6c1",
   "metadata": {},
   "outputs": [],
   "source": [
    "gauges.to_csv(\"Gauge Data\\computed slope location.csv\")"
   ]
  },
  {
   "cell_type": "markdown",
   "id": "ee2c0dcd",
   "metadata": {},
   "source": []
  },
  {
   "cell_type": "code",
   "execution_count": 20,
   "id": "fc97943f",
   "metadata": {},
   "outputs": [
    {
     "name": "stdout",
     "output_type": "stream",
     "text": [
      "Gauge height: 57, array:\n"
     ]
    },
    {
     "data": {
      "text/plain": [
       "array([-32768,    126,    139,    154,    176,    191,    190,    172,\n",
       "          156,    151,    143,    134,    124,    120,    112,    101,\n",
       "           90,     78,     75,     73,     70,     66,     62,     68,\n",
       "           65,     58,     59,     61,     56,     56,     57,     57,\n",
       "           53,     49,     41,     35,     44,     49,     38,     25,\n",
       "           17,     35,     43,     22,      4, -32768, -32768, -32768,\n",
       "       -32768, -32768, -32768, -32768, -32768, -32768, -32768, -32768,\n",
       "       -32768, -32768, -32768, -32768, -32768], dtype=int16)"
      ]
     },
     "execution_count": 20,
     "metadata": {},
     "output_type": "execute_result"
    }
   ],
   "source": [
    "print(f'Gauge height: {instance.get_array_given_orientation(0, \"ns\")[0][30]}, array:')\n",
    "instance.get_array_given_orientation(0, \"ns\")[0]"
   ]
  },
  {
   "cell_type": "markdown",
   "id": "0adad5b6",
   "metadata": {},
   "source": [
    "#### looking at when slope steepness changes:\n",
    "i'll get back to this, the cells are roling again, which is what we want"
   ]
  },
  {
   "cell_type": "code",
   "execution_count": 21,
   "id": "390a5f19",
   "metadata": {},
   "outputs": [
    {
     "data": {
      "text/plain": [
       "(array([35, 44], dtype=int16),\n",
       " array([44, 49], dtype=int16),\n",
       " array([49, 38], dtype=int16),\n",
       " array([65, 58], dtype=int16),\n",
       " array([68, 65], dtype=int16),\n",
       " array([62, 68], dtype=int16))"
      ]
     },
     "execution_count": 21,
     "metadata": {},
     "output_type": "execute_result"
    }
   ],
   "source": [
    "instance.get_array_step(0,\"ns\",1, \"right\", True),\\\n",
    "instance.get_array_step(0,\"ns\",2, \"right\", True),\\\n",
    "instance.get_array_step(0,\"ns\",3, \"right\", True),\\\n",
    "instance.get_array_step(0,\"ns\",1, \"left\", True),\\\n",
    "instance.get_array_step(0,\"ns\",2, \"left\", True),\\\n",
    "instance.get_array_step(0,\"ns\",3, \"left\", True)"
   ]
  },
  {
   "cell_type": "code",
   "execution_count": 22,
   "id": "318ef758",
   "metadata": {},
   "outputs": [
    {
     "name": "stdout",
     "output_type": "stream",
     "text": [
      "initial.....-1.1632814869524686\n",
      "left=-2.093906676514443, #1\n",
      "left=-2.093906676514443, #2\n",
      "left=0.0, #3\n",
      "left=-2.093906676514443, #4\n",
      "left=-2.093906676514443, #5\n",
      "left=-2.093906676514443, #6\n",
      "left=-2.093906676514443, #7\n",
      "left=-2.093906676514443, #8\n",
      "left=0.0, #9\n",
      "left=0.0, #10\n",
      "left=0.0, #11\n",
      "left=2.093906676514443, #12\n",
      "left=2.093906676514443, #13\n",
      "left=2.093906676514443, #14\n",
      "left=0.0, #15\n",
      "30\n",
      "right=0.0, #1\n",
      "30\n",
      "right=0.0, #2\n",
      "30\n",
      "right=0.0, #3\n",
      "30\n",
      "right=2.093906676514443, #4\n",
      "30\n",
      "right=2.093906676514443, #5\n",
      "30\n",
      "right=2.093906676514443, #6\n",
      "30\n",
      "right=0.0, #7\n",
      "30\n",
      "right=-2.093906676514443, #8\n",
      "30\n",
      "right=-2.093906676514443, #9\n",
      "30\n",
      "right=-2.093906676514443, #10\n",
      "30\n",
      "right=-2.093906676514443, #11\n",
      "30\n",
      "right=-4.187813353028886, #12\n",
      "30\n",
      "right=-2.093906676514443, #13\n",
      "30\n",
      "right=-2.093906676514443, #14\n",
      "30\n",
      "right=-2.093906676514443, #15\n",
      "30\n",
      "right=-4.187813353028886, #16\n",
      "30\n",
      "right=0.0, #17\n",
      "30\n",
      "right=2.093906676514443, #18\n",
      "30\n",
      "right=2.093906676514443, #19\n"
     ]
    },
    {
     "data": {
      "text/plain": [
       "(15, 19)"
      ]
     },
     "execution_count": 22,
     "metadata": {},
     "output_type": "execute_result"
    }
   ],
   "source": [
    "instance.change_slope_steepness(1, \"ew\", 1, 5)"
   ]
  },
  {
   "cell_type": "code",
   "execution_count": null,
   "id": "707f3972",
   "metadata": {},
   "outputs": [],
   "source": []
  },
  {
   "cell_type": "code",
   "execution_count": null,
   "id": "168e4126",
   "metadata": {},
   "outputs": [],
   "source": []
  }
 ],
 "metadata": {
  "kernelspec": {
   "display_name": "Python 3 (ipykernel)",
   "language": "python",
   "name": "python3"
  },
  "language_info": {
   "codemirror_mode": {
    "name": "ipython",
    "version": 3
   },
   "file_extension": ".py",
   "mimetype": "text/x-python",
   "name": "python",
   "nbconvert_exporter": "python",
   "pygments_lexer": "ipython3",
   "version": "3.10.2"
  }
 },
 "nbformat": 4,
 "nbformat_minor": 5
}
