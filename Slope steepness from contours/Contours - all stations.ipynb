{
 "cells": [
  {
   "cell_type": "code",
   "execution_count": 1,
   "id": "371cbdaa",
   "metadata": {},
   "outputs": [],
   "source": [
    "import matplotlib.pyplot as plt\n",
    "import matplotlib as mpl\n",
    "import matplotlib.image\n",
    "import numpy as np\n",
    "import geopandas as gpd\n",
    "import pandas as pd\n",
    "import warnings\n",
    "import time\n",
    "%matplotlib inline\n",
    "mpl.rcParams['lines.linewidth'] = 1\n",
    "mpl.rcParams['lines.linestyle'] = '--'\n",
    "mpl.rcParams[\"figure.figsize\"] = [5,5]\n",
    "mpl.rcParams['lines.markersize'] = 5"
   ]
  },
  {
   "cell_type": "markdown",
   "id": "d5c027b7-30a1-4bfd-9e25-ec7bb9b1c3e4",
   "metadata": {},
   "source": [
    "Import custom functions from functions.py "
   ]
  },
  {
   "cell_type": "code",
   "execution_count": 2,
   "id": "f850727e-62ab-41e1-8544-a4094c2e5b78",
   "metadata": {},
   "outputs": [],
   "source": [
    "import functions"
   ]
  },
  {
   "cell_type": "markdown",
   "id": "db31e3bb-cffb-495b-8d8c-44cb2d1089ea",
   "metadata": {},
   "source": [
    "#### This notebook aims to streamline the exploritory work done in the 'Contour - Cumbria' notbook"
   ]
  },
  {
   "cell_type": "markdown",
   "id": "bd811858-0e5e-47f3-9f51-580ec8bd180f",
   "metadata": {},
   "source": [
    "Load in the gauges files<br>\n",
    "(these have been filtered to only contain 2020 data and exported in QGIS)<br>\n",
    "See \"distance stations\" notebook for more info on stations"
   ]
  },
  {
   "cell_type": "code",
   "execution_count": 3,
   "id": "cfdb3bdd",
   "metadata": {},
   "outputs": [],
   "source": [
    "daily_gauges = gpd.read_file(\"Contour Data/Daily-Gauges-UK.shp\",crs=4326)\n",
    "hourly_gauges = gpd.read_file(\"Contour Data/Hourly-Gauges-UK.shp\",crs=4326)"
   ]
  },
  {
   "cell_type": "markdown",
   "id": "d381f3ef",
   "metadata": {},
   "source": [
    "#### Merge all hourly and dialy gauges still recording for the MET office in 2020"
   ]
  },
  {
   "cell_type": "code",
   "execution_count": 4,
   "id": "13b03510",
   "metadata": {},
   "outputs": [
    {
     "name": "stderr",
     "output_type": "stream",
     "text": [
      "C:\\Users\\david\\AppData\\Local\\Temp\\ipykernel_14240\\4224330975.py:1: FutureWarning: The frame.append method is deprecated and will be removed from pandas in a future version. Use pandas.concat instead.\n",
      "  gauges = hourly_gauges.append(daily_gauges)\n"
     ]
    }
   ],
   "source": [
    "gauges = hourly_gauges.append(daily_gauges)"
   ]
  },
  {
   "cell_type": "markdown",
   "id": "306dc6cc-2b66-4391-b990-5e03c9dad139",
   "metadata": {},
   "source": [
    "We have 368 gauges that were reporting in 2020"
   ]
  },
  {
   "cell_type": "code",
   "execution_count": 5,
   "id": "9dc8590c",
   "metadata": {},
   "outputs": [
    {
     "data": {
      "text/plain": [
       "368"
      ]
     },
     "execution_count": 5,
     "metadata": {},
     "output_type": "execute_result"
    }
   ],
   "source": [
    "gauges.src_id.count()"
   ]
  },
  {
   "cell_type": "markdown",
   "id": "2bdba92a-64cf-4546-9a7b-4a602a672ddd",
   "metadata": {},
   "source": [
    "# Start by showing the process step by step for one grid"
   ]
  },
  {
   "cell_type": "markdown",
   "id": "c9056436-2ecb-48b9-9fe6-8657d40f98f4",
   "metadata": {},
   "source": [
    "load up list of 10x10km grids for a given grid of 100x100 km <br>\n",
    "(loading takes a minute or so)"
   ]
  },
  {
   "cell_type": "code",
   "execution_count": 6,
   "id": "60648bfa-36ad-4bda-8ea1-3c0675f7a83b",
   "metadata": {},
   "outputs": [],
   "source": [
    "grid_id = \"ny\"\n",
    "lst_points, lst_grid_point = functions.bulk_import_shapefiles(grid_id, 99,\"point\")\n",
    "lst_lines, empty_list = functions.bulk_import_shapefiles(grid_id, 99,\"line\")"
   ]
  },
  {
   "cell_type": "markdown",
   "id": "f89f3b77-858a-4555-bb93-65aaeae39ef1",
   "metadata": {},
   "source": [
    "Now we have the data, need to match a gauge a grid.\n",
    "- We want to make sure it creates a new column in the DF so we can use it later in the process as we need to look it up\n",
    "- supply it with a list"
   ]
  },
  {
   "cell_type": "code",
   "execution_count": 7,
   "id": "4a7d0b49-cc49-49b2-85ec-d3fb804e2dbf",
   "metadata": {},
   "outputs": [],
   "source": [
    "gauges[\"grid_id\"] = functions.select_closest_grid(gauges, lst_grid_point)"
   ]
  },
  {
   "cell_type": "code",
   "execution_count": 8,
   "id": "40eaf2af-b825-44e5-a10d-7387929af632",
   "metadata": {},
   "outputs": [
    {
     "data": {
      "text/html": [
       "<div>\n",
       "<style scoped>\n",
       "    .dataframe tbody tr th:only-of-type {\n",
       "        vertical-align: middle;\n",
       "    }\n",
       "\n",
       "    .dataframe tbody tr th {\n",
       "        vertical-align: top;\n",
       "    }\n",
       "\n",
       "    .dataframe thead th {\n",
       "        text-align: right;\n",
       "    }\n",
       "</style>\n",
       "<table border=\"1\" class=\"dataframe\">\n",
       "  <thead>\n",
       "    <tr style=\"text-align: right;\">\n",
       "      <th></th>\n",
       "      <th>src_id</th>\n",
       "      <th>station_na</th>\n",
       "      <th>station_fi</th>\n",
       "      <th>historic_c</th>\n",
       "      <th>station_la</th>\n",
       "      <th>station_lo</th>\n",
       "      <th>station_el</th>\n",
       "      <th>first_year</th>\n",
       "      <th>last_year</th>\n",
       "      <th>geometry</th>\n",
       "      <th>grid_id</th>\n",
       "    </tr>\n",
       "  </thead>\n",
       "  <tbody>\n",
       "    <tr>\n",
       "      <th>0</th>\n",
       "      <td>00003</td>\n",
       "      <td>FAIR ISLE</td>\n",
       "      <td>fair-isle</td>\n",
       "      <td>shetland</td>\n",
       "      <td>59.526</td>\n",
       "      <td>-1.63</td>\n",
       "      <td>57</td>\n",
       "      <td>1974</td>\n",
       "      <td>2020</td>\n",
       "      <td>POINT (-1.63000 59.52600)</td>\n",
       "      <td>99</td>\n",
       "    </tr>\n",
       "  </tbody>\n",
       "</table>\n",
       "</div>"
      ],
      "text/plain": [
       "  src_id station_na station_fi historic_c  station_la  station_lo  station_el  \\\n",
       "0  00003  FAIR ISLE  fair-isle   shetland      59.526       -1.63          57   \n",
       "\n",
       "   first_year  last_year                   geometry  grid_id  \n",
       "0        1974       2020  POINT (-1.63000 59.52600)       99  "
      ]
     },
     "execution_count": 8,
     "metadata": {},
     "output_type": "execute_result"
    }
   ],
   "source": [
    "gauges.head(1)"
   ]
  },
  {
   "cell_type": "code",
   "execution_count": 9,
   "id": "7e145e21-36b1-4127-88cb-1534e463d711",
   "metadata": {},
   "outputs": [],
   "source": [
    "gauges[\"grid_id_distance\"] = functions.select_closest_dist(gauges, lst_grid_point)"
   ]
  },
  {
   "cell_type": "code",
   "execution_count": 10,
   "id": "c2c56825-463c-41dc-8d6d-6127b72522cf",
   "metadata": {},
   "outputs": [
    {
     "data": {
      "text/html": [
       "<div>\n",
       "<style scoped>\n",
       "    .dataframe tbody tr th:only-of-type {\n",
       "        vertical-align: middle;\n",
       "    }\n",
       "\n",
       "    .dataframe tbody tr th {\n",
       "        vertical-align: top;\n",
       "    }\n",
       "\n",
       "    .dataframe thead th {\n",
       "        text-align: right;\n",
       "    }\n",
       "</style>\n",
       "<table border=\"1\" class=\"dataframe\">\n",
       "  <thead>\n",
       "    <tr style=\"text-align: right;\">\n",
       "      <th></th>\n",
       "      <th>src_id</th>\n",
       "      <th>station_na</th>\n",
       "      <th>station_fi</th>\n",
       "      <th>historic_c</th>\n",
       "      <th>station_la</th>\n",
       "      <th>station_lo</th>\n",
       "      <th>station_el</th>\n",
       "      <th>first_year</th>\n",
       "      <th>last_year</th>\n",
       "      <th>geometry</th>\n",
       "      <th>grid_id</th>\n",
       "      <th>grid_id_distance</th>\n",
       "    </tr>\n",
       "  </thead>\n",
       "  <tbody>\n",
       "    <tr>\n",
       "      <th>0</th>\n",
       "      <td>00003</td>\n",
       "      <td>FAIR ISLE</td>\n",
       "      <td>fair-isle</td>\n",
       "      <td>shetland</td>\n",
       "      <td>59.526</td>\n",
       "      <td>-1.63</td>\n",
       "      <td>57</td>\n",
       "      <td>1974</td>\n",
       "      <td>2020</td>\n",
       "      <td>POINT (-1.63000 59.52600)</td>\n",
       "      <td>99</td>\n",
       "      <td>279096.477241</td>\n",
       "    </tr>\n",
       "  </tbody>\n",
       "</table>\n",
       "</div>"
      ],
      "text/plain": [
       "  src_id station_na station_fi historic_c  station_la  station_lo  station_el  \\\n",
       "0  00003  FAIR ISLE  fair-isle   shetland      59.526       -1.63          57   \n",
       "\n",
       "   first_year  last_year                   geometry  grid_id  grid_id_distance  \n",
       "0        1974       2020  POINT (-1.63000 59.52600)       99     279096.477241  "
      ]
     },
     "execution_count": 10,
     "metadata": {},
     "output_type": "execute_result"
    }
   ],
   "source": [
    "gauges.head(1)"
   ]
  },
  {
   "cell_type": "markdown",
   "id": "3dae6247-e0fc-43da-9fc3-a9de14431d5c",
   "metadata": {},
   "source": [
    "We only want gauges that are less than 5km away from the center of a grid:"
   ]
  },
  {
   "cell_type": "code",
   "execution_count": 11,
   "id": "14056fc6-1771-4969-adb4-3ff0879b3a65",
   "metadata": {},
   "outputs": [],
   "source": [
    "gauges_in_cell = gauges.query(\"grid_id_distance < 5000\")"
   ]
  },
  {
   "cell_type": "code",
   "execution_count": 12,
   "id": "31bd369a-71c5-49d6-807d-127f2ac143c2",
   "metadata": {},
   "outputs": [
    {
     "data": {
      "text/html": [
       "<div>\n",
       "<style scoped>\n",
       "    .dataframe tbody tr th:only-of-type {\n",
       "        vertical-align: middle;\n",
       "    }\n",
       "\n",
       "    .dataframe tbody tr th {\n",
       "        vertical-align: top;\n",
       "    }\n",
       "\n",
       "    .dataframe thead th {\n",
       "        text-align: right;\n",
       "    }\n",
       "</style>\n",
       "<table border=\"1\" class=\"dataframe\">\n",
       "  <thead>\n",
       "    <tr style=\"text-align: right;\">\n",
       "      <th></th>\n",
       "      <th>src_id</th>\n",
       "      <th>station_na</th>\n",
       "      <th>station_fi</th>\n",
       "      <th>historic_c</th>\n",
       "      <th>station_la</th>\n",
       "      <th>station_lo</th>\n",
       "      <th>station_el</th>\n",
       "      <th>first_year</th>\n",
       "      <th>last_year</th>\n",
       "      <th>geometry</th>\n",
       "      <th>grid_id</th>\n",
       "      <th>grid_id_distance</th>\n",
       "    </tr>\n",
       "  </thead>\n",
       "  <tbody>\n",
       "    <tr>\n",
       "      <th>31</th>\n",
       "      <td>00289</td>\n",
       "      <td>KIELDER CASTLE</td>\n",
       "      <td>kielder-castle</td>\n",
       "      <td>northumberland</td>\n",
       "      <td>55.234</td>\n",
       "      <td>-2.58</td>\n",
       "      <td>201</td>\n",
       "      <td>2013</td>\n",
       "      <td>2020</td>\n",
       "      <td>POINT (-2.58000 55.23400)</td>\n",
       "      <td>69</td>\n",
       "      <td>1741.523294</td>\n",
       "    </tr>\n",
       "  </tbody>\n",
       "</table>\n",
       "</div>"
      ],
      "text/plain": [
       "   src_id      station_na      station_fi      historic_c  station_la  \\\n",
       "31  00289  KIELDER CASTLE  kielder-castle  northumberland      55.234   \n",
       "\n",
       "    station_lo  station_el  first_year  last_year                   geometry  \\\n",
       "31       -2.58         201        2013       2020  POINT (-2.58000 55.23400)   \n",
       "\n",
       "    grid_id  grid_id_distance  \n",
       "31       69       1741.523294  "
      ]
     },
     "execution_count": 12,
     "metadata": {},
     "output_type": "execute_result"
    }
   ],
   "source": [
    "gauges_in_cell.head(1)"
   ]
  },
  {
   "cell_type": "markdown",
   "id": "4365e92d-72ed-4fe6-aba3-ae1ae53e14fa",
   "metadata": {},
   "source": [
    "This is a little bit 'janky' as we might say, the priciple is that all the functions were written to take an index and then look that index up, and then apply it to that data.<br>\n",
    "In hind sight might be better to supply a function with a row of a dataframe and then apply functions.<br>\n",
    "For now i've left it and built a class: functions.slope_steepness which takes 'df, lst_lines, lst_points, selected_n' on initialisation.<br>\n",
    "This then takes care of everyhting for you given you suply a df of gauges with id, a list of contours, a list of points and the number of contours to select"
   ]
  },
  {
   "cell_type": "code",
   "execution_count": 13,
   "id": "a994ee60-85a3-44c4-9793-bc9a1a45115c",
   "metadata": {},
   "outputs": [
    {
     "data": {
      "text/html": [
       "<div>\n",
       "<style scoped>\n",
       "    .dataframe tbody tr th:only-of-type {\n",
       "        vertical-align: middle;\n",
       "    }\n",
       "\n",
       "    .dataframe tbody tr th {\n",
       "        vertical-align: top;\n",
       "    }\n",
       "\n",
       "    .dataframe thead th {\n",
       "        text-align: right;\n",
       "    }\n",
       "</style>\n",
       "<table border=\"1\" class=\"dataframe\">\n",
       "  <thead>\n",
       "    <tr style=\"text-align: right;\">\n",
       "      <th></th>\n",
       "      <th>level_0</th>\n",
       "      <th>index</th>\n",
       "      <th>src_id</th>\n",
       "      <th>station_na</th>\n",
       "      <th>station_fi</th>\n",
       "      <th>historic_c</th>\n",
       "      <th>station_la</th>\n",
       "      <th>station_lo</th>\n",
       "      <th>station_el</th>\n",
       "      <th>first_year</th>\n",
       "      <th>last_year</th>\n",
       "      <th>geometry</th>\n",
       "      <th>grid_id</th>\n",
       "      <th>grid_id_distance</th>\n",
       "    </tr>\n",
       "  </thead>\n",
       "  <tbody>\n",
       "    <tr>\n",
       "      <th>0</th>\n",
       "      <td>0</td>\n",
       "      <td>31</td>\n",
       "      <td>00289</td>\n",
       "      <td>KIELDER CASTLE</td>\n",
       "      <td>kielder-castle</td>\n",
       "      <td>northumberland</td>\n",
       "      <td>55.234</td>\n",
       "      <td>-2.580</td>\n",
       "      <td>201</td>\n",
       "      <td>2013</td>\n",
       "      <td>2020</td>\n",
       "      <td>POINT (-2.58000 55.23400)</td>\n",
       "      <td>69</td>\n",
       "      <td>1741.523294</td>\n",
       "    </tr>\n",
       "    <tr>\n",
       "      <th>1</th>\n",
       "      <td>1</td>\n",
       "      <td>122</td>\n",
       "      <td>01023</td>\n",
       "      <td>ESKDALEMUIR</td>\n",
       "      <td>eskdalemuir</td>\n",
       "      <td>dumfriesshire</td>\n",
       "      <td>55.312</td>\n",
       "      <td>-3.207</td>\n",
       "      <td>236</td>\n",
       "      <td>1954</td>\n",
       "      <td>2020</td>\n",
       "      <td>POINT (-3.20700 55.31200)</td>\n",
       "      <td>29</td>\n",
       "      <td>4763.902441</td>\n",
       "    </tr>\n",
       "    <tr>\n",
       "      <th>2</th>\n",
       "      <td>2</td>\n",
       "      <td>127</td>\n",
       "      <td>01060</td>\n",
       "      <td>KESWICK</td>\n",
       "      <td>keswick</td>\n",
       "      <td>cumbria</td>\n",
       "      <td>54.614</td>\n",
       "      <td>-3.157</td>\n",
       "      <td>81</td>\n",
       "      <td>1992</td>\n",
       "      <td>2020</td>\n",
       "      <td>POINT (-3.15700 54.61400)</td>\n",
       "      <td>22</td>\n",
       "      <td>627.065674</td>\n",
       "    </tr>\n",
       "  </tbody>\n",
       "</table>\n",
       "</div>"
      ],
      "text/plain": [
       "   level_0  index src_id      station_na      station_fi      historic_c  \\\n",
       "0        0     31  00289  KIELDER CASTLE  kielder-castle  northumberland   \n",
       "1        1    122  01023     ESKDALEMUIR     eskdalemuir   dumfriesshire   \n",
       "2        2    127  01060         KESWICK         keswick         cumbria   \n",
       "\n",
       "   station_la  station_lo  station_el  first_year  last_year  \\\n",
       "0      55.234      -2.580         201        2013       2020   \n",
       "1      55.312      -3.207         236        1954       2020   \n",
       "2      54.614      -3.157          81        1992       2020   \n",
       "\n",
       "                    geometry  grid_id  grid_id_distance  \n",
       "0  POINT (-2.58000 55.23400)       69       1741.523294  \n",
       "1  POINT (-3.20700 55.31200)       29       4763.902441  \n",
       "2  POINT (-3.15700 54.61400)       22        627.065674  "
      ]
     },
     "execution_count": 13,
     "metadata": {},
     "output_type": "execute_result"
    }
   ],
   "source": [
    "gauges_in_cell.reset_index(inplace=True)\n",
    "gauges_in_cell.reset_index(inplace=True)\n",
    "gauges_in_cell.head(3)"
   ]
  },
  {
   "cell_type": "markdown",
   "id": "911d8ec9-a508-462d-a4a8-7353e5fbffb1",
   "metadata": {},
   "source": [
    "Using the magic of functions (see functions.py) we can find the slope steepness"
   ]
  },
  {
   "cell_type": "code",
   "execution_count": 14,
   "id": "e5f8953b-6d84-4480-a6b1-5a168ee402e2",
   "metadata": {},
   "outputs": [],
   "source": [
    "selected_n_contours = 10\n",
    "gauges_in_cell[\"Slope_sorted\"] = functions.slope_steepness(gauges_in_cell, lst_lines, lst_points, selected_n_contours)\\\n",
    "                                            .by_distance_to_gauge()"
   ]
  },
  {
   "cell_type": "code",
   "execution_count": 15,
   "id": "b99b889d-19a9-4093-bf4f-0990b512bcb6",
   "metadata": {},
   "outputs": [
    {
     "data": {
      "text/html": [
       "<div>\n",
       "<style scoped>\n",
       "    .dataframe tbody tr th:only-of-type {\n",
       "        vertical-align: middle;\n",
       "    }\n",
       "\n",
       "    .dataframe tbody tr th {\n",
       "        vertical-align: top;\n",
       "    }\n",
       "\n",
       "    .dataframe thead th {\n",
       "        text-align: right;\n",
       "    }\n",
       "</style>\n",
       "<table border=\"1\" class=\"dataframe\">\n",
       "  <thead>\n",
       "    <tr style=\"text-align: right;\">\n",
       "      <th></th>\n",
       "      <th>level_0</th>\n",
       "      <th>index</th>\n",
       "      <th>src_id</th>\n",
       "      <th>station_na</th>\n",
       "      <th>station_fi</th>\n",
       "      <th>historic_c</th>\n",
       "      <th>station_la</th>\n",
       "      <th>station_lo</th>\n",
       "      <th>station_el</th>\n",
       "      <th>first_year</th>\n",
       "      <th>last_year</th>\n",
       "      <th>geometry</th>\n",
       "      <th>grid_id</th>\n",
       "      <th>grid_id_distance</th>\n",
       "      <th>Slope_sorted</th>\n",
       "    </tr>\n",
       "  </thead>\n",
       "  <tbody>\n",
       "    <tr>\n",
       "      <th>0</th>\n",
       "      <td>0</td>\n",
       "      <td>31</td>\n",
       "      <td>00289</td>\n",
       "      <td>KIELDER CASTLE</td>\n",
       "      <td>kielder-castle</td>\n",
       "      <td>northumberland</td>\n",
       "      <td>55.234</td>\n",
       "      <td>-2.58</td>\n",
       "      <td>201</td>\n",
       "      <td>2013</td>\n",
       "      <td>2020</td>\n",
       "      <td>POINT (-2.58000 55.23400)</td>\n",
       "      <td>69</td>\n",
       "      <td>1741.523294</td>\n",
       "      <td>26.25</td>\n",
       "    </tr>\n",
       "  </tbody>\n",
       "</table>\n",
       "</div>"
      ],
      "text/plain": [
       "   level_0  index src_id      station_na      station_fi      historic_c  \\\n",
       "0        0     31  00289  KIELDER CASTLE  kielder-castle  northumberland   \n",
       "\n",
       "   station_la  station_lo  station_el  first_year  last_year  \\\n",
       "0      55.234       -2.58         201        2013       2020   \n",
       "\n",
       "                    geometry  grid_id  grid_id_distance  Slope_sorted  \n",
       "0  POINT (-2.58000 55.23400)       69       1741.523294         26.25  "
      ]
     },
     "execution_count": 15,
     "metadata": {},
     "output_type": "execute_result"
    }
   ],
   "source": [
    "gauges_in_cell.head(1)"
   ]
  },
  {
   "cell_type": "code",
   "execution_count": 16,
   "id": "ffebef0c-13f8-4dcb-b5b4-012299e58fb1",
   "metadata": {},
   "outputs": [],
   "source": [
    "selected_n_contours = 10 # by default\n",
    "gauges_in_cell[\"Slope_resorted\"] = functions.slope_steepness(gauges_in_cell, lst_lines, lst_points, selected_n_contours)\\\n",
    "                                            .by_closest_inter_distance()"
   ]
  },
  {
   "cell_type": "code",
   "execution_count": 17,
   "id": "25dd6570-5a37-4a1b-95a0-225cc64a5964",
   "metadata": {},
   "outputs": [
    {
     "data": {
      "text/html": [
       "<div>\n",
       "<style scoped>\n",
       "    .dataframe tbody tr th:only-of-type {\n",
       "        vertical-align: middle;\n",
       "    }\n",
       "\n",
       "    .dataframe tbody tr th {\n",
       "        vertical-align: top;\n",
       "    }\n",
       "\n",
       "    .dataframe thead th {\n",
       "        text-align: right;\n",
       "    }\n",
       "</style>\n",
       "<table border=\"1\" class=\"dataframe\">\n",
       "  <thead>\n",
       "    <tr style=\"text-align: right;\">\n",
       "      <th></th>\n",
       "      <th>level_0</th>\n",
       "      <th>index</th>\n",
       "      <th>src_id</th>\n",
       "      <th>station_na</th>\n",
       "      <th>station_fi</th>\n",
       "      <th>historic_c</th>\n",
       "      <th>station_la</th>\n",
       "      <th>station_lo</th>\n",
       "      <th>station_el</th>\n",
       "      <th>first_year</th>\n",
       "      <th>last_year</th>\n",
       "      <th>geometry</th>\n",
       "      <th>grid_id</th>\n",
       "      <th>grid_id_distance</th>\n",
       "      <th>Slope_sorted</th>\n",
       "      <th>Slope_resorted</th>\n",
       "    </tr>\n",
       "  </thead>\n",
       "  <tbody>\n",
       "    <tr>\n",
       "      <th>0</th>\n",
       "      <td>0</td>\n",
       "      <td>31</td>\n",
       "      <td>00289</td>\n",
       "      <td>KIELDER CASTLE</td>\n",
       "      <td>kielder-castle</td>\n",
       "      <td>northumberland</td>\n",
       "      <td>55.234</td>\n",
       "      <td>-2.58</td>\n",
       "      <td>201</td>\n",
       "      <td>2013</td>\n",
       "      <td>2020</td>\n",
       "      <td>POINT (-2.58000 55.23400)</td>\n",
       "      <td>69</td>\n",
       "      <td>1741.523294</td>\n",
       "      <td>26.25</td>\n",
       "      <td>11.52</td>\n",
       "    </tr>\n",
       "  </tbody>\n",
       "</table>\n",
       "</div>"
      ],
      "text/plain": [
       "   level_0  index src_id      station_na      station_fi      historic_c  \\\n",
       "0        0     31  00289  KIELDER CASTLE  kielder-castle  northumberland   \n",
       "\n",
       "   station_la  station_lo  station_el  first_year  last_year  \\\n",
       "0      55.234       -2.58         201        2013       2020   \n",
       "\n",
       "                    geometry  grid_id  grid_id_distance  Slope_sorted  \\\n",
       "0  POINT (-2.58000 55.23400)       69       1741.523294         26.25   \n",
       "\n",
       "   Slope_resorted  \n",
       "0           11.52  "
      ]
     },
     "execution_count": 17,
     "metadata": {},
     "output_type": "execute_result"
    }
   ],
   "source": [
    "gauges_in_cell.head(1)"
   ]
  },
  {
   "cell_type": "code",
   "execution_count": 18,
   "id": "9a91bb7a-9314-4bc0-8dd7-d212784feb89",
   "metadata": {},
   "outputs": [],
   "source": [
    "gauges_in_cell.to_csv(f\"Output/{grid_id}.csv\",\n",
    "                            columns=[\"src_id\",\"Slope_sorted\",\"Slope_resorted\"]) #,\"Slope_sorted2\",\"Slope_resorted2\"])"
   ]
  },
  {
   "cell_type": "markdown",
   "id": "667e2215-79c0-4adf-ae4f-6302babe51e8",
   "metadata": {},
   "source": [
    "# That was one grid, now lets repeat for all grids:\n",
    "The UK consists of 55 grids:"
   ]
  },
  {
   "cell_type": "code",
   "execution_count": 19,
   "id": "21265e50-4b9e-49a7-b8ae-3bff12d1c5cb",
   "metadata": {},
   "outputs": [
    {
     "data": {
      "image/png": "[encoded data removed]",
      "text/plain": [
       "<Figure size 360x360 with 1 Axes>"
      ]
     },
     "metadata": {
      "needs_background": "light"
     },
     "output_type": "display_data"
    }
   ],
   "source": [
    "plt.imshow(matplotlib.image.imread(\"Plots/OS-Terrain50-Userguide.png\"))\n",
    "plt.axis(\"off\");"
   ]
  },
  {
   "cell_type": "markdown",
   "id": "6aa5b9fe-4e4a-4468-9ca9-075163a127a9",
   "metadata": {},
   "source": [
    "Load all these names in. <br>\n",
    "In the command promt \"dir /b > filenames.txt\" generates a list of all the filenames in that directory<br>\n",
    "[more info on commandpromt](https://www.thewindowsclub.com/how-to-open-command-prompt-from-right-click-menu#:~:text=To%20open%20a%20command%20prompt%20window%20in%20any%20folder%2C%20simply,the%20same%20inside%20any%20folder)<br>\n"
   ]
  },
  {
   "cell_type": "code",
   "execution_count": 20,
   "id": "68288e5d-8d9a-44f1-ad0a-14d60ea2a75f",
   "metadata": {},
   "outputs": [],
   "source": [
    "gridnames = []\n",
    "with open(\"Final Data Output/gridnames.csv\") as fin:\n",
    "    for line in fin:\n",
    "        gridnames.append(line.strip())"
   ]
  },
  {
   "cell_type": "code",
   "execution_count": 21,
   "id": "ac56ce35-7cdd-4376-9c2a-771500d1c5fc",
   "metadata": {},
   "outputs": [],
   "source": [
    "# gridnames"
   ]
  },
  {
   "cell_type": "code",
   "execution_count": 22,
   "id": "88ea5053",
   "metadata": {},
   "outputs": [],
   "source": [
    "start = time.time()\n",
    "run = False\n",
    "if run:\n",
    "    for i, grid_id in enumerate(gridnames):\n",
    "        print(i,end=\"\\r\")\n",
    "        \n",
    "        lst_points, lst_grid_point = functions.bulk_import_shapefiles(grid_id, 99,\"point\")\n",
    "        lst_lines, empty_list = functions.bulk_import_shapefiles(grid_id, 99,\"line\")\n",
    "        \n",
    "        gauges[\"grid_id\"] = functions.select_closest_grid(gauges, lst_grid_point)\n",
    "        gauges[\"grid_id_distance\"] = functions.select_closest_dist(gauges, lst_grid_point)\n",
    "        \n",
    "        gauges_in_cell = gauges.query(\"grid_id_distance < 5000\")\n",
    "        \n",
    "        gauges_in_cell.reset_index(inplace=True)\n",
    "        gauges_in_cell.reset_index(inplace=True)\n",
    "        \n",
    "        selected_n_contours = 10 # by default\n",
    "        \n",
    "        gauges_in_cell[\"Slope_sorted\"] = functions.slope_steepness(gauges_in_cell, lst_lines, lst_points, selected_n_contours)\\\n",
    "                                            .by_distance_to_gauge()\n",
    "        gauges_in_cell[\"Slope_resorted\"] = functions.slope_steepness(gauges_in_cell, lst_lines, lst_points, selected_n_contours)\\\n",
    "                                            .by_closest_inter_distance()\n",
    "        \n",
    "        gauges_in_cell.to_csv(f\"Output/{grid_id}.csv\",\n",
    "                              columns=[\"src_id\",\"Slope_sorted\",\"Slope_resorted\"]) #,\"Slope_sorted2\",\"Slope_resorted2\"])\n",
    "\n",
    "    end = time.time()\n",
    "    print(f'{(end - start)/60:.3f} min')"
   ]
  },
  {
   "cell_type": "markdown",
   "id": "606af11b-ef5c-4497-b325-85e47c1c9dd2",
   "metadata": {},
   "source": [
    "last run:  16.171 min "
   ]
  },
  {
   "cell_type": "markdown",
   "id": "83b8fd81-f1f2-47fa-9817-f5d9404f7654",
   "metadata": {},
   "source": [
    "# Loading in run data:\n",
    "in hindsight might have been better to store all in one file but this works too"
   ]
  },
  {
   "cell_type": "code",
   "execution_count": 23,
   "id": "87677981",
   "metadata": {},
   "outputs": [],
   "source": [
    "i = \"hx\"\n",
    "\n",
    "# col = [1,2,3,4,5]\n",
    "col = [1,2,3]\n",
    "base = pd.read_csv(\"Output/\" + i + \".csv\",index_col=0,usecols=col)\n",
    "for i in gridnames:\n",
    "    base = base.append(pd.read_csv(\"Output/\" + i + \".csv\",usecols=col))\n",
    "    warnings.simplefilter(\"ignore\")\n",
    "    \n",
    "gauges.src_id = gauges.src_id.astype(int)\n",
    "base.src_id = base.src_id.astype(int)\n",
    "# for i in [\"Slope_resorted\",\"Slope_sorted2\",\"Slope_resorted2\",\"Slope_sorted\"]: \n",
    "#     base[i] = base[i].astype(float)"
   ]
  },
  {
   "cell_type": "markdown",
   "id": "050d0a86-52b6-4ee8-86c1-94338239b980",
   "metadata": {},
   "source": [
    "Need df to add the other to"
   ]
  },
  {
   "cell_type": "code",
   "execution_count": 24,
   "id": "d6ac7945",
   "metadata": {},
   "outputs": [
    {
     "data": {
      "text/html": [
       "<div>\n",
       "<style scoped>\n",
       "    .dataframe tbody tr th:only-of-type {\n",
       "        vertical-align: middle;\n",
       "    }\n",
       "\n",
       "    .dataframe tbody tr th {\n",
       "        vertical-align: top;\n",
       "    }\n",
       "\n",
       "    .dataframe thead th {\n",
       "        text-align: right;\n",
       "    }\n",
       "</style>\n",
       "<table border=\"1\" class=\"dataframe\">\n",
       "  <thead>\n",
       "    <tr style=\"text-align: right;\">\n",
       "      <th></th>\n",
       "      <th>Slope_resorted</th>\n",
       "      <th>src_id</th>\n",
       "      <th>Slope_sorted</th>\n",
       "    </tr>\n",
       "  </thead>\n",
       "  <tbody>\n",
       "    <tr>\n",
       "      <th>0</th>\n",
       "      <td>27.24</td>\n",
       "      <td>3</td>\n",
       "      <td>43.44</td>\n",
       "    </tr>\n",
       "  </tbody>\n",
       "</table>\n",
       "</div>"
      ],
      "text/plain": [
       "  Slope_resorted  src_id Slope_sorted\n",
       "0          27.24       3        43.44"
      ]
     },
     "execution_count": 24,
     "metadata": {},
     "output_type": "execute_result"
    }
   ],
   "source": [
    "base = base.sort_values(\"src_id\")\n",
    "base.head(1)"
   ]
  },
  {
   "cell_type": "markdown",
   "id": "0e5d9bf1-3b83-43f4-8a79-8287c047e374",
   "metadata": {},
   "source": [
    "merging the two together"
   ]
  },
  {
   "cell_type": "code",
   "execution_count": 39,
   "id": "0e4f4023",
   "metadata": {},
   "outputs": [
    {
     "data": {
      "text/html": [
       "<div>\n",
       "<style scoped>\n",
       "    .dataframe tbody tr th:only-of-type {\n",
       "        vertical-align: middle;\n",
       "    }\n",
       "\n",
       "    .dataframe tbody tr th {\n",
       "        vertical-align: top;\n",
       "    }\n",
       "\n",
       "    .dataframe thead th {\n",
       "        text-align: right;\n",
       "    }\n",
       "</style>\n",
       "<table border=\"1\" class=\"dataframe\">\n",
       "  <thead>\n",
       "    <tr style=\"text-align: right;\">\n",
       "      <th></th>\n",
       "      <th>src_id</th>\n",
       "      <th>station_na</th>\n",
       "      <th>station_fi</th>\n",
       "      <th>historic_c</th>\n",
       "      <th>station_la</th>\n",
       "      <th>station_lo</th>\n",
       "      <th>station_el</th>\n",
       "      <th>first_year</th>\n",
       "      <th>last_year</th>\n",
       "      <th>geometry</th>\n",
       "      <th>grid_id</th>\n",
       "      <th>grid_id_distance</th>\n",
       "      <th>Slope_resorted</th>\n",
       "      <th>Slope_sorted</th>\n",
       "    </tr>\n",
       "  </thead>\n",
       "  <tbody>\n",
       "    <tr>\n",
       "      <th>0</th>\n",
       "      <td>3</td>\n",
       "      <td>FAIR ISLE</td>\n",
       "      <td>fair-isle</td>\n",
       "      <td>shetland</td>\n",
       "      <td>59.526</td>\n",
       "      <td>-1.63</td>\n",
       "      <td>57</td>\n",
       "      <td>1974</td>\n",
       "      <td>2020</td>\n",
       "      <td>POINT (-1.63000 59.52600)</td>\n",
       "      <td>27</td>\n",
       "      <td>789.29992</td>\n",
       "      <td>27.24</td>\n",
       "      <td>43.44</td>\n",
       "    </tr>\n",
       "  </tbody>\n",
       "</table>\n",
       "</div>"
      ],
      "text/plain": [
       "   src_id station_na station_fi historic_c  station_la  station_lo  \\\n",
       "0       3  FAIR ISLE  fair-isle   shetland      59.526       -1.63   \n",
       "\n",
       "   station_el  first_year  last_year                   geometry  grid_id  \\\n",
       "0          57        1974       2020  POINT (-1.63000 59.52600)       27   \n",
       "\n",
       "   grid_id_distance Slope_resorted Slope_sorted  \n",
       "0         789.29992          27.24        43.44  "
      ]
     },
     "execution_count": 39,
     "metadata": {},
     "output_type": "execute_result"
    }
   ],
   "source": [
    "combined = pd.merge(gauges, base,on=\"src_id\")\n",
    "# combined.to_csv(\"Final Data Output/206 stations with slope Data.csv\")\n",
    "combined.head(1)"
   ]
  },
  {
   "cell_type": "code",
   "execution_count": 26,
   "id": "4232f28e",
   "metadata": {},
   "outputs": [
    {
     "data": {
      "text/plain": [
       "(154.64, 2.38, 16.16909952606635)"
      ]
     },
     "execution_count": 26,
     "metadata": {},
     "output_type": "execute_result"
    }
   ],
   "source": [
    "combined.Slope_sorted.max(),combined.Slope_sorted.min(), combined.Slope_sorted.mean(),"
   ]
  },
  {
   "cell_type": "markdown",
   "id": "2cf21176-a72f-42a6-a6ce-9ec37b84bcc9",
   "metadata": {},
   "source": [
    "Comparing sorted and resorted plots"
   ]
  },
  {
   "cell_type": "code",
   "execution_count": 27,
   "id": "c5a68311",
   "metadata": {},
   "outputs": [
    {
     "data": {
      "image/png": "[encoded data removed]",
      "text/plain": [
       "<Figure size 360x360 with 1 Axes>"
      ]
     },
     "metadata": {
      "needs_background": "light"
     },
     "output_type": "display_data"
    }
   ],
   "source": [
    "combined.Slope_sorted.plot.hist(bins=100)\n",
    "combined.Slope_resorted.plot.hist(bins=100);"
   ]
  },
  {
   "cell_type": "code",
   "execution_count": 40,
   "id": "3764234a",
   "metadata": {},
   "outputs": [
    {
     "data": {
      "image/png": "[encoded data removed]",
      "text/plain": [
       "<Figure size 360x360 with 1 Axes>"
      ]
     },
     "metadata": {
      "needs_background": "light"
     },
     "output_type": "display_data"
    }
   ],
   "source": [
    "pd.DataFrame(combined, columns=[\"Slope_sorted\",\"Slope_resorted\"]).astype(float).plot.box()\n",
    "plt.title(\"Boxplot of slope steepness\")\n",
    "plt.ylabel(\"Steepness (%)\")\n",
    "# plt.savefig(\"Plots/Slopesteepness Boxplot sorted vs resorted.jpg\",pad_inches=0)"
   ]
  },
  {
   "cell_type": "code",
   "execution_count": 41,
   "id": "459b6090",
   "metadata": {},
   "outputs": [
    {
     "data": {
      "image/png": "[encoded data removed]",
      "text/plain": [
       "<Figure size 360x360 with 1 Axes>"
      ]
     },
     "metadata": {
      "needs_background": "light"
     },
     "output_type": "display_data"
    }
   ],
   "source": [
    "combined.Slope_resorted.plot.box()\n",
    "# plt.savefig(\"Plots/Slopesteepness Boxplot resorted.jpg\",pad_inches=0)"
   ]
  },
  {
   "cell_type": "markdown",
   "id": "22245777",
   "metadata": {},
   "source": [
    "#### Saving queries for reprocessing"
   ]
  },
  {
   "cell_type": "code",
   "execution_count": 30,
   "id": "11094dc3",
   "metadata": {},
   "outputs": [],
   "source": [
    "combined.query(\"Slope_resorted < 18.125\").to_csv(\"Final Data Output/Removed outliers.csv\")"
   ]
  },
  {
   "cell_type": "code",
   "execution_count": 31,
   "id": "e7212d18",
   "metadata": {},
   "outputs": [
    {
     "data": {
      "text/html": [
       "<div>\n",
       "<style scoped>\n",
       "    .dataframe tbody tr th:only-of-type {\n",
       "        vertical-align: middle;\n",
       "    }\n",
       "\n",
       "    .dataframe tbody tr th {\n",
       "        vertical-align: top;\n",
       "    }\n",
       "\n",
       "    .dataframe thead th {\n",
       "        text-align: right;\n",
       "    }\n",
       "</style>\n",
       "<table border=\"1\" class=\"dataframe\">\n",
       "  <thead>\n",
       "    <tr style=\"text-align: right;\">\n",
       "      <th></th>\n",
       "      <th>src_id</th>\n",
       "      <th>station_na</th>\n",
       "      <th>station_fi</th>\n",
       "      <th>historic_c</th>\n",
       "      <th>station_la</th>\n",
       "      <th>station_lo</th>\n",
       "      <th>station_el</th>\n",
       "      <th>first_year</th>\n",
       "      <th>last_year</th>\n",
       "      <th>geometry</th>\n",
       "      <th>grid_id</th>\n",
       "      <th>grid_id_distance</th>\n",
       "      <th>Slope_resorted</th>\n",
       "      <th>Slope_sorted</th>\n",
       "    </tr>\n",
       "  </thead>\n",
       "  <tbody>\n",
       "    <tr>\n",
       "      <th>1</th>\n",
       "      <td>9</td>\n",
       "      <td>LERWICK</td>\n",
       "      <td>lerwick</td>\n",
       "      <td>shetland</td>\n",
       "      <td>60.139</td>\n",
       "      <td>-1.185</td>\n",
       "      <td>82</td>\n",
       "      <td>1930</td>\n",
       "      <td>2020</td>\n",
       "      <td>POINT (-1.18500 60.13900)</td>\n",
       "      <td>99</td>\n",
       "      <td>322571.744968</td>\n",
       "      <td>8.32</td>\n",
       "      <td>11.57</td>\n",
       "    </tr>\n",
       "  </tbody>\n",
       "</table>\n",
       "</div>"
      ],
      "text/plain": [
       "   src_id station_na station_fi historic_c  station_la  station_lo  \\\n",
       "1       9    LERWICK    lerwick   shetland      60.139      -1.185   \n",
       "\n",
       "   station_el  first_year  last_year                   geometry  grid_id  \\\n",
       "1          82        1930       2020  POINT (-1.18500 60.13900)       99   \n",
       "\n",
       "   grid_id_distance Slope_resorted Slope_sorted  \n",
       "1     322571.744968           8.32        11.57  "
      ]
     },
     "execution_count": 31,
     "metadata": {},
     "output_type": "execute_result"
    }
   ],
   "source": [
    "combined.query(\"Slope_resorted < 18.125\").head(1)"
   ]
  },
  {
   "cell_type": "code",
   "execution_count": 32,
   "id": "d0ba3de1",
   "metadata": {},
   "outputs": [],
   "source": [
    "combined.query(\"Slope_resorted > 18.125\").to_csv(\"Final Data Output//outliers.csv\")"
   ]
  },
  {
   "cell_type": "code",
   "execution_count": 33,
   "id": "7f5b856e",
   "metadata": {},
   "outputs": [
    {
     "data": {
      "text/html": [
       "<div>\n",
       "<style scoped>\n",
       "    .dataframe tbody tr th:only-of-type {\n",
       "        vertical-align: middle;\n",
       "    }\n",
       "\n",
       "    .dataframe tbody tr th {\n",
       "        vertical-align: top;\n",
       "    }\n",
       "\n",
       "    .dataframe thead th {\n",
       "        text-align: right;\n",
       "    }\n",
       "</style>\n",
       "<table border=\"1\" class=\"dataframe\">\n",
       "  <thead>\n",
       "    <tr style=\"text-align: right;\">\n",
       "      <th></th>\n",
       "      <th>src_id</th>\n",
       "      <th>station_na</th>\n",
       "      <th>station_fi</th>\n",
       "      <th>historic_c</th>\n",
       "      <th>station_la</th>\n",
       "      <th>station_lo</th>\n",
       "      <th>station_el</th>\n",
       "      <th>first_year</th>\n",
       "      <th>last_year</th>\n",
       "      <th>geometry</th>\n",
       "      <th>grid_id</th>\n",
       "      <th>grid_id_distance</th>\n",
       "      <th>Slope_resorted</th>\n",
       "      <th>Slope_sorted</th>\n",
       "    </tr>\n",
       "  </thead>\n",
       "  <tbody>\n",
       "    <tr>\n",
       "      <th>0</th>\n",
       "      <td>3</td>\n",
       "      <td>FAIR ISLE</td>\n",
       "      <td>fair-isle</td>\n",
       "      <td>shetland</td>\n",
       "      <td>59.526</td>\n",
       "      <td>-1.63</td>\n",
       "      <td>57</td>\n",
       "      <td>1974</td>\n",
       "      <td>2020</td>\n",
       "      <td>POINT (-1.63000 59.52600)</td>\n",
       "      <td>99</td>\n",
       "      <td>279096.477241</td>\n",
       "      <td>27.24</td>\n",
       "      <td>43.44</td>\n",
       "    </tr>\n",
       "  </tbody>\n",
       "</table>\n",
       "</div>"
      ],
      "text/plain": [
       "   src_id station_na station_fi historic_c  station_la  station_lo  \\\n",
       "0       3  FAIR ISLE  fair-isle   shetland      59.526       -1.63   \n",
       "\n",
       "   station_el  first_year  last_year                   geometry  grid_id  \\\n",
       "0          57        1974       2020  POINT (-1.63000 59.52600)       99   \n",
       "\n",
       "   grid_id_distance Slope_resorted Slope_sorted  \n",
       "0     279096.477241          27.24        43.44  "
      ]
     },
     "execution_count": 33,
     "metadata": {},
     "output_type": "execute_result"
    }
   ],
   "source": [
    "combined.query(\"Slope_resorted > 18.125\").head(1)"
   ]
  },
  {
   "cell_type": "markdown",
   "id": "de600b33",
   "metadata": {},
   "source": [
    "# Looking at outliers"
   ]
  },
  {
   "cell_type": "code",
   "execution_count": 34,
   "id": "59c2211d",
   "metadata": {},
   "outputs": [
    {
     "name": "stdout",
     "output_type": "stream",
     "text": [
      "19.417499999999997\n",
      "16\n"
     ]
    }
   ],
   "source": [
    "IQR = combined.Slope_resorted.quantile(q=0.75) - combined.Slope_resorted.quantile(q=0.25)\n",
    "Outlier_threshold = combined.Slope_resorted.quantile(q=0.75) + 1.5 * IQR\n",
    "print(Outlier_threshold)\n",
    "outliers_resorted = combined.query(f\"Slope_resorted > {Outlier_threshold}\")\n",
    "print(outliers_resorted.src_id .count())\n",
    "# outliers_resorted.plot.scatter(outliers_resorted.station_el,outliers_resorted.Slope_resorted)"
   ]
  },
  {
   "cell_type": "code",
   "execution_count": 35,
   "id": "877a32a5",
   "metadata": {},
   "outputs": [
    {
     "data": {
      "text/plain": [
       "<AxesSubplot:>"
      ]
     },
     "execution_count": 35,
     "metadata": {},
     "output_type": "execute_result"
    },
    {
     "data": {
      "image/png": "[encoded data removed]",
      "text/plain": [
       "<Figure size 360x360 with 1 Axes>"
      ]
     },
     "metadata": {
      "needs_background": "light"
     },
     "output_type": "display_data"
    }
   ],
   "source": [
    "outliers_resorted.Slope_resorted.hist()"
   ]
  },
  {
   "cell_type": "code",
   "execution_count": 36,
   "id": "9d259200",
   "metadata": {},
   "outputs": [],
   "source": [
    "### recalculating for the fair isles (midterm figure)\n",
    "grid_id = \"hz\"\n",
    "run = True\n",
    "if run:\n",
    "    lst_points, lst_grid_point = functions.bulk_import_shapefiles(grid_id, 99,\"point\")\n",
    "    lst_lines, empty_list = functions.bulk_import_shapefiles(grid_id, 99,\"line\")\n",
    "\n",
    "    gauges[\"grid_id\"] = functions.select_closest_grid(gauges, lst_grid_point)\n",
    "    gauges[\"grid_id_distance\"] = functions.select_closest_dist(gauges, lst_grid_point)\n",
    "\n",
    "    gauges_in_cell = gauges.query(\"grid_id_distance < 5000\")\n",
    "    gauges_in_cell.reset_index(inplace=True)\n",
    "    gauges_in_cell.reset_index(inplace=True)\n",
    "\n",
    "    selected_n_contours = 10 # by default\n",
    "    gauges_in_cell[\"Slope_resorted\"] = functions.slope_steepness(gauges_in_cell, lst_lines, lst_points, selected_n_contours)\\\n",
    "                                        .by_closest_inter_distance()\n"
   ]
  },
  {
   "cell_type": "code",
   "execution_count": 37,
   "id": "341d8e43",
   "metadata": {},
   "outputs": [
    {
     "data": {
      "text/plain": [
       "<AxesSubplot:>"
      ]
     },
     "execution_count": 37,
     "metadata": {},
     "output_type": "execute_result"
    },
    {
     "data": {
      "image/png": "[encoded data removed]",
      "text/plain": [
       "<Figure size 360x360 with 1 Axes>"
      ]
     },
     "metadata": {
      "needs_background": "light"
     },
     "output_type": "display_data"
    }
   ],
   "source": [
    "selected_n_contours= 10\n",
    "functions.slope_steepness(gauges_in_cell, lst_lines, lst_points, selected_n_contours)\\\n",
    "        .plot_closest_point_contours(0)\n",
    "# plt.savefig(\"Plots/FairIsle weather station - 10 closest.jpg\")"
   ]
  },
  {
   "cell_type": "code",
   "execution_count": 38,
   "id": "cb2749ed",
   "metadata": {},
   "outputs": [
    {
     "data": {
      "image/png": "[encoded data removed]",
      "text/plain": [
       "<Figure size 360x360 with 1 Axes>"
      ]
     },
     "metadata": {
      "needs_background": "light"
     },
     "output_type": "display_data"
    }
   ],
   "source": [
    "selected_n_contours= 10\n",
    "functions.slope_steepness(gauges_in_cell, lst_lines, lst_points, selected_n_contours)\\\n",
    "        .plot_station(0)\n",
    "# plt.savefig(\"Plots/FairIsle weather station - overview.jpg\")"
   ]
  }
 ],
 "metadata": {
  "kernelspec": {
   "display_name": "Python 3 (ipykernel)",
   "language": "python",
   "name": "python3"
  },
  "language_info": {
   "codemirror_mode": {
    "name": "ipython",
    "version": 3
   },
   "file_extension": ".py",
   "mimetype": "text/x-python",
   "name": "python",
   "nbconvert_exporter": "python",
   "pygments_lexer": "ipython3",
   "version": "3.10.2"
  }
 },
 "nbformat": 4,
 "nbformat_minor": 5
}
