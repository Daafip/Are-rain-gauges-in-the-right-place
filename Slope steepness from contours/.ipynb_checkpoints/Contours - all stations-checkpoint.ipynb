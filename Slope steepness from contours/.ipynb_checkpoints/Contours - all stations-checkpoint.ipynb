{
 "cells": [
  {
   "cell_type": "code",
   "execution_count": 1,
   "id": "371cbdaa",
   "metadata": {},
   "outputs": [],
   "source": [
    "import matplotlib.pyplot as plt\n",
    "import matplotlib as mpl\n",
    "import matplotlib.image\n",
    "import numpy as np\n",
    "import geopandas as gpd\n",
    "import pandas as pd\n",
    "import warnings\n",
    "import time\n",
    "%matplotlib inline\n",
    "mpl.rcParams['lines.linewidth'] = 1\n",
    "mpl.rcParams['lines.linestyle'] = '--'\n",
    "mpl.rcParams[\"figure.figsize\"] = [5,5]\n",
    "mpl.rcParams['lines.markersize'] = 5"
   ]
  },
  {
   "cell_type": "markdown",
   "id": "d5c027b7-30a1-4bfd-9e25-ec7bb9b1c3e4",
   "metadata": {},
   "source": [
    "Import custom functions from functions.py "
   ]
  },
  {
   "cell_type": "code",
   "execution_count": 2,
   "id": "f850727e-62ab-41e1-8544-a4094c2e5b78",
   "metadata": {},
   "outputs": [],
   "source": [
    "import functions"
   ]
  },
  {
   "cell_type": "markdown",
   "id": "db31e3bb-cffb-495b-8d8c-44cb2d1089ea",
   "metadata": {},
   "source": [
    "#### This notebook aims to streamline the exploritory work done in the 'Contour - Cumbria' notbook"
   ]
  },
  {
   "cell_type": "markdown",
   "id": "bd811858-0e5e-47f3-9f51-580ec8bd180f",
   "metadata": {},
   "source": [
    "Load in the gauges files<br>\n",
    "(these have been filtered to only contain 2020 data and exported in QGIS)<br>\n",
    "See \"distance stations\" notebook for more info on stations"
   ]
  },
  {
   "cell_type": "code",
   "execution_count": 3,
   "id": "cfdb3bdd",
   "metadata": {},
   "outputs": [],
   "source": [
    "daily_gauges = gpd.read_file(\"Contour Data/Daily-Gauges-UK.shp\",crs=4326)\n",
    "hourly_gauges = gpd.read_file(\"Contour Data/Hourly-Gauges-UK.shp\",crs=4326)"
   ]
  },
  {
   "cell_type": "markdown",
   "id": "d381f3ef",
   "metadata": {},
   "source": [
    "#### Merge all hourly and dialy gauges still recording for the MET office in 2020"
   ]
  },
  {
   "cell_type": "code",
   "execution_count": 4,
   "id": "13b03510",
   "metadata": {},
   "outputs": [
    {
     "name": "stderr",
     "output_type": "stream",
     "text": [
      "C:\\Users\\david\\AppData\\Local\\Temp\\ipykernel_7028\\4224330975.py:1: FutureWarning: The frame.append method is deprecated and will be removed from pandas in a future version. Use pandas.concat instead.\n",
      "  gauges = hourly_gauges.append(daily_gauges)\n"
     ]
    }
   ],
   "source": [
    "gauges = hourly_gauges.append(daily_gauges)"
   ]
  },
  {
   "cell_type": "markdown",
   "id": "306dc6cc-2b66-4391-b990-5e03c9dad139",
   "metadata": {},
   "source": [
    "We have 368 gauges that were reporting in 2020"
   ]
  },
  {
   "cell_type": "code",
   "execution_count": 5,
   "id": "9dc8590c",
   "metadata": {},
   "outputs": [
    {
     "data": {
      "text/plain": [
       "368"
      ]
     },
     "execution_count": 5,
     "metadata": {},
     "output_type": "execute_result"
    }
   ],
   "source": [
    "gauges.src_id.count()"
   ]
  },
  {
   "cell_type": "markdown",
   "id": "2bdba92a-64cf-4546-9a7b-4a602a672ddd",
   "metadata": {},
   "source": [
    "# Start by showing the process step by step for one grid"
   ]
  },
  {
   "cell_type": "markdown",
   "id": "c9056436-2ecb-48b9-9fe6-8657d40f98f4",
   "metadata": {},
   "source": [
    "load up list of 10x10km grids for a given grid of 100x100 km <br>\n",
    "(loading takes a minute or so)"
   ]
  },
  {
   "cell_type": "code",
   "execution_count": 6,
   "id": "60648bfa-36ad-4bda-8ea1-3c0675f7a83b",
   "metadata": {},
   "outputs": [],
   "source": [
    "grid_id = \"ny\"\n",
    "lst_points, lst_grid_point = functions.bulk_import_shapefiles(grid_id, 99,\"point\")\n",
    "lst_lines, empty_list = functions.bulk_import_shapefiles(grid_id, 99,\"line\")"
   ]
  },
  {
   "cell_type": "markdown",
   "id": "f89f3b77-858a-4555-bb93-65aaeae39ef1",
   "metadata": {},
   "source": [
    "Now we have the data, need to match a gauge a grid.\n",
    "- We want to make sure it creates a new column in the DF so we can use it later in the process as we need to look it up\n",
    "- supply it with a list"
   ]
  },
  {
   "cell_type": "code",
   "execution_count": 7,
   "id": "4a7d0b49-cc49-49b2-85ec-d3fb804e2dbf",
   "metadata": {},
   "outputs": [],
   "source": [
    "gauges[\"grid_id\"] = functions.select_closest_grid(gauges, lst_grid_point)"
   ]
  },
  {
   "cell_type": "code",
   "execution_count": 8,
   "id": "40eaf2af-b825-44e5-a10d-7387929af632",
   "metadata": {},
   "outputs": [
    {
     "data": {
      "text/html": [
       "<div>\n",
       "<style scoped>\n",
       "    .dataframe tbody tr th:only-of-type {\n",
       "        vertical-align: middle;\n",
       "    }\n",
       "\n",
       "    .dataframe tbody tr th {\n",
       "        vertical-align: top;\n",
       "    }\n",
       "\n",
       "    .dataframe thead th {\n",
       "        text-align: right;\n",
       "    }\n",
       "</style>\n",
       "<table border=\"1\" class=\"dataframe\">\n",
       "  <thead>\n",
       "    <tr style=\"text-align: right;\">\n",
       "      <th></th>\n",
       "      <th>src_id</th>\n",
       "      <th>station_na</th>\n",
       "      <th>station_fi</th>\n",
       "      <th>historic_c</th>\n",
       "      <th>station_la</th>\n",
       "      <th>station_lo</th>\n",
       "      <th>station_el</th>\n",
       "      <th>first_year</th>\n",
       "      <th>last_year</th>\n",
       "      <th>geometry</th>\n",
       "      <th>grid_id</th>\n",
       "    </tr>\n",
       "  </thead>\n",
       "  <tbody>\n",
       "    <tr>\n",
       "      <th>0</th>\n",
       "      <td>00003</td>\n",
       "      <td>FAIR ISLE</td>\n",
       "      <td>fair-isle</td>\n",
       "      <td>shetland</td>\n",
       "      <td>59.526</td>\n",
       "      <td>-1.63</td>\n",
       "      <td>57</td>\n",
       "      <td>1974</td>\n",
       "      <td>2020</td>\n",
       "      <td>POINT (-1.63000 59.52600)</td>\n",
       "      <td>99</td>\n",
       "    </tr>\n",
       "  </tbody>\n",
       "</table>\n",
       "</div>"
      ],
      "text/plain": [
       "  src_id station_na station_fi historic_c  station_la  station_lo  station_el  \\\n",
       "0  00003  FAIR ISLE  fair-isle   shetland      59.526       -1.63          57   \n",
       "\n",
       "   first_year  last_year                   geometry  grid_id  \n",
       "0        1974       2020  POINT (-1.63000 59.52600)       99  "
      ]
     },
     "execution_count": 8,
     "metadata": {},
     "output_type": "execute_result"
    }
   ],
   "source": [
    "gauges.head(1)"
   ]
  },
  {
   "cell_type": "code",
   "execution_count": 9,
   "id": "7e145e21-36b1-4127-88cb-1534e463d711",
   "metadata": {},
   "outputs": [
    {
     "ename": "AttributeError",
     "evalue": "'GeoDataFrame' object has no attribute 'df'",
     "output_type": "error",
     "traceback": [
      "\u001b[1;31m---------------------------------------------------------------------------\u001b[0m",
      "\u001b[1;31mAttributeError\u001b[0m                            Traceback (most recent call last)",
      "Input \u001b[1;32mIn [9]\u001b[0m, in \u001b[0;36m<cell line: 1>\u001b[1;34m()\u001b[0m\n\u001b[1;32m----> 1\u001b[0m gauges[\u001b[38;5;124m\"\u001b[39m\u001b[38;5;124mgrid_id_distance\u001b[39m\u001b[38;5;124m\"\u001b[39m] \u001b[38;5;241m=\u001b[39m \u001b[43mfunctions\u001b[49m\u001b[38;5;241;43m.\u001b[39;49m\u001b[43mselect_closest_dist\u001b[49m\u001b[43m(\u001b[49m\u001b[43mgauges\u001b[49m\u001b[43m,\u001b[49m\u001b[43m \u001b[49m\u001b[43mlst_grid_point\u001b[49m\u001b[43m)\u001b[49m\n",
      "File \u001b[1;32m~\\Documents\\@@ Python\\Jaar 4\\Q3\\Are-rain-gauges-in-the-right-place\\Slope steepness from contours\\functions.py:108\u001b[0m, in \u001b[0;36mselect_closest_dist\u001b[1;34m(df, lst_grid_point)\u001b[0m\n\u001b[0;32m    105\u001b[0m     \u001b[38;5;66;03m# same as before but returns the distance, not the index\u001b[39;00m\n\u001b[0;32m    106\u001b[0m     \u001b[38;5;28;01mreturn\u001b[39;00m closest\n\u001b[1;32m--> 108\u001b[0m \u001b[38;5;28;01mreturn\u001b[39;00m \u001b[43mdf\u001b[49m\u001b[38;5;241;43m.\u001b[39;49m\u001b[43mgeometry\u001b[49m\u001b[38;5;241;43m.\u001b[39;49m\u001b[43mapply\u001b[49m\u001b[43m(\u001b[49m\u001b[43mclosest_gauge_dist\u001b[49m\u001b[43m)\u001b[49m\n",
      "File \u001b[1;32m~\\anaconda3\\envs\\python-gis\\lib\\site-packages\\geopandas\\geoseries.py:624\u001b[0m, in \u001b[0;36mGeoSeries.apply\u001b[1;34m(self, func, convert_dtype, args, **kwargs)\u001b[0m\n\u001b[0;32m    622\u001b[0m \u001b[38;5;129m@doc\u001b[39m(pd\u001b[38;5;241m.\u001b[39mSeries)\n\u001b[0;32m    623\u001b[0m \u001b[38;5;28;01mdef\u001b[39;00m \u001b[38;5;21mapply\u001b[39m(\u001b[38;5;28mself\u001b[39m, func, convert_dtype\u001b[38;5;241m=\u001b[39m\u001b[38;5;28;01mTrue\u001b[39;00m, args\u001b[38;5;241m=\u001b[39m(), \u001b[38;5;241m*\u001b[39m\u001b[38;5;241m*\u001b[39mkwargs):\n\u001b[1;32m--> 624\u001b[0m     result \u001b[38;5;241m=\u001b[39m \u001b[38;5;28msuper\u001b[39m()\u001b[38;5;241m.\u001b[39mapply(func, convert_dtype\u001b[38;5;241m=\u001b[39mconvert_dtype, args\u001b[38;5;241m=\u001b[39margs, \u001b[38;5;241m*\u001b[39m\u001b[38;5;241m*\u001b[39mkwargs)\n\u001b[0;32m    625\u001b[0m     \u001b[38;5;28;01mif\u001b[39;00m \u001b[38;5;28misinstance\u001b[39m(result, GeoSeries):\n\u001b[0;32m    626\u001b[0m         \u001b[38;5;28;01mif\u001b[39;00m \u001b[38;5;28mself\u001b[39m\u001b[38;5;241m.\u001b[39mcrs \u001b[38;5;129;01mis\u001b[39;00m \u001b[38;5;129;01mnot\u001b[39;00m \u001b[38;5;28;01mNone\u001b[39;00m:\n",
      "File \u001b[1;32m~\\anaconda3\\envs\\python-gis\\lib\\site-packages\\pandas\\core\\series.py:4433\u001b[0m, in \u001b[0;36mSeries.apply\u001b[1;34m(self, func, convert_dtype, args, **kwargs)\u001b[0m\n\u001b[0;32m   4323\u001b[0m \u001b[38;5;28;01mdef\u001b[39;00m \u001b[38;5;21mapply\u001b[39m(\n\u001b[0;32m   4324\u001b[0m     \u001b[38;5;28mself\u001b[39m,\n\u001b[0;32m   4325\u001b[0m     func: AggFuncType,\n\u001b[1;32m   (...)\u001b[0m\n\u001b[0;32m   4328\u001b[0m     \u001b[38;5;241m*\u001b[39m\u001b[38;5;241m*\u001b[39mkwargs,\n\u001b[0;32m   4329\u001b[0m ) \u001b[38;5;241m-\u001b[39m\u001b[38;5;241m>\u001b[39m DataFrame \u001b[38;5;241m|\u001b[39m Series:\n\u001b[0;32m   4330\u001b[0m     \u001b[38;5;124;03m\"\"\"\u001b[39;00m\n\u001b[0;32m   4331\u001b[0m \u001b[38;5;124;03m    Invoke function on values of Series.\u001b[39;00m\n\u001b[0;32m   4332\u001b[0m \n\u001b[1;32m   (...)\u001b[0m\n\u001b[0;32m   4431\u001b[0m \u001b[38;5;124;03m    dtype: float64\u001b[39;00m\n\u001b[0;32m   4432\u001b[0m \u001b[38;5;124;03m    \"\"\"\u001b[39;00m\n\u001b[1;32m-> 4433\u001b[0m     \u001b[38;5;28;01mreturn\u001b[39;00m \u001b[43mSeriesApply\u001b[49m\u001b[43m(\u001b[49m\u001b[38;5;28;43mself\u001b[39;49m\u001b[43m,\u001b[49m\u001b[43m \u001b[49m\u001b[43mfunc\u001b[49m\u001b[43m,\u001b[49m\u001b[43m \u001b[49m\u001b[43mconvert_dtype\u001b[49m\u001b[43m,\u001b[49m\u001b[43m \u001b[49m\u001b[43margs\u001b[49m\u001b[43m,\u001b[49m\u001b[43m \u001b[49m\u001b[43mkwargs\u001b[49m\u001b[43m)\u001b[49m\u001b[38;5;241;43m.\u001b[39;49m\u001b[43mapply\u001b[49m\u001b[43m(\u001b[49m\u001b[43m)\u001b[49m\n",
      "File \u001b[1;32m~\\anaconda3\\envs\\python-gis\\lib\\site-packages\\pandas\\core\\apply.py:1082\u001b[0m, in \u001b[0;36mSeriesApply.apply\u001b[1;34m(self)\u001b[0m\n\u001b[0;32m   1078\u001b[0m \u001b[38;5;28;01mif\u001b[39;00m \u001b[38;5;28misinstance\u001b[39m(\u001b[38;5;28mself\u001b[39m\u001b[38;5;241m.\u001b[39mf, \u001b[38;5;28mstr\u001b[39m):\n\u001b[0;32m   1079\u001b[0m     \u001b[38;5;66;03m# if we are a string, try to dispatch\u001b[39;00m\n\u001b[0;32m   1080\u001b[0m     \u001b[38;5;28;01mreturn\u001b[39;00m \u001b[38;5;28mself\u001b[39m\u001b[38;5;241m.\u001b[39mapply_str()\n\u001b[1;32m-> 1082\u001b[0m \u001b[38;5;28;01mreturn\u001b[39;00m \u001b[38;5;28;43mself\u001b[39;49m\u001b[38;5;241;43m.\u001b[39;49m\u001b[43mapply_standard\u001b[49m\u001b[43m(\u001b[49m\u001b[43m)\u001b[49m\n",
      "File \u001b[1;32m~\\anaconda3\\envs\\python-gis\\lib\\site-packages\\pandas\\core\\apply.py:1137\u001b[0m, in \u001b[0;36mSeriesApply.apply_standard\u001b[1;34m(self)\u001b[0m\n\u001b[0;32m   1131\u001b[0m         values \u001b[38;5;241m=\u001b[39m obj\u001b[38;5;241m.\u001b[39mastype(\u001b[38;5;28mobject\u001b[39m)\u001b[38;5;241m.\u001b[39m_values\n\u001b[0;32m   1132\u001b[0m         \u001b[38;5;66;03m# error: Argument 2 to \"map_infer\" has incompatible type\u001b[39;00m\n\u001b[0;32m   1133\u001b[0m         \u001b[38;5;66;03m# \"Union[Callable[..., Any], str, List[Union[Callable[..., Any], str]],\u001b[39;00m\n\u001b[0;32m   1134\u001b[0m         \u001b[38;5;66;03m# Dict[Hashable, Union[Union[Callable[..., Any], str],\u001b[39;00m\n\u001b[0;32m   1135\u001b[0m         \u001b[38;5;66;03m# List[Union[Callable[..., Any], str]]]]]\"; expected\u001b[39;00m\n\u001b[0;32m   1136\u001b[0m         \u001b[38;5;66;03m# \"Callable[[Any], Any]\"\u001b[39;00m\n\u001b[1;32m-> 1137\u001b[0m         mapped \u001b[38;5;241m=\u001b[39m \u001b[43mlib\u001b[49m\u001b[38;5;241;43m.\u001b[39;49m\u001b[43mmap_infer\u001b[49m\u001b[43m(\u001b[49m\n\u001b[0;32m   1138\u001b[0m \u001b[43m            \u001b[49m\u001b[43mvalues\u001b[49m\u001b[43m,\u001b[49m\n\u001b[0;32m   1139\u001b[0m \u001b[43m            \u001b[49m\u001b[43mf\u001b[49m\u001b[43m,\u001b[49m\u001b[43m  \u001b[49m\u001b[38;5;66;43;03m# type: ignore[arg-type]\u001b[39;49;00m\n\u001b[0;32m   1140\u001b[0m \u001b[43m            \u001b[49m\u001b[43mconvert\u001b[49m\u001b[38;5;241;43m=\u001b[39;49m\u001b[38;5;28;43mself\u001b[39;49m\u001b[38;5;241;43m.\u001b[39;49m\u001b[43mconvert_dtype\u001b[49m\u001b[43m,\u001b[49m\n\u001b[0;32m   1141\u001b[0m \u001b[43m        \u001b[49m\u001b[43m)\u001b[49m\n\u001b[0;32m   1143\u001b[0m \u001b[38;5;28;01mif\u001b[39;00m \u001b[38;5;28mlen\u001b[39m(mapped) \u001b[38;5;129;01mand\u001b[39;00m \u001b[38;5;28misinstance\u001b[39m(mapped[\u001b[38;5;241m0\u001b[39m], ABCSeries):\n\u001b[0;32m   1144\u001b[0m     \u001b[38;5;66;03m# GH#43986 Need to do list(mapped) in order to get treated as nested\u001b[39;00m\n\u001b[0;32m   1145\u001b[0m     \u001b[38;5;66;03m#  See also GH#25959 regarding EA support\u001b[39;00m\n\u001b[0;32m   1146\u001b[0m     \u001b[38;5;28;01mreturn\u001b[39;00m obj\u001b[38;5;241m.\u001b[39m_constructor_expanddim(\u001b[38;5;28mlist\u001b[39m(mapped), index\u001b[38;5;241m=\u001b[39mobj\u001b[38;5;241m.\u001b[39mindex)\n",
      "File \u001b[1;32m~\\anaconda3\\envs\\python-gis\\lib\\site-packages\\pandas\\_libs\\lib.pyx:2870\u001b[0m, in \u001b[0;36mpandas._libs.lib.map_infer\u001b[1;34m()\u001b[0m\n",
      "File \u001b[1;32m~\\Documents\\@@ Python\\Jaar 4\\Q3\\Are-rain-gauges-in-the-right-place\\Slope steepness from contours\\functions.py:104\u001b[0m, in \u001b[0;36mselect_closest_dist.<locals>.closest_gauge_dist\u001b[1;34m(gauge)\u001b[0m\n\u001b[0;32m    102\u001b[0m     \u001b[38;5;28;01melse\u001b[39;00m:\n\u001b[0;32m    103\u001b[0m         lst_distances\u001b[38;5;241m.\u001b[39mappend(i\u001b[38;5;241m.\u001b[39mdistance(gauge))\n\u001b[1;32m--> 104\u001b[0m closest \u001b[38;5;241m=\u001b[39m \u001b[38;5;28mmin\u001b[39m(lst_distances)\u001b[38;5;241m*\u001b[39m\u001b[43mdistance_one_deg\u001b[49m\u001b[43m(\u001b[49m\u001b[43mdf\u001b[49m\u001b[43m,\u001b[49m\u001b[38;5;241;43m35\u001b[39;49m\u001b[43m)\u001b[49m \u001b[38;5;66;03m### here gauge #35 has a la of 55 so roughly average fot the UK \u001b[39;00m\n\u001b[0;32m    105\u001b[0m \u001b[38;5;66;03m# same as before but returns the distance, not the index\u001b[39;00m\n\u001b[0;32m    106\u001b[0m \u001b[38;5;28;01mreturn\u001b[39;00m closest\n",
      "File \u001b[1;32m~\\Documents\\@@ Python\\Jaar 4\\Q3\\Are-rain-gauges-in-the-right-place\\Slope steepness from contours\\functions.py:67\u001b[0m, in \u001b[0;36mdistance_one_deg\u001b[1;34m(self, n)\u001b[0m\n\u001b[0;32m     65\u001b[0m \u001b[38;5;28;01mdef\u001b[39;00m \u001b[38;5;21mdistance_one_deg\u001b[39m(\u001b[38;5;28mself\u001b[39m, n):\n\u001b[0;32m     66\u001b[0m     \u001b[38;5;124;03m\"\"\"need to find the distance in m one degree, verified here https://www.opendem.info/arc2meters.html\"\"\"\u001b[39;00m\n\u001b[1;32m---> 67\u001b[0m     one_arc_second \u001b[38;5;241m=\u001b[39m np\u001b[38;5;241m.\u001b[39mcos(\u001b[38;5;28;43mself\u001b[39;49m\u001b[38;5;241;43m.\u001b[39;49m\u001b[43mdf\u001b[49m\u001b[38;5;241m.\u001b[39mstation_la\u001b[38;5;241m.\u001b[39miloc[n] \u001b[38;5;241m*\u001b[39m np\u001b[38;5;241m.\u001b[39mpi \u001b[38;5;241m/\u001b[39m \u001b[38;5;241m180\u001b[39m) \u001b[38;5;241m*\u001b[39m (\u001b[38;5;241m1852\u001b[39m\u001b[38;5;241m/\u001b[39m\u001b[38;5;241m60\u001b[39m)\n\u001b[0;32m     68\u001b[0m     \u001b[38;5;28;01mreturn\u001b[39;00m one_arc_second \u001b[38;5;241m*\u001b[39m \u001b[38;5;241m3600\u001b[39m\n",
      "File \u001b[1;32m~\\anaconda3\\envs\\python-gis\\lib\\site-packages\\pandas\\core\\generic.py:5583\u001b[0m, in \u001b[0;36mNDFrame.__getattr__\u001b[1;34m(self, name)\u001b[0m\n\u001b[0;32m   5576\u001b[0m \u001b[38;5;28;01mif\u001b[39;00m (\n\u001b[0;32m   5577\u001b[0m     name \u001b[38;5;129;01mnot\u001b[39;00m \u001b[38;5;129;01min\u001b[39;00m \u001b[38;5;28mself\u001b[39m\u001b[38;5;241m.\u001b[39m_internal_names_set\n\u001b[0;32m   5578\u001b[0m     \u001b[38;5;129;01mand\u001b[39;00m name \u001b[38;5;129;01mnot\u001b[39;00m \u001b[38;5;129;01min\u001b[39;00m \u001b[38;5;28mself\u001b[39m\u001b[38;5;241m.\u001b[39m_metadata\n\u001b[0;32m   5579\u001b[0m     \u001b[38;5;129;01mand\u001b[39;00m name \u001b[38;5;129;01mnot\u001b[39;00m \u001b[38;5;129;01min\u001b[39;00m \u001b[38;5;28mself\u001b[39m\u001b[38;5;241m.\u001b[39m_accessors\n\u001b[0;32m   5580\u001b[0m     \u001b[38;5;129;01mand\u001b[39;00m \u001b[38;5;28mself\u001b[39m\u001b[38;5;241m.\u001b[39m_info_axis\u001b[38;5;241m.\u001b[39m_can_hold_identifiers_and_holds_name(name)\n\u001b[0;32m   5581\u001b[0m ):\n\u001b[0;32m   5582\u001b[0m     \u001b[38;5;28;01mreturn\u001b[39;00m \u001b[38;5;28mself\u001b[39m[name]\n\u001b[1;32m-> 5583\u001b[0m \u001b[38;5;28;01mreturn\u001b[39;00m \u001b[38;5;28;43mobject\u001b[39;49m\u001b[38;5;241;43m.\u001b[39;49m\u001b[38;5;21;43m__getattribute__\u001b[39;49m\u001b[43m(\u001b[49m\u001b[38;5;28;43mself\u001b[39;49m\u001b[43m,\u001b[49m\u001b[43m \u001b[49m\u001b[43mname\u001b[49m\u001b[43m)\u001b[49m\n",
      "\u001b[1;31mAttributeError\u001b[0m: 'GeoDataFrame' object has no attribute 'df'"
     ]
    }
   ],
   "source": [
    "gauges[\"grid_id_distance\"] = functions.select_closest_dist(gauges, lst_grid_point)"
   ]
  },
  {
   "cell_type": "code",
   "execution_count": null,
   "id": "c2c56825-463c-41dc-8d6d-6127b72522cf",
   "metadata": {},
   "outputs": [],
   "source": [
    "gauges.head(1)"
   ]
  },
  {
   "cell_type": "markdown",
   "id": "3dae6247-e0fc-43da-9fc3-a9de14431d5c",
   "metadata": {},
   "source": [
    "We only want gauges that are less than 5km away from the center of a grid:"
   ]
  },
  {
   "cell_type": "code",
   "execution_count": null,
   "id": "14056fc6-1771-4969-adb4-3ff0879b3a65",
   "metadata": {},
   "outputs": [],
   "source": [
    "gauges_in_cell = gauges.query(\"grid_id_distance < 5000\")"
   ]
  },
  {
   "cell_type": "code",
   "execution_count": null,
   "id": "31bd369a-71c5-49d6-807d-127f2ac143c2",
   "metadata": {},
   "outputs": [],
   "source": [
    "gauges_in_cell.head(1)"
   ]
  },
  {
   "cell_type": "markdown",
   "id": "4365e92d-72ed-4fe6-aba3-ae1ae53e14fa",
   "metadata": {},
   "source": [
    "This is a little bit 'janky' as we might say, the priciple is that all the functions were written to take an index and then look that index up, and then apply it to that data.<br>\n",
    "In hind sight might be better to supply a function with a row of a dataframe and then apply functions.<br>\n",
    "For now i've left it and built a class: functions.slope_steepness which takes 'df, lst_lines, lst_points, selected_n' on initialisation.<br>\n",
    "This then takes care of everyhting for you given you suply a df of gauges with id, a list of contours, a list of points and the number of contours to select"
   ]
  },
  {
   "cell_type": "code",
   "execution_count": null,
   "id": "a994ee60-85a3-44c4-9793-bc9a1a45115c",
   "metadata": {},
   "outputs": [],
   "source": [
    "gauges_in_cell.reset_index(inplace=True)\n",
    "gauges_in_cell.reset_index(inplace=True)\n",
    "gauges_in_cell.head(3)"
   ]
  },
  {
   "cell_type": "markdown",
   "id": "911d8ec9-a508-462d-a4a8-7353e5fbffb1",
   "metadata": {},
   "source": [
    "Using the magic of functions (see functions.py) we can find the slope steepness"
   ]
  },
  {
   "cell_type": "code",
   "execution_count": null,
   "id": "e5f8953b-6d84-4480-a6b1-5a168ee402e2",
   "metadata": {},
   "outputs": [],
   "source": [
    "selected_n_contours = 10\n",
    "gauges_in_cell[\"Slope_sorted\"] = functions.slope_steepness(gauges_in_cell, lst_lines, lst_points, selected_n_contours)\\\n",
    "                                            .by_distance_to_gauge()"
   ]
  },
  {
   "cell_type": "code",
   "execution_count": null,
   "id": "b99b889d-19a9-4093-bf4f-0990b512bcb6",
   "metadata": {},
   "outputs": [],
   "source": [
    "gauges_in_cell.head(1)"
   ]
  },
  {
   "cell_type": "code",
   "execution_count": null,
   "id": "ffebef0c-13f8-4dcb-b5b4-012299e58fb1",
   "metadata": {},
   "outputs": [],
   "source": [
    "selected_n_contours = 10 # by default\n",
    "gauges_in_cell[\"Slope_resorted\"] = functions.slope_steepness(gauges_in_cell, lst_lines, lst_points, selected_n_contours)\\\n",
    "                                            .by_closest_inter_distance()"
   ]
  },
  {
   "cell_type": "code",
   "execution_count": null,
   "id": "25dd6570-5a37-4a1b-95a0-225cc64a5964",
   "metadata": {},
   "outputs": [],
   "source": [
    "gauges_in_cell.head(1)"
   ]
  },
  {
   "cell_type": "code",
   "execution_count": null,
   "id": "9a91bb7a-9314-4bc0-8dd7-d212784feb89",
   "metadata": {},
   "outputs": [],
   "source": [
    "gauges_in_cell.to_csv(f\"Output/{grid_id}.csv\",\n",
    "                            columns=[\"src_id\",\"Slope_sorted\",\"Slope_resorted\"]) #,\"Slope_sorted2\",\"Slope_resorted2\"])"
   ]
  },
  {
   "cell_type": "markdown",
   "id": "667e2215-79c0-4adf-ae4f-6302babe51e8",
   "metadata": {},
   "source": [
    "# That was one grid, now lets repeat for all grids:\n",
    "The UK consists of 55 grids:"
   ]
  },
  {
   "cell_type": "code",
   "execution_count": null,
   "id": "21265e50-4b9e-49a7-b8ae-3bff12d1c5cb",
   "metadata": {},
   "outputs": [],
   "source": [
    "plt.imshow(matplotlib.image.imread(\"Plots/OS-Terrain50-Userguide.png\"))\n",
    "plt.axis(\"off\");"
   ]
  },
  {
   "cell_type": "markdown",
   "id": "6aa5b9fe-4e4a-4468-9ca9-075163a127a9",
   "metadata": {},
   "source": [
    "Load all these names in. <br>\n",
    "In the command promt \"dir /b > filenames.txt\" generates a list of all the filenames in that directory<br>\n",
    "[more info on commandpromt](https://www.thewindowsclub.com/how-to-open-command-prompt-from-right-click-menu#:~:text=To%20open%20a%20command%20prompt%20window%20in%20any%20folder%2C%20simply,the%20same%20inside%20any%20folder)<br>\n"
   ]
  },
  {
   "cell_type": "code",
   "execution_count": null,
   "id": "68288e5d-8d9a-44f1-ad0a-14d60ea2a75f",
   "metadata": {},
   "outputs": [],
   "source": [
    "gridnames = []\n",
    "with open(\"Final Data Output/gridnames.csv\") as fin:\n",
    "    for line in fin:\n",
    "        gridnames.append(line.strip())"
   ]
  },
  {
   "cell_type": "code",
   "execution_count": null,
   "id": "ac56ce35-7cdd-4376-9c2a-771500d1c5fc",
   "metadata": {},
   "outputs": [],
   "source": [
    "# gridnames"
   ]
  },
  {
   "cell_type": "code",
   "execution_count": null,
   "id": "88ea5053",
   "metadata": {},
   "outputs": [],
   "source": [
    "start = time.time()\n",
    "run = False\n",
    "if run:\n",
    "    for i, grid_id in enumerate(gridnames):\n",
    "        print(i,end=\"\\r\")\n",
    "        \n",
    "        lst_points, lst_grid_point = functions.bulk_import_shapefiles(grid_id, 99,\"point\")\n",
    "        lst_lines, empty_list = functions.bulk_import_shapefiles(grid_id, 99,\"line\")\n",
    "        \n",
    "        gauges[\"grid_id\"] = functions.select_closest_grid(gauges, lst_grid_point)\n",
    "        gauges[\"grid_id_distance\"] = functions.select_closest_dist(gauges, lst_grid_point)\n",
    "        \n",
    "        gauges_in_cell = gauges.query(\"grid_id_distance < 5000\")\n",
    "        \n",
    "        gauges_in_cell.reset_index(inplace=True)\n",
    "        gauges_in_cell.reset_index(inplace=True)\n",
    "        \n",
    "        selected_n_contours = 10 # by default\n",
    "        \n",
    "        gauges_in_cell[\"Slope_sorted\"] = functions.slope_steepness(gauges_in_cell, lst_lines, lst_points, selected_n_contours)\\\n",
    "                                            .by_distance_to_gauge()\n",
    "        gauges_in_cell[\"Slope_resorted\"] = functions.slope_steepness(gauges_in_cell, lst_lines, lst_points, selected_n_contours)\\\n",
    "                                            .by_closest_inter_distance()\n",
    "        \n",
    "        gauges_in_cell.to_csv(f\"Output/{grid_id}.csv\",\n",
    "                              columns=[\"src_id\",\"Slope_sorted\",\"Slope_resorted\"]) #,\"Slope_sorted2\",\"Slope_resorted2\"])\n",
    "\n",
    "    end = time.time()\n",
    "    print(f'{(end - start)/60:.3f} min')"
   ]
  },
  {
   "cell_type": "markdown",
   "id": "606af11b-ef5c-4497-b325-85e47c1c9dd2",
   "metadata": {},
   "source": [
    "last run:  16.171 min "
   ]
  },
  {
   "cell_type": "markdown",
   "id": "83b8fd81-f1f2-47fa-9817-f5d9404f7654",
   "metadata": {},
   "source": [
    "# Loading in run data:\n",
    "in hindsight might have been better to store all in one file but this works too"
   ]
  },
  {
   "cell_type": "code",
   "execution_count": null,
   "id": "87677981",
   "metadata": {},
   "outputs": [],
   "source": [
    "i = \"hx\"\n",
    "\n",
    "# col = [1,2,3,4,5]\n",
    "col = [1,2,3]\n",
    "base = pd.read_csv(\"Output/\" + i + \".csv\",index_col=0,usecols=col)\n",
    "for i in gridnames:\n",
    "    base = base.append(pd.read_csv(\"Output/\" + i + \".csv\",usecols=col))\n",
    "    warnings.simplefilter(\"ignore\")\n",
    "    \n",
    "gauges.src_id = gauges.src_id.astype(int)\n",
    "base.src_id = base.src_id.astype(int)\n",
    "# for i in [\"Slope_resorted\",\"Slope_sorted2\",\"Slope_resorted2\",\"Slope_sorted\"]: \n",
    "#     base[i] = base[i].astype(float)"
   ]
  },
  {
   "cell_type": "markdown",
   "id": "050d0a86-52b6-4ee8-86c1-94338239b980",
   "metadata": {},
   "source": [
    "Need df to add the other to"
   ]
  },
  {
   "cell_type": "code",
   "execution_count": null,
   "id": "d6ac7945",
   "metadata": {},
   "outputs": [],
   "source": [
    "base = base.sort_values(\"src_id\")\n",
    "base.head(1)"
   ]
  },
  {
   "cell_type": "markdown",
   "id": "0e5d9bf1-3b83-43f4-8a79-8287c047e374",
   "metadata": {},
   "source": [
    "merging the two together"
   ]
  },
  {
   "cell_type": "code",
   "execution_count": null,
   "id": "0e4f4023",
   "metadata": {},
   "outputs": [],
   "source": [
    "combined = pd.merge(gauges, base,on=\"src_id\")\n",
    "# combined.to_csv(\"Final Data Output/206 stations with slope Data.csv\")\n",
    "combined.head(1)"
   ]
  },
  {
   "cell_type": "code",
   "execution_count": null,
   "id": "4232f28e",
   "metadata": {},
   "outputs": [],
   "source": [
    "combined.Slope_sorted.max(),combined.Slope_sorted.min(), combined.Slope_sorted.mean(),"
   ]
  },
  {
   "cell_type": "markdown",
   "id": "2cf21176-a72f-42a6-a6ce-9ec37b84bcc9",
   "metadata": {},
   "source": [
    "Comparing sorted and resorted plots"
   ]
  },
  {
   "cell_type": "code",
   "execution_count": null,
   "id": "c5a68311",
   "metadata": {},
   "outputs": [],
   "source": [
    "combined.Slope_sorted.plot.hist(bins=100)\n",
    "combined.Slope_resorted.plot.hist(bins=100);"
   ]
  },
  {
   "cell_type": "code",
   "execution_count": null,
   "id": "3764234a",
   "metadata": {},
   "outputs": [],
   "source": [
    "pd.DataFrame(combined, columns=[\"Slope_sorted\",\"Slope_resorted\"]).astype(float).plot.box()\n",
    "plt.title(\"Boxplot of slope steepness\")\n",
    "plt.ylabel(\"Steepness (%)\")\n",
    "# plt.savefig(\"Plots/Slopesteepness Boxplot sorted vs resorted.jpg\",pad_inches=0)"
   ]
  },
  {
   "cell_type": "code",
   "execution_count": null,
   "id": "459b6090",
   "metadata": {},
   "outputs": [],
   "source": [
    "combined.Slope_resorted.plot.box()\n",
    "# plt.savefig(\"Plots/Slopesteepness Boxplot resorted.jpg\",pad_inches=0)"
   ]
  },
  {
   "cell_type": "markdown",
   "id": "22245777",
   "metadata": {},
   "source": [
    "#### Saving queries for reprocessing"
   ]
  },
  {
   "cell_type": "code",
   "execution_count": null,
   "id": "11094dc3",
   "metadata": {},
   "outputs": [],
   "source": [
    "combined.query(\"Slope_resorted < 18.125\").to_csv(\"Final Data Output/Removed outliers.csv\")"
   ]
  },
  {
   "cell_type": "code",
   "execution_count": null,
   "id": "e7212d18",
   "metadata": {},
   "outputs": [],
   "source": [
    "combined.query(\"Slope_resorted < 18.125\").head(1)"
   ]
  },
  {
   "cell_type": "code",
   "execution_count": null,
   "id": "d0ba3de1",
   "metadata": {},
   "outputs": [],
   "source": [
    "combined.query(\"Slope_resorted > 18.125\").to_csv(\"Final Data Output//outliers.csv\")"
   ]
  },
  {
   "cell_type": "code",
   "execution_count": null,
   "id": "7f5b856e",
   "metadata": {},
   "outputs": [],
   "source": [
    "combined.query(\"Slope_resorted > 18.125\").head(1)"
   ]
  },
  {
   "cell_type": "markdown",
   "id": "de600b33",
   "metadata": {},
   "source": [
    "# Looking at outliers"
   ]
  },
  {
   "cell_type": "code",
   "execution_count": null,
   "id": "59c2211d",
   "metadata": {},
   "outputs": [],
   "source": [
    "IQR = combined.Slope_resorted.quantile(q=0.75) - combined.Slope_resorted.quantile(q=0.25)\n",
    "Outlier_threshold = combined.Slope_resorted.quantile(q=0.75) + 1.5 * IQR\n",
    "print(Outlier_threshold)\n",
    "outliers_resorted = combined.query(f\"Slope_resorted > {Outlier_threshold}\")\n",
    "print(outliers_resorted.src_id .count())\n",
    "# outliers_resorted.plot.scatter(outliers_resorted.station_el,outliers_resorted.Slope_resorted)"
   ]
  },
  {
   "cell_type": "code",
   "execution_count": null,
   "id": "877a32a5",
   "metadata": {},
   "outputs": [],
   "source": [
    "outliers_resorted.Slope_resorted.hist()"
   ]
  },
  {
   "cell_type": "code",
   "execution_count": null,
   "id": "9d259200",
   "metadata": {},
   "outputs": [],
   "source": [
    "### recalculating for the fair isles (midterm figure)\n",
    "grid_id = \"hz\"\n",
    "run = True\n",
    "if run:\n",
    "    lst_points, lst_grid_point = functions.bulk_import_shapefiles(grid_id, 99,\"point\")\n",
    "    lst_lines, empty_list = functions.bulk_import_shapefiles(grid_id, 99,\"line\")\n",
    "\n",
    "    gauges[\"grid_id\"] = functions.select_closest_grid(gauges, lst_grid_point)\n",
    "    gauges[\"grid_id_distance\"] = functions.select_closest_dist(gauges, lst_grid_point)\n",
    "\n",
    "    gauges_in_cell = gauges.query(\"grid_id_distance < 5000\")\n",
    "    gauges_in_cell.reset_index(inplace=True)\n",
    "    gauges_in_cell.reset_index(inplace=True)\n",
    "\n",
    "    selected_n_contours = 10 # by default\n",
    "    gauges_in_cell[\"Slope_resorted\"] = functions.slope_steepness(gauges_in_cell, lst_lines, lst_points, selected_n_contours)\\\n",
    "                                        .by_closest_inter_distance()\n"
   ]
  },
  {
   "cell_type": "code",
   "execution_count": null,
   "id": "341d8e43",
   "metadata": {},
   "outputs": [],
   "source": [
    "selected_n_contours= 10\n",
    "functions.slope_steepness(gauges_in_cell, lst_lines, lst_points, selected_n_contours)\\\n",
    "        .plot_closest_point_contours(0)\n",
    "# plt.savefig(\"Plots/FairIsle weather station - 10 closest.jpg\")"
   ]
  },
  {
   "cell_type": "code",
   "execution_count": null,
   "id": "cb2749ed",
   "metadata": {},
   "outputs": [],
   "source": [
    "selected_n_contours= 10\n",
    "functions.slope_steepness(gauges_in_cell, lst_lines, lst_points, selected_n_contours)\\\n",
    "        .plot_station(0)\n",
    "# plt.savefig(\"Plots/FairIsle weather station - overview.jpg\")"
   ]
  }
 ],
 "metadata": {
  "kernelspec": {
   "display_name": "Python 3 (ipykernel)",
   "language": "python",
   "name": "python3"
  },
  "language_info": {
   "codemirror_mode": {
    "name": "ipython",
    "version": 3
   },
   "file_extension": ".py",
   "mimetype": "text/x-python",
   "name": "python",
   "nbconvert_exporter": "python",
   "pygments_lexer": "ipython3",
   "version": "3.10.2"
  }
 },
 "nbformat": 4,
 "nbformat_minor": 5
}
