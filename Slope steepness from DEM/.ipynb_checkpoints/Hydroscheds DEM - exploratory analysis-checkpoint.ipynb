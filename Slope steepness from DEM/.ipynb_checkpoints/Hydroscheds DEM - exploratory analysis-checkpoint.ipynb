{
 "cells": [
  {
   "cell_type": "code",
   "execution_count": 1,
   "id": "a7311ed3",
   "metadata": {},
   "outputs": [],
   "source": [
    "import matplotlib.pyplot as plt\n",
    "import rasterio\n",
    "import rasterio.plot\n",
    "import rasterio.merge\n",
    "import rasterio.mask\n",
    "import geopandas as gpd\n",
    "import cartopy.crs as ccrs\n",
    "import numpy as np\n",
    "import warnings"
   ]
  },
  {
   "cell_type": "markdown",
   "id": "255997df",
   "metadata": {},
   "source": [
    "### Start by loading in all the gauge data"
   ]
  },
  {
   "cell_type": "code",
   "execution_count": 2,
   "id": "46bbcdf5",
   "metadata": {},
   "outputs": [],
   "source": [
    "daily_gauges = gpd.read_file(\"Gauge Data/Daily-Gauges-UK.shp\",crs=4326)\n",
    "hourly_gauges = gpd.read_file(\"Gauge Data/Hourly-Gauges-UK.shp\",crs=4326)"
   ]
  },
  {
   "cell_type": "markdown",
   "id": "b7c4ef06",
   "metadata": {},
   "source": [
    "#### Combine the two geo-dataframes (df)"
   ]
  },
  {
   "cell_type": "code",
   "execution_count": 3,
   "id": "0d84ef51",
   "metadata": {},
   "outputs": [
    {
     "name": "stderr",
     "output_type": "stream",
     "text": [
      "C:\\Users\\david\\AppData\\Local\\Temp\\ipykernel_12772\\1150590148.py:1: FutureWarning: The frame.append method is deprecated and will be removed from pandas in a future version. Use pandas.concat instead.\n",
      "  gauges = hourly_gauges.append(daily_gauges)\n"
     ]
    }
   ],
   "source": [
    "gauges = hourly_gauges.append(daily_gauges)\n",
    "gauges_start = set(gauges.src_id.to_list())"
   ]
  },
  {
   "cell_type": "markdown",
   "id": "be6d8c5c",
   "metadata": {},
   "source": [
    "#### some experimenting with rasterio loading\n",
    "note do use \"with rasterio.open.. as src.. to help with file management r/w\""
   ]
  },
  {
   "cell_type": "code",
   "execution_count": 4,
   "id": "766b801d",
   "metadata": {},
   "outputs": [
    {
     "data": {
      "text/plain": [
       "BoundingBox(left=40.0, bottom=10.000000000000199, right=44.9999999999998, top=15.0)"
      ]
     },
     "execution_count": 4,
     "metadata": {},
     "output_type": "execute_result"
    }
   ],
   "source": [
    "data = rasterio.open(\"DEM Data/n10e040_dem/n10e040_dem.bil\")\n",
    "filepath = \"DEM Data/n10e040_dem/n10e040_dem.bil\"\n",
    "data.crs\n",
    "dir(data)\n",
    "data.bounds"
   ]
  },
  {
   "cell_type": "markdown",
   "id": "9a2109e6",
   "metadata": {},
   "source": [
    "#### one way is to read the file into a numpy array which you can then plot with imshow. \n",
    "this means that the file isn't opened when not necessary"
   ]
  },
  {
   "cell_type": "code",
   "execution_count": 5,
   "id": "7b54d698",
   "metadata": {},
   "outputs": [
    {
     "ename": "SyntaxError",
     "evalue": "invalid syntax (602334725.py, line 5)",
     "output_type": "error",
     "traceback": [
      "\u001b[1;36m  Input \u001b[1;32mIn [5]\u001b[1;36m\u001b[0m\n\u001b[1;33m    plt.imshow(subset)op\u001b[0m\n\u001b[1;37m                      ^\u001b[0m\n\u001b[1;31mSyntaxError\u001b[0m\u001b[1;31m:\u001b[0m invalid syntax\n"
     ]
    }
   ],
   "source": [
    "with rasterio.open(filepath) as src:\n",
    "    subset = src.read(1)\n",
    "\n",
    "plt.figure(figsize=(6,8.5))\n",
    "plt.imshow(subset)op\n",
    "plt.colorbar(shrink=0.5,label=\"Height(m)\")\n",
    "plt.title(f'Height data of north africa')\n",
    "plt.xlabel('Column #')\n",
    "plt.ylabel('Row #')"
   ]
  },
  {
   "cell_type": "markdown",
   "id": "138e6f1b",
   "metadata": {},
   "source": [
    "#### more experimenting with the array method"
   ]
  },
  {
   "cell_type": "code",
   "execution_count": null,
   "id": "c4ab49f5",
   "metadata": {},
   "outputs": [],
   "source": [
    "filepath = f\"DEM data/n55w005_dem/n55w005_dem/w001001.adf\"\n",
    "\n",
    "with rasterio.open(filepath) as src:\n",
    "    subset = src.read(1)\n",
    "\n",
    "print(subset)\n",
    "\n",
    "plt.figure(figsize=(6,8.5))\n",
    "plt.imshow(subset)\n",
    "plt.colorbar(shrink=0.5,label=\"Height(m)\")\n",
    "plt.title(f'Height data of north of UK')\n",
    "plt.xlabel('Column #')\n",
    "plt.ylabel('Row #')"
   ]
  },
  {
   "cell_type": "markdown",
   "id": "fca1c7f6",
   "metadata": {},
   "source": [
    "#### rasterio.plot also has a fancy feature which whites out the cut our parts"
   ]
  },
  {
   "cell_type": "code",
   "execution_count": null,
   "id": "ed810e61",
   "metadata": {},
   "outputs": [],
   "source": [
    "name = \"n55w005_dem\"\n",
    "filepath = f\"DEM data/{name}/{name}/w001001.adf\"\n",
    "imported_data = rasterio.open(filepath)\n",
    "rasterio.plot.show(imported_data, transform=imported_data.transform, title=f\"{filepath}\",cmap=\"terrain\")\n",
    "\n",
    "\n",
    "with rasterio.open(filepath) as src:\n",
    "    subset = src.read(1)\n",
    "plt.imshow(subset)    \n",
    "# plt.imsave(f\"Figures/UK-{name}.jpg\",subset)d"
   ]
  },
  {
   "cell_type": "markdown",
   "id": "df8ef9e6",
   "metadata": {},
   "source": [
    "#### using the command \"dir /b > filenames.txt\" in cmd to generate a list of all the filenames, \n",
    "reading those into python and looping over it"
   ]
  },
  {
   "cell_type": "code",
   "execution_count": null,
   "id": "54f2b9cf",
   "metadata": {},
   "outputs": [],
   "source": [
    "filenames = []\n",
    "with open(\"DEM data/filenames.txt\") as fin:\n",
    "    for line in fin:\n",
    "        filenames.append(line.strip())\n",
    "# filenames"
   ]
  },
  {
   "cell_type": "markdown",
   "id": "7982f120",
   "metadata": {},
   "source": [
    "#### selecting just the parts we want\n",
    "Note: whole data set was deleted as unnecessary, full void-filled data set can be downloaded from [hydrosheds website](https://hydrosheds.org/downloads)"
   ]
  },
  {
   "cell_type": "code",
   "execution_count": null,
   "id": "d461e612",
   "metadata": {},
   "outputs": [],
   "source": [
    "UK = filenames[68:69] + filenames[80:83] + filenames[95:97]\n",
    "print(UK)"
   ]
  },
  {
   "cell_type": "markdown",
   "id": "12f88d1b",
   "metadata": {},
   "source": [
    "#### loads in all the data we have, takes long, dont do it. "
   ]
  },
  {
   "cell_type": "code",
   "execution_count": null,
   "id": "cb295bd1",
   "metadata": {},
   "outputs": [],
   "source": [
    "run = True\n",
    "plot = False\n",
    "if run:\n",
    "    data = []\n",
    "    for filepath in UK:\n",
    "        data.append(rasterio.open(f\"DEM data/{filepath}/{filepath}/w001001.adf\"))\n",
    "        \n",
    "    for item in data:\n",
    "        print(item)\n",
    "    if plot:\n",
    "        rasterio.plot.show(data, transform=data.transform, title=f\"{filepath}\")"
   ]
  },
  {
   "cell_type": "markdown",
   "id": "b300a810",
   "metadata": {},
   "source": [
    "#### Function to match gauge to a grid index"
   ]
  },
  {
   "cell_type": "code",
   "execution_count": null,
   "id": "b12e3bb6",
   "metadata": {},
   "outputs": [],
   "source": [
    "def find_raster(geometry):\n",
    "    \"\"\"\n",
    "    Helper function to take the geometry of a gauge point and converting it to an index\n",
    "    \"\"\"\n",
    "    # NaN and None were being difficult so a high number will sufice\n",
    "    output = 99\n",
    "    # Loop over each bounds\n",
    "    for index, bbox in enumerate(UK_data_bounds):\n",
    "        # reset local variables\n",
    "        x, y = False, False\n",
    "        # check x\n",
    "        if bbox[0] < geometry.x and geometry.x < bbox[2]:\n",
    "            x = True\n",
    "        # check y\n",
    "        if bbox[1] < geometry.y and geometry.y < bbox[3]:\n",
    "            y = True\n",
    "        # assign if both suffice \n",
    "        if x and y:\n",
    "            output = index\n",
    "    return output"
   ]
  },
  {
   "cell_type": "markdown",
   "id": "68511f71",
   "metadata": {},
   "source": [
    "#### Do this for the whole of the UK"
   ]
  },
  {
   "cell_type": "code",
   "execution_count": null,
   "id": "af6cd352",
   "metadata": {},
   "outputs": [],
   "source": [
    "run = True\n",
    "plot = False\n",
    "if run:\n",
    "    UK_data = []\n",
    "    UK_data_bounds = []\n",
    "    for filepath in UK:\n",
    "        data = rasterio.open(f\"DEM data/{filepath}/{filepath}/w001001.adf\")\n",
    "        UK_data.append(data)\n",
    "        UK_data_bounds.append(data.bounds)\n",
    "        if plot:\n",
    "            rasterio.plot.show(data, transform=data.transform, title=f\"{filepath}\")\n",
    "      \n",
    "    UK_total = rasterio.merge.merge(UK_data)\n",
    "    if plot: \n",
    "        fig, ax = plt.subplots(1,figsize=(10,10))\n",
    "        plot = rasterio.plot.show(UK_total[0].clip(-200), transform=imported_data.transform,cmap=\"terrain\",ax=ax)\n",
    "        ax.set_title(\"Map showing combined DEM for the UK\")\n",
    "        ax.set_xlabel(\"Latitude\")\n",
    "        ax.set_ylabel(\"Longditude\")\n",
    "        fig.colorbar(plot.get_images()[0], ax=ax, shrink=0.5, label=\"Height(m)\")\n",
    "#         ax.figure.savefig(\"Figures/whole of UK.jpg\")\n",
    "    \n",
    "    # apply the function above\n",
    "    gauges[\"raster_id\"] = gauges.geometry.apply(find_raster)\n",
    "    # Taking data we want\n",
    "    not_selected_gauges = gauges.query(\"raster_id == 99\")\n",
    "    selected_gauges = gauges.query(\"raster_id != 99\")\n",
    "\n",
    "    #  visual representation\n",
    "    if plot:\n",
    "        ax = not_selected_gauges.plot(label=\"Not selected\")\n",
    "        selected_gauges.plot(ax=ax, label='Selected')\n",
    "        plt.legend(bbox_to_anchor=(1, -0.05))\n",
    "\n",
    "    # making a copy, then buffering and exporting it\n",
    "    gauges_circle = selected_gauges.copy()\n",
    "    \n",
    "    # fixing this error broke my code\n",
    "#     gauges_circle.to_crs(epsg=27700,inplace=True)\n",
    "\n",
    "    # Changing buffersize will change the circle size and then save it to not run this forever\n",
    "    gauges_circle[\"geometry\"] = gauges_circle[\"geometry\"].buffer(0.025)\n",
    "    gauges_circle.to_file(\"circels with raster_id\")"
   ]
  },
  {
   "cell_type": "markdown",
   "id": "dcefab87",
   "metadata": {},
   "source": [
    "### Loading previously saved files"
   ]
  },
  {
   "cell_type": "code",
   "execution_count": null,
   "id": "a56f4078",
   "metadata": {},
   "outputs": [],
   "source": [
    "gauges_circle = gpd.read_file(\"circels with raster_id/circels with raster_id.shp\",crs=4326)\n",
    "gauges_circle.to_crs(crs=4326,inplace=True)\n",
    "\n",
    "### comparing to see where we loose stations\n",
    "gauges_found = set(gauges_circle.src_id.to_list())\n",
    "print(\"rejects:\",len(gauges_found))\n",
    "ids_reject = list(gauges_start.difference(gauges_found))\n",
    "for i in ids_reject:\n",
    "    display(gauges.query(f\" src_id == '{i}'\"))"
   ]
  },
  {
   "cell_type": "markdown",
   "id": "d119eb3f",
   "metadata": {},
   "source": [
    "Helper code to get plots"
   ]
  },
  {
   "cell_type": "code",
   "execution_count": null,
   "id": "ac95b81a",
   "metadata": {},
   "outputs": [],
   "source": [
    "def get_plot(raster_id_n):\n",
    "    filepath = UK[raster_id_n]\n",
    "    with rasterio.open(f\"DEM data/{filepath}/{filepath}/w001001.adf\") as src:\n",
    "         out = src.read(1)\n",
    "    return out.clip(-400)"
   ]
  },
  {
   "cell_type": "markdown",
   "id": "55342d74",
   "metadata": {},
   "source": [
    "Exmaple of plotting an area"
   ]
  },
  {
   "cell_type": "code",
   "execution_count": null,
   "id": "e5da8166",
   "metadata": {},
   "outputs": [],
   "source": [
    "n = 0\n",
    "raster_id_n = gauges_circle.raster_id.iloc[n] \n",
    "fig, ax = plt.subplots(1, figsize=(9, 7))\n",
    "filepath = UK[raster_id_n]\n",
    "with rasterio.open(f\"DEM data/{filepath}/{filepath}/w001001.adf\") as src:\n",
    "    plot = rasterio.plot.show(src,ax=ax,cmap=\"terrain\")\n",
    "    \n",
    "\n",
    "fig.colorbar(plot.get_images()[0], ax=ax, shrink=0.75, label=\"Height(m)\")\n",
    "df = gauges_circle.query(f\"index == {n}\")\n",
    "plt.plot(df.station_lo.iloc[0],df.station_la.iloc[0],\"ro\",markersize=5,label=\"Rain gauge\")\n",
    "plt.title(f'Overview of {df.station_fi.iloc[0]} at ({df.station_lo.iloc[0]},{df.station_la.iloc[0]})')\n",
    "plt.legend(bbox_to_anchor=(1.33, +0.105));\n",
    "\n",
    "# plt.savefig(f'Figures/Overview {df.station_fi.iloc[0]}.jpg')"
   ]
  },
  {
   "cell_type": "markdown",
   "id": "de1d47bb",
   "metadata": {},
   "source": [
    "#### Create a mask from the circles"
   ]
  },
  {
   "cell_type": "code",
   "execution_count": null,
   "id": "88b474a8",
   "metadata": {},
   "outputs": [],
   "source": [
    "filepath = UK[raster_id_n]\n",
    "with rasterio.open(f\"DEM data/{filepath}/{filepath}/w001001.adf\") as src:\n",
    "    crop_image, crop_transform = rasterio.mask.mask(dataset=src,\n",
    "                                                    shapes=gauges_circle.query(f\"index == {n}\").geometry,\n",
    "                                                    crop=True)\n",
    "    crop_meta = src.meta.copy()"
   ]
  },
  {
   "cell_type": "markdown",
   "id": "5faf10f0",
   "metadata": {},
   "source": [
    "#### update the meta data, using that of the mask"
   ]
  },
  {
   "cell_type": "code",
   "execution_count": null,
   "id": "eb3ff979",
   "metadata": {},
   "outputs": [],
   "source": [
    "crop_meta.update({\"driver\": \"GTiff\",\n",
    "                  \"height\": crop_image.shape[1],\n",
    "                  \"width\": crop_image.shape[2],\n",
    "                  \"transform\": crop_transform})"
   ]
  },
  {
   "cell_type": "markdown",
   "id": "4c83466d",
   "metadata": {},
   "source": [
    "#### Write the corresponding image to file \n",
    "note the 'w' means we're writing it"
   ]
  },
  {
   "cell_type": "code",
   "execution_count": null,
   "id": "83abb61a",
   "metadata": {},
   "outputs": [],
   "source": [
    "with rasterio.open(f\"Cropped Data/{UK[raster_id_n]} - {n}.adf\",\"w\",**crop_meta) as dest:\n",
    "    dest.write(crop_image)"
   ]
  },
  {
   "cell_type": "markdown",
   "id": "60c9c557",
   "metadata": {},
   "source": [
    "#### The plot then shows that it works"
   ]
  },
  {
   "cell_type": "code",
   "execution_count": null,
   "id": "af8f9f86",
   "metadata": {},
   "outputs": [],
   "source": [
    "fig, ax = plt.subplots(1, figsize=(9, 7))\n",
    "with rasterio.open(f\"Cropped Data/{UK[raster_id_n]} - {n}.adf\") as cropped:\n",
    "    plot = rasterio.plot.show(cropped,ax=ax,cmap=\"terrain\")    \n",
    "    \n",
    "fig.colorbar(plot.get_images()[0], ax=ax, shrink=0.75, label=\"Height(m)\")\n",
    "df = gauges_circle.query(f\"index == {n}\")\n",
    "plt.plot(df.station_lo.iloc[n],df.station_la.iloc[n],\"ro\",markersize=10, label=\"Rain gauge\")\n",
    "plt.title(f'Surroundings of {df.station_fi.iloc[0]} at ({df.station_lo.iloc[0]},{df.station_la.iloc[0]})')\n",
    "plt.legend(bbox_to_anchor=(1.27, +0.105));\n",
    "# plt.savefig(f'Figures/Surroundings {df.station_fi.iloc[0]}.jpg')"
   ]
  },
  {
   "cell_type": "markdown",
   "id": "237c035c",
   "metadata": {},
   "source": [
    "#### We can combine the knowledge above into a function"
   ]
  },
  {
   "cell_type": "code",
   "execution_count": null,
   "id": "55739d52",
   "metadata": {},
   "outputs": [],
   "source": [
    "def Crop_raster(n):\n",
    "    \"\"\"\n",
    "    Takes index of gauges, computes mask, cuts it out by copying and adjusting meta data and savinf it \n",
    "    \"\"\"\n",
    "    raster_id_n = gauges_circle.raster_id.iloc[n] \n",
    "    filepath = UK[raster_id_n]\n",
    "    ## open the wanted cell and load the data, creating a mask\n",
    "#     print(gauges_circle.query(f\"index == {n}\").station_la, gauges_circle.query(f\"index == {n}\").station_lo)\n",
    "    with rasterio.open(f\"DEM data/{filepath}/{filepath}/w001001.adf\") as src:\n",
    "        crop_image, crop_transform = rasterio.mask.mask(dataset=src,\n",
    "                                                        shapes=gauges_circle.query(f\"index == {n}\").geometry,\n",
    "                                                        crop=True)\n",
    "        crop_meta = src.meta.copy()\n",
    "\n",
    "    ## reassign new meta data \n",
    "    crop_meta.update({\"driver\": \"GTiff\",\n",
    "                      \"height\": crop_image.shape[1],\n",
    "                      \"width\": crop_image.shape[2],\n",
    "                      \"transform\": crop_transform})\n",
    "    ## save with new meta data\n",
    "    with rasterio.open(f\"Cropped Data/{UK[raster_id_n]} - {n}.adf\",\"w\",**crop_meta) as dest:\n",
    "        dest.write(crop_image)"
   ]
  },
  {
   "cell_type": "markdown",
   "id": "d2180df1",
   "metadata": {},
   "source": [
    "####  loop over it for all a given range of indexes"
   ]
  },
  {
   "cell_type": "code",
   "execution_count": null,
   "id": "8b1d74a4",
   "metadata": {},
   "outputs": [],
   "source": [
    "def Crop_raster_all(total):\n",
    "    for i in range(total):\n",
    "        Crop_raster(i)\n",
    "### run if previous changes have been made, mainly mask size but should be fine at 0.025 = 60x60px = 3x3km\n",
    "# Crop_raster_all(365)"
   ]
  },
  {
   "cell_type": "markdown",
   "id": "9818a91c",
   "metadata": {},
   "source": [
    "#### and then also plot these data, with a bunch of extra options  "
   ]
  },
  {
   "cell_type": "code",
   "execution_count": null,
   "id": "ec01aa94",
   "metadata": {},
   "outputs": [],
   "source": [
    "def plot_cropped_raster(n, plot_hist=False, zoom_in=False, save=False):\n",
    "    \"\"\"\n",
    "    Takes index of gauges DF retrieves the file and plots it.\n",
    "    \"\"\"\n",
    "    raster_id_n = gauges_circle.raster_id.iloc[n] \n",
    "    filepath = UK[raster_id_n]\n",
    "    \n",
    "    # creating figures:    \n",
    "    fig1, ax1 = plt.subplots(1, figsize=(10, 10));\n",
    "#     fig1 = plt.figure(figsize=(12,12))\n",
    "    if plot_hist:\n",
    "        fig2, ax2 = plt.subplots(1, figsize=(7, 5))  \n",
    "    \n",
    "    with rasterio.open(f\"Cropped Data/{UK[raster_id_n]} - {n}.adf\") as cropped:\n",
    "        plot = rasterio.plot.show(cropped, ax=ax1,cmap=\"terrain\");\n",
    "        if plot_hist:\n",
    "            rasterio.plot.show_hist(cropped, ax=ax2, bins=10, \n",
    "                                    lw=0.0, stacked=False, alpha=0.9,\n",
    "                                    histtype='stepfilled', title=\"Histogram\")\n",
    "    # post plotting\n",
    "    fig1.colorbar(plot.get_images()[0], ax=ax1, shrink=0.75, label=\"Height(m)\")\n",
    "    df = gauges_circle.query(f\"index == {n}\")\n",
    "    ax1.plot(df.station_lo.iloc[0], df.station_la.iloc[0], \"ro\", markersize=5, label=\"Rain gauge\")\n",
    "    ax1.set_title(f'Surroundings of {df.station_fi.iloc[0]} at ({df.station_lo.iloc[0]},{df.station_la.iloc[0]})',\n",
    "                 pad=18);\n",
    "    zoomed = \"\"\n",
    "    if zoom_in:\n",
    "        # probably a better way to dit it but this works, as only 3 decimal palces this gives an esimate of accuracy\n",
    "        ax1.vlines([df.station_lo.iloc[0]+ 0.0005, df.station_lo.iloc[0]-0.0005],\n",
    "                   df.station_la.iloc[0] - 0.05,df.station_la.iloc[0] + 0.05, \n",
    "                   color=\"red\",linestyles=\"dashed\")\n",
    "        ax1.hlines([df.station_la.iloc[0]+ 0.0005, df.station_la.iloc[0]-0.0005],\n",
    "                   df.station_lo.iloc[0] - 0.05,df.station_lo.iloc[0] + 0.05, \n",
    "                   color=\"red\",label=\"accuracy limit\",linestyles=\"dashed\")\n",
    "        ax1.set_xlim([df.station_lo.iloc[0]+ 0.005, df.station_lo.iloc[0]-0.005])\n",
    "        ax1.set_ylim([df.station_la.iloc[0]+ 0.005, df.station_la.iloc[0]-0.005])\n",
    "        zoomed = \" zoomed-in \"\n",
    "        \n",
    "    if plot_hist:\n",
    "        ax2.legend(\"\")\n",
    "        ax2.set_xlabel(\"Height above MSL\");\n",
    "    \n",
    "    ax1.legend(bbox_to_anchor=(1.25, +0.04));\n",
    "    if save:\n",
    "        ax1.figure.savefig(f\"Plots/{n} - Surroundings of {df.station_fi.iloc[0]}{zoomed}.jpg\")"
   ]
  },
  {
   "cell_type": "markdown",
   "id": "4d39742b",
   "metadata": {},
   "source": [
    "#### Which in turn looks like this"
   ]
  },
  {
   "cell_type": "code",
   "execution_count": null,
   "id": "8790d3aa",
   "metadata": {},
   "outputs": [],
   "source": [
    "i = 0\n",
    "plot_cropped_raster(i, False, False, False)"
   ]
  },
  {
   "cell_type": "code",
   "execution_count": null,
   "id": "e9988341",
   "metadata": {},
   "outputs": [],
   "source": [
    "# nice plots: #2 is on a mountain, #113 in the water & # 207 too\n",
    "for i in range(113,114):\n",
    "    plot_cropped_raster(i, False, True, False)"
   ]
  },
  {
   "cell_type": "markdown",
   "id": "5c156c20",
   "metadata": {},
   "source": [
    "#### Just plotting it isn't enough, we want actual data about the pixel"
   ]
  },
  {
   "cell_type": "code",
   "execution_count": null,
   "id": "92fb5dac",
   "metadata": {},
   "outputs": [],
   "source": [
    "def get_raster_pixel(n): \n",
    "    \"\"\"\n",
    "    Takes index of gauges DF clip the file, finds location and plots it\n",
    "    \"\"\"\n",
    "    raster_id_n = gauges_circle.raster_id.iloc[n] \n",
    "    filepath = UK[raster_id_n]  \n",
    "    \n",
    "    df = gauges_circle.query(f\"index == {n}\")\n",
    "    with rasterio.open(f\"Cropped Data/{UK[raster_id_n]} - {n}.adf\") as cropped:\n",
    "        array = cropped.read(1)\n",
    "        \n",
    "        # own boilerplate code\n",
    "        bounds = cropped.bounds\n",
    "        loc_lo = int(((-bounds[0] + df.station_lo.iloc[0]) * array.shape[0]) / (-bounds[0] + bounds[2]))\n",
    "        loc_la = int(((-bounds[1] + df.station_la.iloc[0]) * array.shape[1]) / (-bounds[1] + bounds[3]))\n",
    "        \n",
    "        # there is also a built in method... lets use that\n",
    "        coords = rasterio.transform.rowcol(cropped.transform, df.station_lo.iloc[0], df.station_la.iloc[0])\n",
    "        \n",
    "        # should be doable with the build in sample but i couldn't get it to work\n",
    "#         out = rasterio.sample.sample_gen(cropped,(df.station_lo.iloc[0],df.station_la.iloc[0]))\n",
    "#         out = cropped.sample((df.station_lo.iloc[0],df.station_la.iloc[0])\n",
    "\n",
    "    # df.station_el.iloc[0]\n",
    "    return array[coords[0],coords[1]]"
   ]
  },
  {
   "cell_type": "markdown",
   "id": "cb0b167a",
   "metadata": {},
   "source": [
    "#### We want to do it for the whole data frame so we apply it:\n",
    "Again some resetting of indices to do some work arounds "
   ]
  },
  {
   "cell_type": "code",
   "execution_count": null,
   "id": "2624c5ec",
   "metadata": {},
   "outputs": [],
   "source": [
    "run = True\n",
    "if run:\n",
    "    # only run to reset colums\n",
    "    gauges_circle.reset_index(inplace=True)\n",
    "    gauges_circle.reset_index(inplace=True)\n",
    "    gauges_circle.drop(columns=\"index\",inplace=True)\n",
    "    gauges_circle[\"computed_height\"] = gauges_circle.level_0.apply(get_raster_pixel)\n",
    "    gauges_circle[\"difference_height\"] = abs(gauges_circle.station_el - gauges_circle.computed_height)"
   ]
  },
  {
   "cell_type": "markdown",
   "id": "f4d9e5ee",
   "metadata": {},
   "source": [
    "#### Then do some data exploration"
   ]
  },
  {
   "cell_type": "code",
   "execution_count": null,
   "id": "28fd2860",
   "metadata": {},
   "outputs": [],
   "source": [
    "# Calculate some statistics\n",
    "less_than_3000 = gauges_circle.query(\"difference_height < 3000\").src_id.count()\n",
    "less_than_10 = gauges_circle.query(\"difference_height < 10\").src_id.count()\n",
    "less_than_5 = gauges_circle.query(\"difference_height < 5\").src_id.count()\n",
    "\n",
    "# plot as points\n",
    "gauges_circle.query(\"difference_height < 3000\").difference_height.plot(style=\"o\",label=f\"{less_than_3000}\")\n",
    "\n",
    "# set labels\n",
    "title = \"Absolute difference in height between given and calculated elevation\"\n",
    "plt.title(title)\n",
    "plt.xlabel(\"Index\")\n",
    "plt.ylabel(\"Height (m)\")\n",
    "\n",
    "# add lines\n",
    "plt.axhline(10,color=\"red\", linestyle=\"dashed\",alpha=0.5,label=f\"{less_than_10}\")\n",
    "plt.axhline(5,color=\"red\", linestyle=\"dashed\",alpha=1,label=f\"{less_than_5}\")\n",
    "plt.legend()\n",
    "\n",
    "# save fig\n",
    "# plt.savefig(f\"Figures/{title}.jpg\")"
   ]
  },
  {
   "cell_type": "markdown",
   "id": "684a0f38",
   "metadata": {},
   "source": [
    "#### Query the data"
   ]
  },
  {
   "cell_type": "code",
   "execution_count": null,
   "id": "6584dfa6",
   "metadata": {},
   "outputs": [],
   "source": [
    "gauges_circle.query(\"difference_height > 3000\")"
   ]
  },
  {
   "cell_type": "code",
   "execution_count": null,
   "id": "d4f1a494",
   "metadata": {},
   "outputs": [],
   "source": [
    "run = False\n",
    "if run:\n",
    "    for i in gauges_circle.query(\"difference_height > 30\").index:\n",
    "        plot_cropped_raster(i, False, True)\n",
    "        print(get_raster_pixel(i))"
   ]
  },
  {
   "cell_type": "markdown",
   "id": "b1b431ad",
   "metadata": {},
   "source": [
    "#### However just one point isn't enough, we want to look in different directions"
   ]
  },
  {
   "cell_type": "code",
   "execution_count": null,
   "id": "95cb079e",
   "metadata": {},
   "outputs": [],
   "source": [
    "def get_array_given_orientation(n, kind, clip=False): \n",
    "    \"\"\"\n",
    "    Takes index of gauges df, retrieves the file, return array of height data in the specified orientation\n",
    "    \"\"\"\n",
    "    raster_id_n = gauges_circle.raster_id.iloc[n] \n",
    "    filepath = UK[raster_id_n]  \n",
    "    \n",
    "    df = gauges_circle.query(f\"index == {n}\")\n",
    "    with rasterio.open(f\"Cropped Data/{UK[raster_id_n]} - {n}.adf\") as cropped:\n",
    "        array = cropped.read(1)\n",
    "        coords = rasterio.transform.rowcol(cropped.transform, df.station_lo.iloc[0], df.station_la.iloc[0])\n",
    "    if kind == \"ew\":\n",
    "        if clip:\n",
    "            new_lst = []\n",
    "            for i in array[coords[0],:]:\n",
    "                if i >= 0:\n",
    "                    new_lst.append(i)\n",
    "                else:\n",
    "                    new_lst.append(-1)\n",
    "            return new_lst, coords[0]\n",
    "        else:\n",
    "            return array[coords[0],:], coords[0]\n",
    "        \n",
    "    elif kind == \"ns\":\n",
    "        if clip:\n",
    "            new_lst = []\n",
    "            for i in array[:,coords[1]]:\n",
    "                if i >= 0:\n",
    "                    new_lst.append(i)\n",
    "                else:\n",
    "                    new_lst.append(-1)\n",
    "            return new_lst, coords[1]\n",
    "\n",
    "        else:\n",
    "            return array[:,coords[1]], coords[1]\n",
    "    elif kind == \"nw-se\" or kind == \"ne-sw\":\n",
    "        if kind == \"nw-se\": \n",
    "            diagonal_array = np.diagonal(array)\n",
    "        else:\n",
    "            diagonal_array = np.fliplr(array).diagonal()\n",
    "        if clip:\n",
    "            new_lst = []\n",
    "            for i in diagonal_array:\n",
    "                if i >= 0:\n",
    "                    new_lst.append(i)\n",
    "                else:\n",
    "                    new_lst.append(-1)\n",
    "            return new_lst, coords[1]\n",
    "\n",
    "        else:\n",
    "            return diagonal_array, coords[1]\n",
    "\n",
    "        \n",
    "    else:\n",
    "        ### no knid given\n",
    "        print(\"incorrect kind\")"
   ]
  },
  {
   "cell_type": "markdown",
   "id": "f82cfff5",
   "metadata": {},
   "source": [
    "#### Having the data, we also want to plot it:"
   ]
  },
  {
   "cell_type": "code",
   "execution_count": null,
   "id": "28d4ef9c",
   "metadata": {},
   "outputs": [],
   "source": [
    "def plot_gauge(n, kind=\"ew\", clip=True, save=False):\n",
    "    \"\"\"\n",
    "    Function which takes index of a gauge and what kind of plot wanted\n",
    "    \"\"\"\n",
    "    # make the 'kind' readable\n",
    "    label = {\"ew\":\"East to west\",\n",
    "               \"ns\": \"North to south\",\n",
    "            \"nw-se\": \"North-west to south-east\",\n",
    "            \"ne-sw\": \"North-east to south-west\"}\n",
    "    \n",
    "    if kind in label:\n",
    "        array, gauge_loc = get_array_given_orientation(n, kind, clip)\n",
    "        # plotting\n",
    "        fig, ax = plt.subplots(1, figsize=(4, 4));\n",
    "        ax.plot(array, label=label[kind])\n",
    "        ax.axhline(-1,color='g',label=\"End map\", alpha=0.5)\n",
    "        ax.plot(gauge_loc,get_raster_pixel(n),\"ro\",label=\"Gauge\")\n",
    "        ax.legend(bbox_to_anchor=(1.00, -0.14))\n",
    "        ### avoid using \"#\" in names: latex doesnt like it\n",
    "        title = f\"Profile of slope around gauge n{n}\"\n",
    "        ax.set_title(title)\n",
    "        ax.set_xlabel(\"Pixels\")\n",
    "        ax.set_ylabel(\"Height[m]\")\n",
    "        if save:\n",
    "            fig.set_figheight(7)\n",
    "            fig.set_figwidth(7)\n",
    "            ax.legend()\n",
    "            ax.figure.savefig(f'{title}{kind}.jpg')\n",
    "            \n",
    "    \n",
    "    # recursively calls all the options & plots\n",
    "    elif kind == \"all\":\n",
    "        # plotting fancy\n",
    "        kind_array = [[\"ew\",\"ns\"],[\"nw-se\",\"ne-sw\"]]\n",
    "        fig, ax = plt.subplots(2,2,constrained_layout=True, figsize=(8, 8));\n",
    "        title = f\"Profile of slope around gauge n{n}\"\n",
    "        fig.suptitle(title,y=1.04,fontsize=16)\n",
    "        # fig.tight_layout()\n",
    "        for i in range(2):\n",
    "            for j in range(2):\n",
    "                kind = kind_array[i][j]\n",
    "                array, gauge_loc = get_array_given_orientation(n, kind, clip)\n",
    "                ax[i,j].plot(array)\n",
    "                ax[i,j].axhline(-1,color='g',label=\"End map\", alpha=0.5)\n",
    "                ax[i,j].plot(gauge_loc,get_raster_pixel(n),\"ro\",label=\"Gauge\")\n",
    "                ax[i,j].set_title(f\"Slope {label[kind]}\")\n",
    "                ax[1,j].set_xlabel(\"Pixels\")\n",
    "                ax[i,0].set_ylabel(\"Height[m]\")\n",
    "                ax[0,j].get_xaxis().set_visible(False)\n",
    "                ax[i,1].get_yaxis().set_visible(False)\n",
    "\n",
    "        ax[1,1].legend(bbox_to_anchor=(1.00, -0.05))\n",
    "        \n",
    "        if save:\n",
    "            plt.savefig(f'{title} - all.jpg');   \n",
    "#         for i in label:\n",
    "#             plot_gauge(n,i)    \n",
    "    \n",
    "    else:\n",
    "        print(\"incorrect kind\")    "
   ]
  },
  {
   "cell_type": "markdown",
   "id": "57eebdba",
   "metadata": {},
   "source": [
    "#### Which looks like this"
   ]
  },
  {
   "cell_type": "code",
   "execution_count": null,
   "id": "cb0bf8f7",
   "metadata": {},
   "outputs": [],
   "source": [
    "i = 0\n",
    "plot_gauge(i,\"all\",clip=True, save=False)\n",
    "plot_cropped_raster(i, False, False, False)"
   ]
  },
  {
   "cell_type": "markdown",
   "id": "819c779a",
   "metadata": {},
   "source": [
    "#### helper function to return bounds:"
   ]
  },
  {
   "cell_type": "code",
   "execution_count": null,
   "id": "52dfd29f",
   "metadata": {},
   "outputs": [],
   "source": [
    "def get_bounds(n): \n",
    "    \"\"\"\n",
    "    Helper function to get bounds of area\n",
    "    \"\"\"\n",
    "    raster_id_n = gauges_circle.raster_id.iloc[n] \n",
    "    filepath = UK[raster_id_n]  \n",
    "    with rasterio.open(f\"Cropped Data/{UK[raster_id_n]} - {n}.adf\") as cropped:\n",
    "        bounds = cropped.bounds\n",
    "    return bounds"
   ]
  },
  {
   "cell_type": "markdown",
   "id": "68139fc5",
   "metadata": {},
   "source": [
    "#### Helper function to return the distance of beteween a pixel"
   ]
  },
  {
   "cell_type": "code",
   "execution_count": null,
   "id": "1414ecc3",
   "metadata": {},
   "outputs": [],
   "source": [
    "# need resolution between each pixel:\n",
    "# we know the resolution is 3 arc seconds: \n",
    "# verified here https://www.opendem.info/arc2meters.html\n",
    "def distance_between_px(n):\n",
    "    one_arc_second = np.cos(gauges_circle.station_la.iloc[n] * np.pi / 180) * (1852/60)\n",
    "    return one_arc_second * 3\n",
    "    "
   ]
  },
  {
   "cell_type": "markdown",
   "id": "535f0611",
   "metadata": {},
   "source": [
    "#### computes slope steepness:"
   ]
  },
  {
   "cell_type": "code",
   "execution_count": null,
   "id": "8f9e9e5d",
   "metadata": {},
   "outputs": [],
   "source": [
    "def slope_steepness(n, kind=\"ns\", n_px=1):\n",
    "    \"\"\"\n",
    "    Given an index, direction and length to consider, calculate: \n",
    "    rise / run * 100%\n",
    "    rise = 50m per contour\n",
    "    run  = computed distance\n",
    "    Note in order of direction, meaning a slope ns with positive implies north is higher than south, \n",
    "    this also allows us to get the direction of slope: \n",
    "    \"\"\"\n",
    "    # get the araay\n",
    "    array, location = get_array_given_orientation(n,kind)\n",
    "    \n",
    "    # crop down to the length to consider\n",
    "    array_cropped = array[location-n_px:location+n_px+1]\n",
    "    \n",
    "    # remove any cut out pixels < -3000\n",
    "    array_cropped = array_cropped[array_cropped >= -3000]\n",
    "    \n",
    "    #average_method \n",
    "    diff = []\n",
    "    for index, item in enumerate(array_cropped):\n",
    "        if index < len(array_cropped) - 1:\n",
    "            rise = item - array_cropped[index+1]\n",
    "            diff.append(rise)\n",
    "            \n",
    "    return ( (sum(diff)/(len(diff)-1)) / distance_between_px(n) ) * 100"
   ]
  },
  {
   "cell_type": "markdown",
   "id": "44242031",
   "metadata": {},
   "source": [
    "#### Runs over the previous function:"
   ]
  },
  {
   "cell_type": "code",
   "execution_count": null,
   "id": "db08dec0",
   "metadata": {},
   "outputs": [],
   "source": [
    "def slope_steepness_all_orientations(n, n_px=1): \n",
    "    \"\"\"\n",
    "    Function to check slope steepness in all directions\n",
    "    \"\"\"\n",
    "    label = {\"ew\":\"East to west\",\n",
    "                   \"ns\": \"North to south\",\n",
    "                \"nw-se\": \"North-west to south-east\",\n",
    "                \"ne-sw\": \"North-east to south-west\"}\n",
    "    \n",
    "    lst = []\n",
    "    for orientation in label:\n",
    "        lst.append(slope_steepness(n,orientation,n_px))\n",
    "    return lst"
   ]
  },
  {
   "cell_type": "markdown",
   "id": "73f4a34d",
   "metadata": {},
   "source": [
    "#### Amount of pixels we include can vary: this takes this into account:"
   ]
  },
  {
   "cell_type": "code",
   "execution_count": null,
   "id": "c40a18bc",
   "metadata": {},
   "outputs": [],
   "source": [
    "def plot_varying_n_px(lst,subplots=True,save=False):\n",
    "    for i in lst:\n",
    "        lst = []\n",
    "        for j in range(1,30):\n",
    "            n_px = j\n",
    "            lst.append(slope_steepness_all_orientations(i,n_px))\n",
    "        if subplots:\n",
    "            fig, ax = plt.subplots(1,figsize=(4,4))\n",
    "            ax.plot(lst)\n",
    "            legend = [\"East to west\",\"North to south\",\"North-west to south-east\",\"North-east to south-west\"]\n",
    "            ax.legend(legend,bbox_to_anchor=(1.8,0.35))\n",
    "            ax.set_xlabel(\"pixels taken into account\")\n",
    "            ax.set_ylabel(\"Corresponding slope percentage\")\n",
    "            title = f\"Varying pixels for gauge n{i}\"\n",
    "            ax.set_title(title)\n",
    "            if save:\n",
    "                fig.set_figheight(7)\n",
    "                fig.set_figwidth(7)\n",
    "                ax.legend(legend)\n",
    "                ax.figure.savefig(f'{title}.jpg',bbox_extra_artists=[\"legend\"])\n",
    "                \n",
    "        else:\n",
    "            plt.plot(lst)\n",
    "\n",
    "    if not subplots:\n",
    "    # set art for all \n",
    "        plt.legend([\"East to west\",\"North to south\",\"North-west to south-east\",\"North-east to south-west\"],\n",
    "                          bbox_to_anchor=(1,-0.15))\n",
    "        plt.xlabel(\"pixels taken into account\")\n",
    "        plt.ylabel(\"Corresponding slope percentage\")\n",
    "        title = f\"Overview of slope percentage varying pixel amounts\"\n",
    "        plt.title(title)      \n",
    "        if save:\n",
    "            plt.savefig(f\"{title}.jpg\")"
   ]
  },
  {
   "cell_type": "markdown",
   "id": "351abc8f",
   "metadata": {},
   "source": [
    "#### Looks like this:"
   ]
  },
  {
   "cell_type": "code",
   "execution_count": null,
   "id": "62d523d6",
   "metadata": {},
   "outputs": [],
   "source": [
    "plot_varying_n_px(range(0,1),subplots=True,save=False)"
   ]
  },
  {
   "cell_type": "markdown",
   "id": "9d2c61f5",
   "metadata": {},
   "source": [
    "#### The max steepness is most interesting:"
   ]
  },
  {
   "cell_type": "code",
   "execution_count": null,
   "id": "d5b2e2ba",
   "metadata": {},
   "outputs": [],
   "source": [
    "def slope_steepness_max(n, n_px=5): \n",
    "    \"\"\"\n",
    "    Function to return the steepest slope of the given directions\n",
    "    \"\"\"\n",
    "    label = {\"ew\":\"East to west\",\n",
    "                   \"ns\": \"North to south\",\n",
    "                \"nw-se\": \"North-west to south-east\",\n",
    "                \"ne-sw\": \"North-east to south-west\"}\n",
    "    lst_abs = []\n",
    "    lst = []\n",
    "    for orientation in label:\n",
    "        percentage = slope_steepness(n,orientation,n_px)\n",
    "        lst_abs.append(abs(percentage))\n",
    "        lst.append(percentage)\n",
    "    return round(lst[lst_abs.index(max(lst_abs))],2)"
   ]
  },
  {
   "cell_type": "markdown",
   "id": "366e3e47",
   "metadata": {},
   "source": [
    "#### however also want absolute to compare it"
   ]
  },
  {
   "cell_type": "code",
   "execution_count": null,
   "id": "09e504eb",
   "metadata": {},
   "outputs": [],
   "source": [
    "def slope_steepness_max_abs(n, n_px=5): \n",
    "    \"\"\"\n",
    "    Function to return the steepest slope of the given directions\n",
    "    \"\"\"\n",
    "    label = {\"ew\":\"East to west\",\n",
    "                   \"ns\": \"North to south\",\n",
    "                \"nw-se\": \"North-west to south-east\",\n",
    "                \"ne-sw\": \"North-east to south-west\"}\n",
    "    lst_abs = []\n",
    "    lst = []\n",
    "    for orientation in label:\n",
    "        percentage = slope_steepness(n,orientation,n_px)\n",
    "        lst_abs.append(abs(percentage))\n",
    "        lst.append(percentage)\n",
    "    return round(max(lst_abs),2)"
   ]
  },
  {
   "cell_type": "markdown",
   "id": "3c032f16",
   "metadata": {},
   "source": [
    "#### And want to know in what direction it's in"
   ]
  },
  {
   "cell_type": "code",
   "execution_count": null,
   "id": "dd90e519",
   "metadata": {},
   "outputs": [],
   "source": [
    "def slope_steepness_max_direction(n, n_px=5): \n",
    "    \"\"\"\n",
    "    Function the direction in which the slope is steepest\n",
    "    \"\"\"\n",
    "    label = [\"ew\",\"ns\",\"nw-se\",\"ne-sw\"]\n",
    "    lst_abs = []\n",
    "    for orientation in label:\n",
    "        percentage = slope_steepness(n,orientation,n_px)\n",
    "        lst_abs.append(abs(percentage))\n",
    "    return label[lst_abs.index(max(lst_abs))]"
   ]
  },
  {
   "cell_type": "code",
   "execution_count": null,
   "id": "3e19ecc3",
   "metadata": {},
   "outputs": [],
   "source": [
    "slope_steepness_max_direction(0)"
   ]
  },
  {
   "cell_type": "code",
   "execution_count": null,
   "id": "2099a40a",
   "metadata": {},
   "outputs": [],
   "source": [
    "gauges_circle.sort_values(\"station_la\",ascending=False).head(2)"
   ]
  },
  {
   "cell_type": "code",
   "execution_count": null,
   "id": "3546046f",
   "metadata": {},
   "outputs": [],
   "source": [
    "distance_between_px(170),distance_between_px(0)"
   ]
  },
  {
   "cell_type": "markdown",
   "id": "5155b402",
   "metadata": {},
   "source": [
    "### Apply these functions dataframe wide:"
   ]
  },
  {
   "cell_type": "code",
   "execution_count": null,
   "id": "ed98072b",
   "metadata": {},
   "outputs": [],
   "source": [
    "gauges_circle[\"slope_steepness\"] = gauges_circle.level_0.apply(slope_steepness_max)\n",
    "gauges_circle[\"abs_slope_steepness\"] = gauges_circle.level_0.apply(slope_steepness_max_abs)\n",
    "gauges_circle[\"dir_slope_steepness\"] = gauges_circle.level_0.apply(slope_steepness_max_direction)"
   ]
  },
  {
   "cell_type": "markdown",
   "id": "59afeab7",
   "metadata": {},
   "source": [
    "# Explore these data:"
   ]
  },
  {
   "cell_type": "code",
   "execution_count": null,
   "id": "eece1c19",
   "metadata": {},
   "outputs": [],
   "source": [
    "gauges_circle.abs_slope_steepness.plot(kind='box',label=\"Absolute slope steepness\")\n",
    "title = \"Boxplot showing distribution of slope steepness\"\n",
    "plt.title(title)\n",
    "plt.ylabel(\"Steepness(%)\")\n",
    "# plt.savefig(f\"{title}.jpg\")"
   ]
  },
  {
   "cell_type": "code",
   "execution_count": null,
   "id": "52941ba3",
   "metadata": {},
   "outputs": [],
   "source": [
    "IQR = gauges_circle.abs_slope_steepness.quantile(q=0.75) - gauges_circle.abs_slope_steepness.quantile(q=0.25)\n",
    "Outlier_threshold = gauges_circle.abs_slope_steepness.quantile(q=0.75) + 1.5 * IQR\n",
    "print(Outlier_threshold)\n",
    "outliers = gauges_circle.query(f\"abs_slope_steepness > {Outlier_threshold}\")\n",
    "print(outliers.src_id.count())\n",
    "outliers_removed = gauges_circle.query(f\"abs_slope_steepness < {Outlier_threshold}\")"
   ]
  },
  {
   "cell_type": "markdown",
   "id": "9e1353aa",
   "metadata": {},
   "source": [
    "#### Save the data:"
   ]
  },
  {
   "cell_type": "code",
   "execution_count": null,
   "id": "e8e77651",
   "metadata": {},
   "outputs": [],
   "source": []
  },
  {
   "cell_type": "code",
   "execution_count": null,
   "id": "3967f186",
   "metadata": {},
   "outputs": [],
   "source": [
    "run = False\n",
    "if run:    \n",
    "    gauges_circle.to_csv(\"Slopes computed from DEM/Slopes computed from DEM.csv\")\n",
    "    outliers.to_csv(\"Sloped computed from DEM - outliers/Sloped computed from DEM - outliers.csv\")"
   ]
  },
  {
   "cell_type": "code",
   "execution_count": null,
   "id": "66d3a68b",
   "metadata": {},
   "outputs": [],
   "source": [
    "gauges_circle.head(1)"
   ]
  },
  {
   "cell_type": "markdown",
   "id": "441ca670",
   "metadata": {},
   "source": [
    "### look closer at outliers"
   ]
  },
  {
   "cell_type": "code",
   "execution_count": null,
   "id": "90e8fcd2",
   "metadata": {},
   "outputs": [],
   "source": [
    "extremes = gauges_circle.query(\"abs_slope_steepness > 30\")\\\n",
    "                                .sort_values(\"abs_slope_steepness\",ascending=False)\\\n",
    "                                .level_0.to_list()\n",
    "print(extremes)\n",
    "gauges_circle.query(\"abs_slope_steepness > 30\").sort_values(\"abs_slope_steepness\",ascending=False).head(2)"
   ]
  },
  {
   "cell_type": "markdown",
   "id": "298e9d43",
   "metadata": {},
   "source": [
    "### Easiest with plots"
   ]
  },
  {
   "cell_type": "code",
   "execution_count": null,
   "id": "2ee0508b",
   "metadata": {},
   "outputs": [],
   "source": [
    "# 283\n",
    "# 126 is just very steep\n",
    "\n",
    "# for i in extremes:\n",
    "#     plot_gauge(i,\"all\")\n",
    "i=329\n",
    "plot_gauge(i,\"all\")"
   ]
  },
  {
   "cell_type": "code",
   "execution_count": null,
   "id": "0d2284a4",
   "metadata": {},
   "outputs": [],
   "source": [
    "i = 329\n",
    "plot_cropped_raster(i,False, False, False)\n",
    "plot_varying_n_px([i])\n",
    "slope_steepness(i,\"nw-se\",5)\n",
    "get_array_given_orientation(i,\"ns\"), get_array_given_orientation(i,\"ns\")[0][30];"
   ]
  },
  {
   "cell_type": "code",
   "execution_count": null,
   "id": "9580bdbe",
   "metadata": {},
   "outputs": [],
   "source": [
    "outliers_removed.abs_slope_steepness.plot(kind='box',label=\"Absolute slope steepness\")\n",
    "title = \"Boxplot showing distribution of slope steepness (without initial outliers)\"\n",
    "plt.title(title)\n",
    "plt.ylabel(\"Steepness(%)\");\n",
    "# plt.savefig(f\"{title}.jpg\")"
   ]
  }
 ],
 "metadata": {
  "kernelspec": {
   "display_name": "Python 3 (ipykernel)",
   "language": "python",
   "name": "python3"
  },
  "language_info": {
   "codemirror_mode": {
    "name": "ipython",
    "version": 3
   },
   "file_extension": ".py",
   "mimetype": "text/x-python",
   "name": "python",
   "nbconvert_exporter": "python",
   "pygments_lexer": "ipython3",
   "version": "3.10.2"
  }
 },
 "nbformat": 4,
 "nbformat_minor": 5
}
